{
  "cells": [
    {
      "cell_type": "markdown",
      "metadata": {
        "id": "O3OwK2jtNgUU"
      },
      "source": [
        "# **NOTEBOOK DE QUÍMICA CUÁNTICA**"
      ]
    },
    {
      "cell_type": "code",
      "execution_count": null,
      "metadata": {
        "id": "kc7Q3Y27Oy7R"
      },
      "outputs": [],
      "source": [
        "import numpy as np\n",
        "from scipy import constants"
      ]
    },
    {
      "cell_type": "markdown",
      "metadata": {
        "id": "wtgigcwaNv3s"
      },
      "source": [
        "# **Efecto tunel, coeficiente de transmisión:**\n",
        "Con esta celda puedes calcular el coeficiente de transmisión T, dada una barrera cuadrada de potencial finito V con ancho L, sabiendo la energía E de las partículas que experimentan el efecto túnel"
      ]
    },
    {
      "cell_type": "code",
      "execution_count": null,
      "metadata": {
        "colab": {
          "base_uri": "https://localhost:8080/"
        },
        "id": "gCxvB9IdNuuf",
        "outputId": "63b751e0-46a3-405c-bf66-12765a0c98c3"
      },
      "outputs": [
        {
          "output_type": "stream",
          "name": "stdout",
          "text": [
            "Inserta el valor de la barrera de potencial:  9.6e-19\n",
            "Inserta el valor de la longitud de dicha barrera:  3e-10\n",
            "Inserta el valor de la energía de las partículas:  6.4e-19\n",
            "Inserta el valor de la masa de las partículas:  9.10938291e-31\n",
            "El número de onda k tiene un valor de: 7240329065.152104\n",
            "El coeficiente de transmisión T tiene un valor de: 0.04523680743086198\n"
          ]
        }
      ],
      "source": [
        "\n",
        "V= float(input(\"Inserta el valor de la barrera de potencial:  \"))\n",
        "L= float(input(\"Inserta el valor de la longitud de dicha barrera:  \"))\n",
        "E= float(input(\"Inserta el valor de la energía de las partículas:  \"))\n",
        "m= float(input(\"Inserta el valor de la masa de las partículas:  \"))\n",
        "k= (np.sqrt(2*m*(V-E)))/(constants.hbar)\n",
        "eps= E/V\n",
        "T= (1+( (( ((np.exp(k*L))-(np.exp(-1*k*L))) )**2) / (16*eps*(1-eps))  ))**-1\n",
        "print(\"El número de onda k tiene un valor de:\", k)\n",
        "print(\"El coeficiente de transmisión T tiene un valor de:\", T)"
      ]
    },
    {
      "cell_type": "markdown",
      "metadata": {
        "id": "GVfjAPGDGG0K"
      },
      "source": [
        "# **Oscilador Armónico Cuántico**"
      ]
    },
    {
      "cell_type": "code",
      "execution_count": null,
      "metadata": {
        "id": "fvgelf1AGGLw"
      },
      "outputs": [],
      "source": [
        "from scipy import special\n",
        "import matplotlib.pyplot as plt\n",
        "import numpy as np\n",
        "from sympy import *\n",
        "import sympy as sp\n",
        "import mpmath\n",
        "from IPython.display import display, Latex\n",
        "#Permite imprimir varias salidas en latex en una sola celda\n",
        "from IPython.core.interactiveshell import InteractiveShell\n",
        "InteractiveShell.ast_node_interactivity = 'all'"
      ]
    },
    {
      "cell_type": "code",
      "execution_count": null,
      "metadata": {
        "id": "3a9AXtuhPQ0s"
      },
      "outputs": [],
      "source": [
        "init_printing()"
      ]
    },
    {
      "cell_type": "markdown",
      "metadata": {
        "id": "yh96pT0LSPcJ"
      },
      "source": [
        "### **Polinomios de Hermite**\n"
      ]
    },
    {
      "cell_type": "markdown",
      "metadata": {
        "id": "E-FVxdWsXHD8"
      },
      "source": [
        "Obtener el polinomio de Hermite genérico con número vibracional v"
      ]
    },
    {
      "cell_type": "code",
      "execution_count": null,
      "metadata": {
        "colab": {
          "base_uri": "https://localhost:8080/",
          "height": 74
        },
        "id": "JXMP5VdvDDQI",
        "outputId": "0a487447-e5a5-4349-95df-06086ffdbb1d"
      },
      "outputs": [
        {
          "output_type": "stream",
          "name": "stdout",
          "text": [
            "El Polinomio de Hermite para v = 4 es: \n",
            "\n"
          ]
        },
        {
          "output_type": "execute_result",
          "data": {
            "text/plain": [
              "    4       2     \n",
              "16⋅x  - 48⋅x  + 12"
            ],
            "text/latex": "$\\displaystyle 16 x^{4} - 48 x^{2} + 12$"
          },
          "metadata": {},
          "execution_count": 11
        }
      ],
      "source": [
        "x = Symbol('x')\n",
        "#Defina a continuación, dando un valor a v el polinomio deseado\n",
        "v=4\n",
        "print(\"El Polinomio de Hermite para v =\",v,\"es: \\n\")\n",
        "sp.polys.orthopolys.hermite_poly(v,x=x)"
      ]
    },
    {
      "cell_type": "markdown",
      "metadata": {
        "id": "Qy4b9nAnC9Hi"
      },
      "source": [
        "Con los valores de alfa ya en el polinomio"
      ]
    },
    {
      "cell_type": "code",
      "execution_count": null,
      "metadata": {
        "colab": {
          "base_uri": "https://localhost:8080/",
          "height": 1000
        },
        "id": "5G_9F-tnH56x",
        "outputId": "a1227d1a-616a-4784-e4cf-140f3f64fa16"
      },
      "outputs": [
        {
          "output_type": "stream",
          "name": "stdout",
          "text": [
            "El Polinomio de Hermite para v = 0 es:\n"
          ]
        },
        {
          "output_type": "execute_result",
          "data": {
            "text/plain": [
              "1"
            ],
            "text/latex": "$\\displaystyle 1$"
          },
          "metadata": {},
          "execution_count": 74
        },
        {
          "output_type": "stream",
          "name": "stdout",
          "text": [
            "\n",
            "\n",
            "El Polinomio de Hermite para v = 1 es:\n"
          ]
        },
        {
          "output_type": "execute_result",
          "data": {
            "text/plain": [
              "2⋅√α⋅x"
            ],
            "text/latex": "$\\displaystyle 2 \\sqrt{\\alpha} x$"
          },
          "metadata": {},
          "execution_count": 74
        },
        {
          "output_type": "stream",
          "name": "stdout",
          "text": [
            "\n",
            "\n",
            "El Polinomio de Hermite para v = 2 es:\n"
          ]
        },
        {
          "output_type": "execute_result",
          "data": {
            "text/plain": [
              "     2    \n",
              "4⋅α⋅x  - 2"
            ],
            "text/latex": "$\\displaystyle 4 \\alpha x^{2} - 2$"
          },
          "metadata": {},
          "execution_count": 74
        },
        {
          "output_type": "stream",
          "name": "stdout",
          "text": [
            "\n",
            "\n",
            "El Polinomio de Hermite para v = 3 es:\n"
          ]
        },
        {
          "output_type": "execute_result",
          "data": {
            "text/plain": [
              "   3/2  3          \n",
              "8⋅α   ⋅x  - 12⋅√α⋅x"
            ],
            "text/latex": "$\\displaystyle 8 \\alpha^{\\frac{3}{2}} x^{3} - 12 \\sqrt{\\alpha} x$"
          },
          "metadata": {},
          "execution_count": 74
        },
        {
          "output_type": "stream",
          "name": "stdout",
          "text": [
            "\n",
            "\n",
            "El Polinomio de Hermite para v = 4 es:\n"
          ]
        },
        {
          "output_type": "execute_result",
          "data": {
            "text/plain": [
              "    2  4         2     \n",
              "16⋅α ⋅x  - 48⋅α⋅x  + 12"
            ],
            "text/latex": "$\\displaystyle 16 \\alpha^{2} x^{4} - 48 \\alpha x^{2} + 12$"
          },
          "metadata": {},
          "execution_count": 74
        },
        {
          "output_type": "stream",
          "name": "stdout",
          "text": [
            "\n",
            "\n",
            "El Polinomio de Hermite para v = 5 es:\n"
          ]
        },
        {
          "output_type": "execute_result",
          "data": {
            "text/plain": [
              "    5/2  5        3/2  3           \n",
              "32⋅α   ⋅x  - 160⋅α   ⋅x  + 120⋅√α⋅x"
            ],
            "text/latex": "$\\displaystyle 32 \\alpha^{\\frac{5}{2}} x^{5} - 160 \\alpha^{\\frac{3}{2}} x^{3} + 120 \\sqrt{\\alpha} x$"
          },
          "metadata": {},
          "execution_count": 74
        },
        {
          "output_type": "stream",
          "name": "stdout",
          "text": [
            "\n",
            "\n",
            "El Polinomio de Hermite para v = 6 es:\n"
          ]
        },
        {
          "output_type": "execute_result",
          "data": {
            "text/plain": [
              "    3  6        2  4          2      \n",
              "64⋅α ⋅x  - 480⋅α ⋅x  + 720⋅α⋅x  - 120"
            ],
            "text/latex": "$\\displaystyle 64 \\alpha^{3} x^{6} - 480 \\alpha^{2} x^{4} + 720 \\alpha x^{2} - 120$"
          },
          "metadata": {},
          "execution_count": 74
        },
        {
          "output_type": "stream",
          "name": "stdout",
          "text": [
            "\n",
            "\n",
            "El Polinomio de Hermite para v = 7 es:\n"
          ]
        },
        {
          "output_type": "execute_result",
          "data": {
            "text/plain": [
              "     7/2  7         5/2  5         3/2  3            \n",
              "128⋅α   ⋅x  - 1344⋅α   ⋅x  + 3360⋅α   ⋅x  - 1680⋅√α⋅x"
            ],
            "text/latex": "$\\displaystyle 128 \\alpha^{\\frac{7}{2}} x^{7} - 1344 \\alpha^{\\frac{5}{2}} x^{5} + 3360 \\alpha^{\\frac{3}{2}} x^{3} - 1680 \\sqrt{\\alpha} x$"
          },
          "metadata": {},
          "execution_count": 74
        },
        {
          "output_type": "stream",
          "name": "stdout",
          "text": [
            "\n",
            "\n",
            "El Polinomio de Hermite para v = 8 es:\n"
          ]
        },
        {
          "output_type": "execute_result",
          "data": {
            "text/plain": [
              "     4  8         3  6          2  4            2       \n",
              "256⋅α ⋅x  - 3584⋅α ⋅x  + 13440⋅α ⋅x  - 13440⋅α⋅x  + 1680"
            ],
            "text/latex": "$\\displaystyle 256 \\alpha^{4} x^{8} - 3584 \\alpha^{3} x^{6} + 13440 \\alpha^{2} x^{4} - 13440 \\alpha x^{2} + 1680$"
          },
          "metadata": {},
          "execution_count": 74
        },
        {
          "output_type": "stream",
          "name": "stdout",
          "text": [
            "\n",
            "\n",
            "El Polinomio de Hermite para v = 9 es:\n"
          ]
        },
        {
          "output_type": "execute_result",
          "data": {
            "text/plain": [
              "     9/2  9         7/2  7          5/2  5          3/2  3             \n",
              "512⋅α   ⋅x  - 9216⋅α   ⋅x  + 48384⋅α   ⋅x  - 80640⋅α   ⋅x  + 30240⋅√α⋅x"
            ],
            "text/latex": "$\\displaystyle 512 \\alpha^{\\frac{9}{2}} x^{9} - 9216 \\alpha^{\\frac{7}{2}} x^{7} + 48384 \\alpha^{\\frac{5}{2}} x^{5} - 80640 \\alpha^{\\frac{3}{2}} x^{3} + 30240 \\sqrt{\\alpha} x$"
          },
          "metadata": {},
          "execution_count": 74
        },
        {
          "output_type": "stream",
          "name": "stdout",
          "text": [
            "\n",
            "\n",
            "El Polinomio de Hermite para v = 10 es:\n"
          ]
        },
        {
          "output_type": "execute_result",
          "data": {
            "text/plain": [
              "      5  10          4  8           3  6           2  4             2        \n",
              "1024⋅α ⋅x   - 23040⋅α ⋅x  + 161280⋅α ⋅x  - 403200⋅α ⋅x  + 302400⋅α⋅x  - 30240"
            ],
            "text/latex": "$\\displaystyle 1024 \\alpha^{5} x^{10} - 23040 \\alpha^{4} x^{8} + 161280 \\alpha^{3} x^{6} - 403200 \\alpha^{2} x^{4} + 302400 \\alpha x^{2} - 30240$"
          },
          "metadata": {},
          "execution_count": 74
        },
        {
          "output_type": "stream",
          "name": "stdout",
          "text": [
            "\n",
            "\n",
            "El Polinomio de Hermite para v = 11 es:\n"
          ]
        },
        {
          "output_type": "execute_result",
          "data": {
            "text/plain": [
              "      11/2  11          9/2  9           7/2  7            5/2  5            3\n",
              "2048⋅α    ⋅x   - 56320⋅α   ⋅x  + 506880⋅α   ⋅x  - 1774080⋅α   ⋅x  + 2217600⋅α \n",
              "\n",
              "/2  3              \n",
              "  ⋅x  - 665280⋅√α⋅x"
            ],
            "text/latex": "$\\displaystyle 2048 \\alpha^{\\frac{11}{2}} x^{11} - 56320 \\alpha^{\\frac{9}{2}} x^{9} + 506880 \\alpha^{\\frac{7}{2}} x^{7} - 1774080 \\alpha^{\\frac{5}{2}} x^{5} + 2217600 \\alpha^{\\frac{3}{2}} x^{3} - 665280 \\sqrt{\\alpha} x$"
          },
          "metadata": {},
          "execution_count": 74
        },
        {
          "output_type": "stream",
          "name": "stdout",
          "text": [
            "\n",
            "\n",
            "El Polinomio de Hermite para v = 12 es:\n"
          ]
        },
        {
          "output_type": "execute_result",
          "data": {
            "text/plain": [
              "      6  12           5  10            4  8            3  6             2  4  \n",
              "4096⋅α ⋅x   - 135168⋅α ⋅x   + 1520640⋅α ⋅x  - 7096320⋅α ⋅x  + 13305600⋅α ⋅x  -\n",
              "\n",
              "            2         \n",
              " 7983360⋅α⋅x  + 665280"
            ],
            "text/latex": "$\\displaystyle 4096 \\alpha^{6} x^{12} - 135168 \\alpha^{5} x^{10} + 1520640 \\alpha^{4} x^{8} - 7096320 \\alpha^{3} x^{6} + 13305600 \\alpha^{2} x^{4} - 7983360 \\alpha x^{2} + 665280$"
          },
          "metadata": {},
          "execution_count": 74
        },
        {
          "output_type": "stream",
          "name": "stdout",
          "text": [
            "\n",
            "\n",
            "El Polinomio de Hermite para v = 13 es:\n"
          ]
        },
        {
          "output_type": "execute_result",
          "data": {
            "text/plain": [
              "      13/2  13           11/2  11            9/2  9             7/2  7        \n",
              "8192⋅α    ⋅x   - 319488⋅α    ⋅x   + 4392960⋅α   ⋅x  - 26357760⋅α   ⋅x  + 69189\n",
              "\n",
              "     5/2  5             3/2  3                \n",
              "120⋅α   ⋅x  - 69189120⋅α   ⋅x  + 17297280⋅√α⋅x"
            ],
            "text/latex": "$\\displaystyle 8192 \\alpha^{\\frac{13}{2}} x^{13} - 319488 \\alpha^{\\frac{11}{2}} x^{11} + 4392960 \\alpha^{\\frac{9}{2}} x^{9} - 26357760 \\alpha^{\\frac{7}{2}} x^{7} + 69189120 \\alpha^{\\frac{5}{2}} x^{5} - 69189120 \\alpha^{\\frac{3}{2}} x^{3} + 17297280 \\sqrt{\\alpha} x$"
          },
          "metadata": {},
          "execution_count": 74
        },
        {
          "output_type": "stream",
          "name": "stdout",
          "text": [
            "\n",
            "\n",
            "El Polinomio de Hermite para v = 14 es:\n"
          ]
        },
        {
          "output_type": "execute_result",
          "data": {
            "text/plain": [
              "       7  14           6  12             5  10             4  8              3\n",
              "16384⋅α ⋅x   - 745472⋅α ⋅x   + 12300288⋅α ⋅x   - 92252160⋅α ⋅x  + 322882560⋅α \n",
              "\n",
              "  6              2  4                2           \n",
              "⋅x  - 484323840⋅α ⋅x  + 242161920⋅α⋅x  - 17297280"
            ],
            "text/latex": "$\\displaystyle 16384 \\alpha^{7} x^{14} - 745472 \\alpha^{6} x^{12} + 12300288 \\alpha^{5} x^{10} - 92252160 \\alpha^{4} x^{8} + 322882560 \\alpha^{3} x^{6} - 484323840 \\alpha^{2} x^{4} + 242161920 \\alpha x^{2} - 17297280$"
          },
          "metadata": {},
          "execution_count": 74
        },
        {
          "output_type": "stream",
          "name": "stdout",
          "text": [
            "\n",
            "\n",
            "El Polinomio de Hermite para v = 15 es:\n"
          ]
        },
        {
          "output_type": "execute_result",
          "data": {
            "text/plain": [
              "       15/2  15            13/2  13             11/2  11              9/2  9  \n",
              "32768⋅α    ⋅x   - 1720320⋅α    ⋅x   + 33546240⋅α    ⋅x   - 307507200⋅α   ⋅x  +\n",
              "\n",
              "             7/2  7               5/2  5               3/2  3                 \n",
              " 1383782400⋅α   ⋅x  - 2905943040⋅α   ⋅x  + 2421619200⋅α   ⋅x  - 518918400⋅√α⋅x"
            ],
            "text/latex": "$\\displaystyle 32768 \\alpha^{\\frac{15}{2}} x^{15} - 1720320 \\alpha^{\\frac{13}{2}} x^{13} + 33546240 \\alpha^{\\frac{11}{2}} x^{11} - 307507200 \\alpha^{\\frac{9}{2}} x^{9} + 1383782400 \\alpha^{\\frac{7}{2}} x^{7} - 2905943040 \\alpha^{\\frac{5}{2}} x^{5} + 2421619200 \\alpha^{\\frac{3}{2}} x^{3} - 518918400 \\sqrt{\\alpha} x$"
          },
          "metadata": {},
          "execution_count": 74
        },
        {
          "output_type": "stream",
          "name": "stdout",
          "text": [
            "\n",
            "\n",
            "El Polinomio de Hermite para v = 16 es:\n"
          ]
        },
        {
          "output_type": "execute_result",
          "data": {
            "text/plain": [
              "       8  16            7  14             6  12              5  10            \n",
              "65536⋅α ⋅x   - 3932160⋅α ⋅x   + 89456640⋅α ⋅x   - 984023040⋅α ⋅x   + 553512960\n",
              "\n",
              "   4  8                3  6                2  4                 2            \n",
              "0⋅α ⋅x  - 15498362880⋅α ⋅x  + 19372953600⋅α ⋅x  - 8302694400⋅α⋅x  + 518918400"
            ],
            "text/latex": "$\\displaystyle 65536 \\alpha^{8} x^{16} - 3932160 \\alpha^{7} x^{14} + 89456640 \\alpha^{6} x^{12} - 984023040 \\alpha^{5} x^{10} + 5535129600 \\alpha^{4} x^{8} - 15498362880 \\alpha^{3} x^{6} + 19372953600 \\alpha^{2} x^{4} - 8302694400 \\alpha x^{2} + 518918400$"
          },
          "metadata": {},
          "execution_count": 74
        },
        {
          "output_type": "stream",
          "name": "stdout",
          "text": [
            "\n",
            "\n",
            "El Polinomio de Hermite para v = 17 es:\n"
          ]
        },
        {
          "output_type": "execute_result",
          "data": {
            "text/plain": [
              "        17/2  17            15/2  15              13/2  13               11/2 \n",
              "131072⋅α    ⋅x   - 8912896⋅α    ⋅x   + 233963520⋅α    ⋅x   - 3041525760⋅α    ⋅\n",
              "\n",
              " 11                9/2  9                7/2  7                 5/2  5        \n",
              "x   + 20910489600⋅α   ⋅x  - 75277762560⋅α   ⋅x  + 131736084480⋅α   ⋅x  - 94097\n",
              "\n",
              "        3/2  3                   \n",
              "203200⋅α   ⋅x  + 17643225600⋅√α⋅x"
            ],
            "text/latex": "$\\displaystyle 131072 \\alpha^{\\frac{17}{2}} x^{17} - 8912896 \\alpha^{\\frac{15}{2}} x^{15} + 233963520 \\alpha^{\\frac{13}{2}} x^{13} - 3041525760 \\alpha^{\\frac{11}{2}} x^{11} + 20910489600 \\alpha^{\\frac{9}{2}} x^{9} - 75277762560 \\alpha^{\\frac{7}{2}} x^{7} + 131736084480 \\alpha^{\\frac{5}{2}} x^{5} - 94097203200 \\alpha^{\\frac{3}{2}} x^{3} + 17643225600 \\sqrt{\\alpha} x$"
          },
          "metadata": {},
          "execution_count": 74
        },
        {
          "output_type": "stream",
          "name": "stdout",
          "text": [
            "\n",
            "\n",
            "El Polinomio de Hermite para v = 18 es:\n"
          ]
        },
        {
          "output_type": "execute_result",
          "data": {
            "text/plain": [
              "        9  18             8  16              7  14               6  12        \n",
              "262144⋅α ⋅x   - 20054016⋅α ⋅x   + 601620480⋅α ⋅x   - 9124577280⋅α ⋅x   + 75277\n",
              "\n",
              "        5  10                 4  8                 3  6                 2  4  \n",
              "762560⋅α ⋅x   - 338749931520⋅α ⋅x  + 790416506880⋅α ⋅x  - 846874828800⋅α ⋅x  +\n",
              "\n",
              "                 2              \n",
              " 317578060800⋅α⋅x  - 17643225600"
            ],
            "text/latex": "$\\displaystyle 262144 \\alpha^{9} x^{18} - 20054016 \\alpha^{8} x^{16} + 601620480 \\alpha^{7} x^{14} - 9124577280 \\alpha^{6} x^{12} + 75277762560 \\alpha^{5} x^{10} - 338749931520 \\alpha^{4} x^{8} + 790416506880 \\alpha^{3} x^{6} - 846874828800 \\alpha^{2} x^{4} + 317578060800 \\alpha x^{2} - 17643225600$"
          },
          "metadata": {},
          "execution_count": 74
        },
        {
          "output_type": "stream",
          "name": "stdout",
          "text": [
            "\n",
            "\n",
            "El Polinomio de Hermite para v = 19 es:\n"
          ]
        },
        {
          "output_type": "execute_result",
          "data": {
            "text/plain": [
              "        19/2  19             17/2  17               15/2  15                13\n",
              "524288⋅α    ⋅x   - 44826624⋅α    ⋅x   + 1524105216⋅α    ⋅x   - 26671841280⋅α  \n",
              "\n",
              "/2  13                 11/2  11                  9/2  9                  7/2  \n",
              "  ⋅x   + 260050452480⋅α    ⋅x   - 1430277488640⋅α   ⋅x  + 4290832465920⋅α   ⋅x\n",
              "\n",
              "7                  5/2  5                  3/2  3                    \n",
              "  - 6436248698880⋅α   ⋅x  + 4022655436800⋅α   ⋅x  - 670442572800⋅√α⋅x"
            ],
            "text/latex": "$\\displaystyle 524288 \\alpha^{\\frac{19}{2}} x^{19} - 44826624 \\alpha^{\\frac{17}{2}} x^{17} + 1524105216 \\alpha^{\\frac{15}{2}} x^{15} - 26671841280 \\alpha^{\\frac{13}{2}} x^{13} + 260050452480 \\alpha^{\\frac{11}{2}} x^{11} - 1430277488640 \\alpha^{\\frac{9}{2}} x^{9} + 4290832465920 \\alpha^{\\frac{7}{2}} x^{7} - 6436248698880 \\alpha^{\\frac{5}{2}} x^{5} + 4022655436800 \\alpha^{\\frac{3}{2}} x^{3} - 670442572800 \\sqrt{\\alpha} x$"
          },
          "metadata": {},
          "execution_count": 74
        },
        {
          "output_type": "stream",
          "name": "stdout",
          "text": [
            "\n",
            "\n",
            "El Polinomio de Hermite para v = 20 es:\n"
          ]
        },
        {
          "output_type": "execute_result",
          "data": {
            "text/plain": [
              "         10  20             9  18               8  16                7  14    \n",
              "1048576⋅α  ⋅x   - 99614720⋅α ⋅x   + 3810263040⋅α ⋅x   - 76205260800⋅α ⋅x   + 8\n",
              "\n",
              "             6  12                  5  10                   4  8              \n",
              "66834841600⋅α ⋅x   - 5721109954560⋅α ⋅x   + 21454162329600⋅α ⋅x  - 42908324659\n",
              "\n",
              "     3  6                   2  4                     2               \n",
              "200⋅α ⋅x  + 40226554368000⋅α ⋅x  - 13408851456000⋅α⋅x  + 670442572800"
            ],
            "text/latex": "$\\displaystyle 1048576 \\alpha^{10} x^{20} - 99614720 \\alpha^{9} x^{18} + 3810263040 \\alpha^{8} x^{16} - 76205260800 \\alpha^{7} x^{14} + 866834841600 \\alpha^{6} x^{12} - 5721109954560 \\alpha^{5} x^{10} + 21454162329600 \\alpha^{4} x^{8} - 42908324659200 \\alpha^{3} x^{6} + 40226554368000 \\alpha^{2} x^{4} - 13408851456000 \\alpha x^{2} + 670442572800$"
          },
          "metadata": {},
          "execution_count": 74
        },
        {
          "output_type": "stream",
          "name": "stdout",
          "text": [
            "\n",
            "\n",
            "El Polinomio de Hermite para v = 21 es:\n"
          ]
        },
        {
          "output_type": "execute_result",
          "data": {
            "text/plain": [
              "         21/2  21              19/2  19               17/2  17                \n",
              "2097152⋅α    ⋅x   - 220200960⋅α    ⋅x   + 9413591040⋅α    ⋅x   - 213374730240⋅\n",
              "\n",
              " 15/2  15                  13/2  13                   11/2  11                \n",
              "α    ⋅x   + 2800543334400⋅α    ⋅x   - 21844238008320⋅α    ⋅x   + 1001194242048\n",
              "\n",
              "    9/2  9                    7/2  7                    5/2  5                \n",
              "00⋅α   ⋅x  - 257449947955200⋅α   ⋅x  + 337903056691200⋅α   ⋅x  - 1877239203840\n",
              "\n",
              "    3/2  3                      \n",
              "00⋅α   ⋅x  + 28158588057600⋅√α⋅x"
            ],
            "text/latex": "$\\displaystyle 2097152 \\alpha^{\\frac{21}{2}} x^{21} - 220200960 \\alpha^{\\frac{19}{2}} x^{19} + 9413591040 \\alpha^{\\frac{17}{2}} x^{17} - 213374730240 \\alpha^{\\frac{15}{2}} x^{15} + 2800543334400 \\alpha^{\\frac{13}{2}} x^{13} - 21844238008320 \\alpha^{\\frac{11}{2}} x^{11} + 100119424204800 \\alpha^{\\frac{9}{2}} x^{9} - 257449947955200 \\alpha^{\\frac{7}{2}} x^{7} + 337903056691200 \\alpha^{\\frac{5}{2}} x^{5} - 187723920384000 \\alpha^{\\frac{3}{2}} x^{3} + 28158588057600 \\sqrt{\\alpha} x$"
          },
          "metadata": {},
          "execution_count": 74
        },
        {
          "output_type": "stream",
          "name": "stdout",
          "text": [
            "\n",
            "\n",
            "El Polinomio de Hermite para v = 22 es:\n"
          ]
        },
        {
          "output_type": "execute_result",
          "data": {
            "text/plain": [
              "         11  22              10  20                9  18                 8  16\n",
              "4194304⋅α  ⋅x   - 484442112⋅α  ⋅x   + 23011000320⋅α ⋅x   - 586780508160⋅α ⋅x  \n",
              "\n",
              "                  7  14                   6  12                    5  10      \n",
              " + 8801707622400⋅α ⋅x   - 80095539363840⋅α ⋅x   + 440525466501120⋅α ⋅x   - 141\n",
              "\n",
              "               4  8                     3  6                     2  4         \n",
              "5974713753600⋅α ⋅x  + 2477955749068800⋅α ⋅x  - 2064963124224000⋅α ⋅x  + 619488\n",
              "\n",
              "             2                 \n",
              "937267200⋅α⋅x  - 28158588057600"
            ],
            "text/latex": "$\\displaystyle 4194304 \\alpha^{11} x^{22} - 484442112 \\alpha^{10} x^{20} + 23011000320 \\alpha^{9} x^{18} - 586780508160 \\alpha^{8} x^{16} + 8801707622400 \\alpha^{7} x^{14} - 80095539363840 \\alpha^{6} x^{12} + 440525466501120 \\alpha^{5} x^{10} - 1415974713753600 \\alpha^{4} x^{8} + 2477955749068800 \\alpha^{3} x^{6} - 2064963124224000 \\alpha^{2} x^{4} + 619488937267200 \\alpha x^{2} - 28158588057600$"
          },
          "metadata": {},
          "execution_count": 74
        },
        {
          "output_type": "stream",
          "name": "stdout",
          "text": [
            "\n",
            "\n",
            "El Polinomio de Hermite para v = 23 es:\n"
          ]
        },
        {
          "output_type": "execute_result",
          "data": {
            "text/plain": [
              "         23/2  23               21/2  21                19/2  19              \n",
              "8388608⋅α    ⋅x   - 1061158912⋅α    ⋅x   + 55710842880⋅α    ⋅x   - 15877590220\n",
              "\n",
              "    17/2  17                   15/2  15                    13/2  13           \n",
              "80⋅α    ⋅x   + 26991903375360⋅α    ⋅x   - 283414985441280⋅α    ⋅x   + 18421974\n",
              "\n",
              "          11/2  11                     9/2  9                      7/2  7     \n",
              "05368320⋅α    ⋅x   - 7237204092518400⋅α   ⋅x  + 16283709208166400⋅α   ⋅x  - 18\n",
              "\n",
              "                 5/2  5                     3/2  3                        \n",
              "997660742860800⋅α   ⋅x  + 9498830371430400⋅α   ⋅x  - 1295295050649600⋅√α⋅x"
            ],
            "text/latex": "$\\displaystyle 8388608 \\alpha^{\\frac{23}{2}} x^{23} - 1061158912 \\alpha^{\\frac{21}{2}} x^{21} + 55710842880 \\alpha^{\\frac{19}{2}} x^{19} - 1587759022080 \\alpha^{\\frac{17}{2}} x^{17} + 26991903375360 \\alpha^{\\frac{15}{2}} x^{15} - 283414985441280 \\alpha^{\\frac{13}{2}} x^{13} + 1842197405368320 \\alpha^{\\frac{11}{2}} x^{11} - 7237204092518400 \\alpha^{\\frac{9}{2}} x^{9} + 16283709208166400 \\alpha^{\\frac{7}{2}} x^{7} - 18997660742860800 \\alpha^{\\frac{5}{2}} x^{5} + 9498830371430400 \\alpha^{\\frac{3}{2}} x^{3} - 1295295050649600 \\sqrt{\\alpha} x$"
          },
          "metadata": {},
          "execution_count": 74
        },
        {
          "output_type": "stream",
          "name": "stdout",
          "text": [
            "\n",
            "\n",
            "El Polinomio de Hermite para v = 24 es:\n"
          ]
        },
        {
          "output_type": "execute_result",
          "data": {
            "text/plain": [
              "          12  24               11  22                 10  20                  \n",
              "16777216⋅α  ⋅x   - 2315255808⋅α  ⋅x   + 133706022912⋅α  ⋅x   - 4234024058880⋅α\n",
              "\n",
              "9  18                   8  16                    7  14                     6  \n",
              " ⋅x   + 80975710126080⋅α ⋅x   - 971708521512960⋅α ⋅x   + 7368789621473280⋅α ⋅x\n",
              "\n",
              "12                      5  10                      4  8                       \n",
              "   - 34738579644088320⋅α ⋅x   + 97702255248998400⋅α ⋅x  - 151981285942886400⋅α\n",
              "\n",
              "3  6                       2  4                        2                   \n",
              " ⋅x  + 113985964457164800⋅α ⋅x  - 31087081215590400⋅α⋅x  + 1295295050649600"
            ],
            "text/latex": "$\\displaystyle 16777216 \\alpha^{12} x^{24} - 2315255808 \\alpha^{11} x^{22} + 133706022912 \\alpha^{10} x^{20} - 4234024058880 \\alpha^{9} x^{18} + 80975710126080 \\alpha^{8} x^{16} - 971708521512960 \\alpha^{7} x^{14} + 7368789621473280 \\alpha^{6} x^{12} - 34738579644088320 \\alpha^{5} x^{10} + 97702255248998400 \\alpha^{4} x^{8} - 151981285942886400 \\alpha^{3} x^{6} + 113985964457164800 \\alpha^{2} x^{4} - 31087081215590400 \\alpha x^{2} + 1295295050649600$"
          },
          "metadata": {},
          "execution_count": 74
        },
        {
          "output_type": "stream",
          "name": "stdout",
          "text": [
            "\n",
            "\n",
            "El Polinomio de Hermite para v = 25 es:\n"
          ]
        },
        {
          "output_type": "execute_result",
          "data": {
            "text/plain": [
              "          25/2  25               23/2  23                 21/2  21            \n",
              "33554432⋅α    ⋅x   - 5033164800⋅α    ⋅x   + 318347673600⋅α    ⋅x   - 111421685\n",
              "\n",
              "       19/2  19                    17/2  17                     15/2  15      \n",
              "76000⋅α    ⋅x   + 238163853312000⋅α    ⋅x   - 3239028405043200⋅α    ⋅x   + 283\n",
              "\n",
              "                13/2  13                       11/2  11                       \n",
              "41498544128000⋅α    ⋅x   - 157902634745856000⋅α    ⋅x   + 542790306938880000⋅α\n",
              "\n",
              "9/2  9                        7/2  7                        5/2  5            \n",
              "   ⋅x  - 1085580613877760000⋅α   ⋅x  + 1139859644571648000⋅α   ⋅x  - 518118020\n",
              "\n",
              "           3/2  3                         \n",
              "259840000⋅α   ⋅x  + 64764752532480000⋅√α⋅x"
            ],
            "text/latex": "$\\displaystyle 33554432 \\alpha^{\\frac{25}{2}} x^{25} - 5033164800 \\alpha^{\\frac{23}{2}} x^{23} + 318347673600 \\alpha^{\\frac{21}{2}} x^{21} - 11142168576000 \\alpha^{\\frac{19}{2}} x^{19} + 238163853312000 \\alpha^{\\frac{17}{2}} x^{17} - 3239028405043200 \\alpha^{\\frac{15}{2}} x^{15} + 28341498544128000 \\alpha^{\\frac{13}{2}} x^{13} - 157902634745856000 \\alpha^{\\frac{11}{2}} x^{11} + 542790306938880000 \\alpha^{\\frac{9}{2}} x^{9} - 1085580613877760000 \\alpha^{\\frac{7}{2}} x^{7} + 1139859644571648000 \\alpha^{\\frac{5}{2}} x^{5} - 518118020259840000 \\alpha^{\\frac{3}{2}} x^{3} + 64764752532480000 \\sqrt{\\alpha} x$"
          },
          "metadata": {},
          "execution_count": 74
        },
        {
          "output_type": "stream",
          "name": "stdout",
          "text": [
            "\n",
            "\n",
            "El Polinomio de Hermite para v = 26 es:\n"
          ]
        },
        {
          "output_type": "execute_result",
          "data": {
            "text/plain": [
              "          13  26                12  24                 11  22                 \n",
              "67108864⋅α  ⋅x   - 10905190400⋅α  ⋅x   + 752458137600⋅α  ⋅x   - 28969638297600\n",
              "\n",
              "  10  20                    9  18                      8  16                  \n",
              "⋅α  ⋅x   + 688028909568000⋅α ⋅x   - 10526842316390400⋅α ⋅x   + 105268423163904\n",
              "\n",
              "     7  14                       6  12                        5  10           \n",
              "000⋅α ⋅x   - 684244750565376000⋅α ⋅x   + 2822509596082176000⋅α ⋅x   - 70562739\n",
              "\n",
              "             4  8                        3  6                        2  4     \n",
              "90205440000⋅α ⋅x  + 9878783586287616000⋅α ⋅x  - 6735534263377920000⋅α ⋅x  + 16\n",
              "\n",
              "                     2                    \n",
              "83883565844480000⋅α⋅x  - 64764752532480000"
            ],
            "text/latex": "$\\displaystyle 67108864 \\alpha^{13} x^{26} - 10905190400 \\alpha^{12} x^{24} + 752458137600 \\alpha^{11} x^{22} - 28969638297600 \\alpha^{10} x^{20} + 688028909568000 \\alpha^{9} x^{18} - 10526842316390400 \\alpha^{8} x^{16} + 105268423163904000 \\alpha^{7} x^{14} - 684244750565376000 \\alpha^{6} x^{12} + 2822509596082176000 \\alpha^{5} x^{10} - 7056273990205440000 \\alpha^{4} x^{8} + 9878783586287616000 \\alpha^{3} x^{6} - 6735534263377920000 \\alpha^{2} x^{4} + 1683883565844480000 \\alpha x^{2} - 64764752532480000$"
          },
          "metadata": {},
          "execution_count": 74
        },
        {
          "output_type": "stream",
          "name": "stdout",
          "text": [
            "\n",
            "\n",
            "El Polinomio de Hermite para v = 27 es:\n"
          ]
        },
        {
          "output_type": "execute_result",
          "data": {
            "text/plain": [
              "           27/2  27                25/2  25                  23/2  23         \n",
              "134217728⋅α    ⋅x   - 23555211264⋅α    ⋅x   + 1766640844800⋅α    ⋅x   - 744933\n",
              "\n",
              "          21/2  21                     19/2  19                      17/2  17 \n",
              "55622400⋅α    ⋅x   + 1955450585088000⋅α    ⋅x   - 33438205005004800⋅α    ⋅x   \n",
              "\n",
              "                      15/2  15                        13/2  13                \n",
              "+ 378966323390054400⋅α    ⋅x   - 2842247425425408000⋅α    ⋅x   + 1385595619894\n",
              "\n",
              "         11/2  11                         9/2  9                         7/2  \n",
              "8864000⋅α    ⋅x   - 42337643941232640000⋅α   ⋅x  + 76207759094218752000⋅α   ⋅x\n",
              "\n",
              "7                         5/2  5                         3/2  3               \n",
              "  - 72743770044481536000⋅α   ⋅x  + 30309904185200640000⋅α   ⋅x  - 349729663675\n",
              "\n",
              "            \n",
              "3920000⋅√α⋅x"
            ],
            "text/latex": "$\\displaystyle 134217728 \\alpha^{\\frac{27}{2}} x^{27} - 23555211264 \\alpha^{\\frac{25}{2}} x^{25} + 1766640844800 \\alpha^{\\frac{23}{2}} x^{23} - 74493355622400 \\alpha^{\\frac{21}{2}} x^{21} + 1955450585088000 \\alpha^{\\frac{19}{2}} x^{19} - 33438205005004800 \\alpha^{\\frac{17}{2}} x^{17} + 378966323390054400 \\alpha^{\\frac{15}{2}} x^{15} - 2842247425425408000 \\alpha^{\\frac{13}{2}} x^{13} + 13855956198948864000 \\alpha^{\\frac{11}{2}} x^{11} - 42337643941232640000 \\alpha^{\\frac{9}{2}} x^{9} + 76207759094218752000 \\alpha^{\\frac{7}{2}} x^{7} - 72743770044481536000 \\alpha^{\\frac{5}{2}} x^{5} + 30309904185200640000 \\alpha^{\\frac{3}{2}} x^{3} - 3497296636753920000 \\sqrt{\\alpha} x$"
          },
          "metadata": {},
          "execution_count": 74
        },
        {
          "output_type": "stream",
          "name": "stdout",
          "text": [
            "\n",
            "\n",
            "El Polinomio de Hermite para v = 28 es:\n"
          ]
        },
        {
          "output_type": "execute_result",
          "data": {
            "text/plain": [
              "           14  28                13  26                  12  24               \n",
              "268435456⋅α  ⋅x   - 50734301184⋅α  ⋅x   + 4122161971200⋅α  ⋅x   - 189619450675\n",
              "\n",
              "     11  22                     10  20                       9  18            \n",
              "200⋅α  ⋅x   + 5475261638246400⋅α  ⋅x   - 104029971126681600⋅α ⋅x   + 132638213\n",
              "\n",
              "            8  16                         7  14                         6  12 \n",
              "1865190400⋅α ⋅x   - 11368989701701632000⋅α ⋅x   + 64661128928428032000⋅α ⋅x   \n",
              "\n",
              "                         5  10                          4  8                  \n",
              "- 237090806070902784000⋅α ⋅x   + 533454313659531264000⋅α ⋅x  - 678941853748494\n",
              "\n",
              "        3  6                          2  4                           2        \n",
              "336000⋅α ⋅x  + 424338658592808960000⋅α ⋅x  - 97924305829109760000⋅α⋅x  + 34972\n",
              "\n",
              "              \n",
              "96636753920000"
            ],
            "text/latex": "$\\displaystyle 268435456 \\alpha^{14} x^{28} - 50734301184 \\alpha^{13} x^{26} + 4122161971200 \\alpha^{12} x^{24} - 189619450675200 \\alpha^{11} x^{22} + 5475261638246400 \\alpha^{10} x^{20} - 104029971126681600 \\alpha^{9} x^{18} + 1326382131865190400 \\alpha^{8} x^{16} - 11368989701701632000 \\alpha^{7} x^{14} + 64661128928428032000 \\alpha^{6} x^{12} - 237090806070902784000 \\alpha^{5} x^{10} + 533454313659531264000 \\alpha^{4} x^{8} - 678941853748494336000 \\alpha^{3} x^{6} + 424338658592808960000 \\alpha^{2} x^{4} - 97924305829109760000 \\alpha x^{2} + 3497296636753920000$"
          },
          "metadata": {},
          "execution_count": 74
        },
        {
          "output_type": "stream",
          "name": "stdout",
          "text": [
            "\n",
            "\n",
            "El Polinomio de Hermite para v = 29 es:\n"
          ]
        },
        {
          "output_type": "execute_result",
          "data": {
            "text/plain": [
              "           29/2  29                 27/2  27                  25/2  25        \n",
              "536870912⋅α    ⋅x   - 108984795136⋅α    ⋅x   + 9563415773184⋅α    ⋅x   - 47817\n",
              "\n",
              "            23/2  23                      21/2  21                       19/2 \n",
              "0788659200⋅α    ⋅x   + 15122151191347200⋅α    ⋅x   - 317565175018291200⋅α    ⋅\n",
              "\n",
              " 19                        17/2  17                         15/2  15          \n",
              "x   + 4525303744010649600⋅α    ⋅x   - 43960093513246310400⋅α    ⋅x   + 2884881\n",
              "\n",
              "                13/2  13                           11/2  11                   \n",
              "13680678912000⋅α    ⋅x   - 1250115159282941952000⋅α    ⋅x   + 3437816688028090\n",
              "\n",
              "        9/2  9                           7/2  7                           5/2 \n",
              "368000⋅α   ⋅x  - 5625518216773238784000⋅α   ⋅x  + 4922328439676583936000⋅α   ⋅\n",
              "\n",
              " 5                           3/2  3                             \n",
              "x  - 1893203246029455360000⋅α   ⋅x  + 202843204931727360000⋅√α⋅x"
            ],
            "text/latex": "$\\displaystyle 536870912 \\alpha^{\\frac{29}{2}} x^{29} - 108984795136 \\alpha^{\\frac{27}{2}} x^{27} + 9563415773184 \\alpha^{\\frac{25}{2}} x^{25} - 478170788659200 \\alpha^{\\frac{23}{2}} x^{23} + 15122151191347200 \\alpha^{\\frac{21}{2}} x^{21} - 317565175018291200 \\alpha^{\\frac{19}{2}} x^{19} + 4525303744010649600 \\alpha^{\\frac{17}{2}} x^{17} - 43960093513246310400 \\alpha^{\\frac{15}{2}} x^{15} + 288488113680678912000 \\alpha^{\\frac{13}{2}} x^{13} - 1250115159282941952000 \\alpha^{\\frac{11}{2}} x^{11} + 3437816688028090368000 \\alpha^{\\frac{9}{2}} x^{9} - 5625518216773238784000 \\alpha^{\\frac{7}{2}} x^{7} + 4922328439676583936000 \\alpha^{\\frac{5}{2}} x^{5} - 1893203246029455360000 \\alpha^{\\frac{3}{2}} x^{3} + 202843204931727360000 \\sqrt{\\alpha} x$"
          },
          "metadata": {},
          "execution_count": 74
        },
        {
          "output_type": "stream",
          "name": "stdout",
          "text": [
            "\n",
            "\n",
            "El Polinomio de Hermite para v = 30 es:\n"
          ]
        },
        {
          "output_type": "execute_result",
          "data": {
            "text/plain": [
              "            15  30                 14  28                   13  26            \n",
              "1073741824⋅α  ⋅x   - 233538846720⋅α  ⋅x   + 22069421015040⋅α  ⋅x   - 119542697\n",
              "\n",
              "         12  24                      11  22                       10  20      \n",
              "1648000⋅α  ⋅x   + 41242230521856000⋅α  ⋅x   - 952695525054873600⋅α  ⋅x   + 150\n",
              "\n",
              "                   9  18                          8  16                       \n",
              "84345813368832000⋅α ⋅x   - 164850350674673664000⋅α ⋅x   + 12363776300600524800\n",
              "\n",
              "    7  14                           6  12                            5  10    \n",
              "00⋅α ⋅x   - 6250575796414709760000⋅α ⋅x   + 20626900128168542208000⋅α ⋅x   - 4\n",
              "\n",
              "                        4  8                            3  6                  \n",
              "2191386625799290880000⋅α ⋅x  + 49223284396765839360000⋅α ⋅x  - 283980486904418\n",
              "\n",
              "          2  4                             2                        \n",
              "30400000⋅α ⋅x  + 6085296147951820800000⋅α⋅x  - 202843204931727360000"
            ],
            "text/latex": "$\\displaystyle 1073741824 \\alpha^{15} x^{30} - 233538846720 \\alpha^{14} x^{28} + 22069421015040 \\alpha^{13} x^{26} - 1195426971648000 \\alpha^{12} x^{24} + 41242230521856000 \\alpha^{11} x^{22} - 952695525054873600 \\alpha^{10} x^{20} + 15084345813368832000 \\alpha^{9} x^{18} - 164850350674673664000 \\alpha^{8} x^{16} + 1236377630060052480000 \\alpha^{7} x^{14} - 6250575796414709760000 \\alpha^{6} x^{12} + 20626900128168542208000 \\alpha^{5} x^{10} - 42191386625799290880000 \\alpha^{4} x^{8} + 49223284396765839360000 \\alpha^{3} x^{6} - 28398048690441830400000 \\alpha^{2} x^{4} + 6085296147951820800000 \\alpha x^{2} - 202843204931727360000$"
          },
          "metadata": {},
          "execution_count": 74
        },
        {
          "output_type": "stream",
          "name": "stdout",
          "text": [
            "\n",
            "\n",
            "El Polinomio de Hermite para v = 31 es:\n"
          ]
        },
        {
          "output_type": "execute_result",
          "data": {
            "text/plain": [
              "            31/2  31                 29/2  29                   27/2  27      \n",
              "2147483648⋅α    ⋅x   - 499289948160⋅α    ⋅x   + 50677929738240⋅α    ⋅x   - 296\n",
              "\n",
              "               25/2  25                       23/2  23                        \n",
              "4658889687040⋅α    ⋅x   + 111174708363264000⋅α    ⋅x   - 2812720121590579200⋅α\n",
              "\n",
              "21/2  21                         19/2  19                          17/2  17   \n",
              "    ⋅x   + 49222602127835136000⋅α    ⋅x   - 601218925989986304000⋅α    ⋅x   + \n",
              "\n",
              "                        15/2  15                            13/2  13          \n",
              "5110360870914883584000⋅α    ⋅x   - 29810438413670154240000⋅α    ⋅x   + 1162607\n",
              "\n",
              "                   11/2  11                             9/2  9                \n",
              "09813313601536000⋅α    ⋅x   - 290651774533284003840000⋅α   ⋅x  + 4359776617999\n",
              "\n",
              "             7/2  7                             5/2  5                        \n",
              "26005760000⋅α   ⋅x  - 352135803761478696960000⋅α   ⋅x  + 125762787057670963200\n",
              "\n",
              "     3/2  3                               \n",
              "000⋅α   ⋅x  - 12576278705767096320000⋅√α⋅x"
            ],
            "text/latex": "$\\displaystyle 2147483648 \\alpha^{\\frac{31}{2}} x^{31} - 499289948160 \\alpha^{\\frac{29}{2}} x^{29} + 50677929738240 \\alpha^{\\frac{27}{2}} x^{27} - 2964658889687040 \\alpha^{\\frac{25}{2}} x^{25} + 111174708363264000 \\alpha^{\\frac{23}{2}} x^{23} - 2812720121590579200 \\alpha^{\\frac{21}{2}} x^{21} + 49222602127835136000 \\alpha^{\\frac{19}{2}} x^{19} - 601218925989986304000 \\alpha^{\\frac{17}{2}} x^{17} + 5110360870914883584000 \\alpha^{\\frac{15}{2}} x^{15} - 29810438413670154240000 \\alpha^{\\frac{13}{2}} x^{13} + 116260709813313601536000 \\alpha^{\\frac{11}{2}} x^{11} - 290651774533284003840000 \\alpha^{\\frac{9}{2}} x^{9} + 435977661799926005760000 \\alpha^{\\frac{7}{2}} x^{7} - 352135803761478696960000 \\alpha^{\\frac{5}{2}} x^{5} + 125762787057670963200000 \\alpha^{\\frac{3}{2}} x^{3} - 12576278705767096320000 \\sqrt{\\alpha} x$"
          },
          "metadata": {},
          "execution_count": 74
        },
        {
          "output_type": "stream",
          "name": "stdout",
          "text": [
            "\n",
            "\n",
            "El Polinomio de Hermite para v = 32 es:\n"
          ]
        },
        {
          "output_type": "execute_result",
          "data": {
            "text/plain": [
              "            16  32                  15  30                    14  28          \n",
              "4294967296⋅α  ⋅x   - 1065151889408⋅α  ⋅x   + 115835267973120⋅α  ⋅x   - 7297621\n",
              "\n",
              "           13  26                       12  24                        11  22  \n",
              "882306560⋅α  ⋅x   + 296465888968704000⋅α  ⋅x   - 8182458535536230400⋅α  ⋅x   +\n",
              "\n",
              "                        10  20                           9  18                \n",
              " 157512326809072435200⋅α  ⋅x   - 2137667292408840192000⋅α ⋅x   + 2044144348365\n",
              "\n",
              "            8  16                             7  14                           \n",
              "9534336000⋅α ⋅x   - 136276289891063562240000⋅α ⋅x   + 620057119004339208192000\n",
              "\n",
              "  6  12                              5  10                              4  8  \n",
              "⋅α ⋅x   - 1860171357013017624576000⋅α ⋅x   + 3487821294399408046080000⋅α ⋅x  -\n",
              "\n",
              "                            3  6                              2  4            \n",
              " 3756115240122439434240000⋅α ⋅x  + 2012204592922735411200000⋅α ⋅x  - 402440918\n",
              "\n",
              "                   2                          \n",
              "584547082240000⋅α⋅x  + 12576278705767096320000"
            ],
            "text/latex": "$\\displaystyle 4294967296 \\alpha^{16} x^{32} - 1065151889408 \\alpha^{15} x^{30} + 115835267973120 \\alpha^{14} x^{28} - 7297621882306560 \\alpha^{13} x^{26} + 296465888968704000 \\alpha^{12} x^{24} - 8182458535536230400 \\alpha^{11} x^{22} + 157512326809072435200 \\alpha^{10} x^{20} - 2137667292408840192000 \\alpha^{9} x^{18} + 20441443483659534336000 \\alpha^{8} x^{16} - 136276289891063562240000 \\alpha^{7} x^{14} + 620057119004339208192000 \\alpha^{6} x^{12} - 1860171357013017624576000 \\alpha^{5} x^{10} + 3487821294399408046080000 \\alpha^{4} x^{8} - 3756115240122439434240000 \\alpha^{3} x^{6} + 2012204592922735411200000 \\alpha^{2} x^{4} - 402440918584547082240000 \\alpha x^{2} + 12576278705767096320000$"
          },
          "metadata": {},
          "execution_count": 74
        },
        {
          "output_type": "stream",
          "name": "stdout",
          "text": [
            "\n",
            "\n",
            "El Polinomio de Hermite para v = 33 es:\n"
          ]
        },
        {
          "output_type": "execute_result",
          "data": {
            "text/plain": [
              "            33/2  33                  31/2  31                    29/2  29    \n",
              "8589934592⋅α    ⋅x   - 2267742732288⋅α    ⋅x   + 263625092628480⋅α    ⋅x   - 1\n",
              "\n",
              "                  27/2  27                       25/2  25                     \n",
              "7838631267860480⋅α    ⋅x   + 782669946877378560⋅α    ⋅x   - 234800984063213568\n",
              "\n",
              "    23/2  23                          21/2  21                           19/2 \n",
              "00⋅α    ⋅x   + 495038741399941939200⋅α    ⋅x   - 7425581120999129088000⋅α    ⋅\n",
              "\n",
              " 19                            17/2  17                             15/2  15  \n",
              "x   + 79360898230678192128000⋅α    ⋅x   - 599615675520679673856000⋅α    ⋅x   +\n",
              "\n",
              "                            13/2  13                               11/2  11   \n",
              " 3147982296483568287744000⋅α    ⋅x   - 11161028142078105747456000⋅α    ⋅x   + \n",
              "\n",
              "                            9/2  9                               7/2  7       \n",
              "25577356158928992337920000⋅α   ⋅x  - 35414800835440143237120000⋅α   ⋅x  + 2656\n",
              "\n",
              "                        5/2  5                              3/2  3            \n",
              "1100626580107427840000⋅α   ⋅x  - 8853700208860035809280000⋅α   ⋅x  + 830034394\n",
              "\n",
              "                    \n",
              "580628357120000⋅√α⋅x"
            ],
            "text/latex": "$\\displaystyle 8589934592 \\alpha^{\\frac{33}{2}} x^{33} - 2267742732288 \\alpha^{\\frac{31}{2}} x^{31} + 263625092628480 \\alpha^{\\frac{29}{2}} x^{29} - 17838631267860480 \\alpha^{\\frac{27}{2}} x^{27} + 782669946877378560 \\alpha^{\\frac{25}{2}} x^{25} - 23480098406321356800 \\alpha^{\\frac{23}{2}} x^{23} + 495038741399941939200 \\alpha^{\\frac{21}{2}} x^{21} - 7425581120999129088000 \\alpha^{\\frac{19}{2}} x^{19} + 79360898230678192128000 \\alpha^{\\frac{17}{2}} x^{17} - 599615675520679673856000 \\alpha^{\\frac{15}{2}} x^{15} + 3147982296483568287744000 \\alpha^{\\frac{13}{2}} x^{13} - 11161028142078105747456000 \\alpha^{\\frac{11}{2}} x^{11} + 25577356158928992337920000 \\alpha^{\\frac{9}{2}} x^{9} - 35414800835440143237120000 \\alpha^{\\frac{7}{2}} x^{7} + 26561100626580107427840000 \\alpha^{\\frac{5}{2}} x^{5} - 8853700208860035809280000 \\alpha^{\\frac{3}{2}} x^{3} + 830034394580628357120000 \\sqrt{\\alpha} x$"
          },
          "metadata": {},
          "execution_count": 74
        },
        {
          "output_type": "stream",
          "name": "stdout",
          "text": [
            "\n",
            "\n",
            "El Polinomio de Hermite para v = 34 es:\n"
          ]
        },
        {
          "output_type": "execute_result",
          "data": {
            "text/plain": [
              "             17  34                  16  32                    15  30         \n",
              "17179869184⋅α  ⋅x   - 4818953306112⋅α  ⋅x   + 597550209957888⋅α  ⋅x   - 433223\n",
              "\n",
              "             14  28                        13  26                         12  \n",
              "90221946880⋅α  ⋅x   + 2046982937986990080⋅α  ⋅x   - 66526945484577177600⋅α  ⋅x\n",
              "\n",
              "24                           11  22                            10  20         \n",
              "   + 1530119746145275084800⋅α  ⋅x   - 25246975811397038899200⋅α  ⋅x   + 299807\n",
              "\n",
              "                    9  18                              8  16                  \n",
              "837760339836928000⋅α ⋅x   - 2548366620962888613888000⋅α ⋅x   + 152901997257773\n",
              "\n",
              "             7  14                               6  12                        \n",
              "31683328000⋅α ⋅x   - 63245826138442599235584000⋅α ⋅x   + 173926021880717147897\n",
              "\n",
              "        5  10                                4  8                             \n",
              "856000⋅α ⋅x   - 301025807101241217515520000⋅α ⋅x  + 30102580710124121751552000\n",
              "\n",
              "   3  6                                2  4                                 2 \n",
              "0⋅α ⋅x  - 150512903550620608757760000⋅α ⋅x  + 28221169415741364142080000⋅α⋅x  \n",
              "\n",
              "                          \n",
              "- 830034394580628357120000"
            ],
            "text/latex": "$\\displaystyle 17179869184 \\alpha^{17} x^{34} - 4818953306112 \\alpha^{16} x^{32} + 597550209957888 \\alpha^{15} x^{30} - 43322390221946880 \\alpha^{14} x^{28} + 2046982937986990080 \\alpha^{13} x^{26} - 66526945484577177600 \\alpha^{12} x^{24} + 1530119746145275084800 \\alpha^{11} x^{22} - 25246975811397038899200 \\alpha^{10} x^{20} + 299807837760339836928000 \\alpha^{9} x^{18} - 2548366620962888613888000 \\alpha^{8} x^{16} + 15290199725777331683328000 \\alpha^{7} x^{14} - 63245826138442599235584000 \\alpha^{6} x^{12} + 173926021880717147897856000 \\alpha^{5} x^{10} - 301025807101241217515520000 \\alpha^{4} x^{8} + 301025807101241217515520000 \\alpha^{3} x^{6} - 150512903550620608757760000 \\alpha^{2} x^{4} + 28221169415741364142080000 \\alpha x^{2} - 830034394580628357120000$"
          },
          "metadata": {},
          "execution_count": 74
        },
        {
          "output_type": "stream",
          "name": "stdout",
          "text": [
            "\n",
            "\n",
            "El Polinomio de Hermite para v = 35 es:\n"
          ]
        },
        {
          "output_type": "execute_result",
          "data": {
            "text/plain": [
              "             35/2  35                   33/2  33                     31/2  31 \n",
              "34359738368⋅α    ⋅x   - 10222022164480⋅α    ⋅x   + 1349306925711360⋅α    ⋅x   \n",
              "\n",
              "                      29/2  29                        27/2  27                \n",
              "- 104571286742630400⋅α    ⋅x   + 5306992802188492800⋅α    ⋅x   - 1862754473568\n",
              "\n",
              "          25/2  25                           23/2  23                         \n",
              "16097280⋅α    ⋅x   + 4656886183920402432000⋅α    ⋅x   - 8415658603799012966400\n",
              "\n",
              "   21/2  21                              19/2  19                             \n",
              "0⋅α    ⋅x   + 1104555191748620451840000⋅α    ⋅x   - 10493274321611894292480000\n",
              "\n",
              "  17/2  17                               15/2  15                             \n",
              "⋅α    ⋅x   + 71354265386960881188864000⋅α    ⋅x   - 34055444843776784203776000\n",
              "\n",
              "   13/2  13                                 11/2  11                          \n",
              "0⋅α    ⋅x   + 1106801957422745486622720000⋅α    ⋅x   - 23413118330096539140096\n",
              "\n",
              "       9/2  9                                 7/2  7                          \n",
              "00000⋅α   ⋅x  + 3010258071012412175155200000⋅α   ⋅x  - 21071806497086885226086\n",
              "\n",
              "       5/2  5                                3/2  3                           \n",
              "40000⋅α   ⋅x  + 658493953033965163315200000⋅α   ⋅x  - 581024076206439849984000\n",
              "\n",
              "       \n",
              "00⋅√α⋅x"
            ],
            "text/latex": "$\\displaystyle 34359738368 \\alpha^{\\frac{35}{2}} x^{35} - 10222022164480 \\alpha^{\\frac{33}{2}} x^{33} + 1349306925711360 \\alpha^{\\frac{31}{2}} x^{31} - 104571286742630400 \\alpha^{\\frac{29}{2}} x^{29} + 5306992802188492800 \\alpha^{\\frac{27}{2}} x^{27} - 186275447356816097280 \\alpha^{\\frac{25}{2}} x^{25} + 4656886183920402432000 \\alpha^{\\frac{23}{2}} x^{23} - 84156586037990129664000 \\alpha^{\\frac{21}{2}} x^{21} + 1104555191748620451840000 \\alpha^{\\frac{19}{2}} x^{19} - 10493274321611894292480000 \\alpha^{\\frac{17}{2}} x^{17} + 71354265386960881188864000 \\alpha^{\\frac{15}{2}} x^{15} - 340554448437767842037760000 \\alpha^{\\frac{13}{2}} x^{13} + 1106801957422745486622720000 \\alpha^{\\frac{11}{2}} x^{11} - 2341311833009653914009600000 \\alpha^{\\frac{9}{2}} x^{9} + 3010258071012412175155200000 \\alpha^{\\frac{7}{2}} x^{7} - 2107180649708688522608640000 \\alpha^{\\frac{5}{2}} x^{5} + 658493953033965163315200000 \\alpha^{\\frac{3}{2}} x^{3} - 58102407620643984998400000 \\sqrt{\\alpha} x$"
          },
          "metadata": {},
          "execution_count": 74
        },
        {
          "output_type": "stream",
          "name": "stdout",
          "text": [
            "\n",
            "\n",
            "El Polinomio de Hermite para v = 36 es:\n"
          ]
        },
        {
          "output_type": "execute_result",
          "data": {
            "text/plain": [
              "             18  36                   17  34                     16  32       \n",
              "68719476736⋅α  ⋅x   - 21646635171840⋅α  ⋅x   + 3035940582850560⋅α  ⋅x   - 2509\n",
              "\n",
              "                15  30                         14  28                         \n",
              "71088182312960⋅α  ⋅x   + 13646552919913267200⋅α  ⋅x   - 515839700372721500160⋅\n",
              "\n",
              " 13  26                            12  24                             11  22  \n",
              "α  ⋅x   + 13970658551761207296000⋅α  ⋅x   - 275421554306149515264000⋅α  ⋅x   +\n",
              "\n",
              "                            10  20                               9  18        \n",
              " 3976398690295033626624000⋅α  ⋅x   - 41973097286447577169920000⋅α ⋅x   + 32109\n",
              "\n",
              "                        8  16                                 7  14           \n",
              "4194241323965349888000⋅α ⋅x   - 1751422877679948901908480000⋅α ⋅x   + 66408117\n",
              "\n",
              "                      6  12                                  5  10            \n",
              "44536472919736320000⋅α ⋅x   - 16857445197669508180869120000⋅α ⋅x   + 270923226\n",
              "\n",
              "                      4  8                                  3  6              \n",
              "39111709576396800000⋅α ⋅x  - 25286167796504262271303680000⋅α ⋅x  + 11852891154\n",
              "\n",
              "                    2  4                                   2                  \n",
              "611372939673600000⋅α ⋅x  - 2091686674343183459942400000⋅α⋅x  + 581024076206439\n",
              "\n",
              "           \n",
              "84998400000"
            ],
            "text/latex": "$\\displaystyle 68719476736 \\alpha^{18} x^{36} - 21646635171840 \\alpha^{17} x^{34} + 3035940582850560 \\alpha^{16} x^{32} - 250971088182312960 \\alpha^{15} x^{30} + 13646552919913267200 \\alpha^{14} x^{28} - 515839700372721500160 \\alpha^{13} x^{26} + 13970658551761207296000 \\alpha^{12} x^{24} - 275421554306149515264000 \\alpha^{11} x^{22} + 3976398690295033626624000 \\alpha^{10} x^{20} - 41973097286447577169920000 \\alpha^{9} x^{18} + 321094194241323965349888000 \\alpha^{8} x^{16} - 1751422877679948901908480000 \\alpha^{7} x^{14} + 6640811744536472919736320000 \\alpha^{6} x^{12} - 16857445197669508180869120000 \\alpha^{5} x^{10} + 27092322639111709576396800000 \\alpha^{4} x^{8} - 25286167796504262271303680000 \\alpha^{3} x^{6} + 11852891154611372939673600000 \\alpha^{2} x^{4} - 2091686674343183459942400000 \\alpha x^{2} + 58102407620643984998400000$"
          },
          "metadata": {},
          "execution_count": 74
        },
        {
          "output_type": "stream",
          "name": "stdout",
          "text": [
            "\n",
            "\n",
            "El Polinomio de Hermite para v = 37 es:\n"
          ]
        },
        {
          "output_type": "execute_result",
          "data": {
            "text/plain": [
              "              37/2  37                   35/2  35                     33/2  33\n",
              "137438953472⋅α    ⋅x   - 45767171506176⋅α    ⋅x   + 6807866761543680⋅α    ⋅x  \n",
              "\n",
              "                       31/2  31                         29/2  29              \n",
              " - 599092275015843840⋅α    ⋅x   + 34822238485295923200⋅α    ⋅x   - 14137828825\n",
              "\n",
              "             27/2  27                            25/2  25                     \n",
              "03014481920⋅α    ⋅x   + 41353149313213173596160⋅α    ⋅x   - 886138913854568005\n",
              "\n",
              "        23/2  23                               21/2  21                       \n",
              "632000⋅α    ⋅x   + 14012071575325356589056000⋅α    ⋅x   - 16347416837879582687\n",
              "\n",
              "         19/2  19                                 17/2  17                    \n",
              "2320000⋅α    ⋅x   + 1397704139638704319758336000⋅α    ⋅x   - 86403528632210812\n",
              "\n",
              "             15/2  15                                  13/2  13               \n",
              "49415168000⋅α    ⋅x   + 37801543776592230466191360000⋅α    ⋅x   - 113404631329\n",
              "\n",
              "                    11/2  11                                   9/2  9         \n",
              "776691398574080000⋅α    ⋅x   + 222759097254918500961484800000⋅α   ⋅x  - 267310\n",
              "\n",
              "                          7/2  7                                   5/2  5     \n",
              "916705902201153781760000⋅α   ⋅x  + 175422789088248319507169280000⋅α   ⋅x  - 51\n",
              "\n",
              "                             3/2  3                                    \n",
              "594937967131858678579200000⋅α   ⋅x  + 4299578163927654889881600000⋅√α⋅x"
            ],
            "text/latex": "$\\displaystyle 137438953472 \\alpha^{\\frac{37}{2}} x^{37} - 45767171506176 \\alpha^{\\frac{35}{2}} x^{35} + 6807866761543680 \\alpha^{\\frac{33}{2}} x^{33} - 599092275015843840 \\alpha^{\\frac{31}{2}} x^{31} + 34822238485295923200 \\alpha^{\\frac{29}{2}} x^{29} - 1413782882503014481920 \\alpha^{\\frac{27}{2}} x^{27} + 41353149313213173596160 \\alpha^{\\frac{25}{2}} x^{25} - 886138913854568005632000 \\alpha^{\\frac{23}{2}} x^{23} + 14012071575325356589056000 \\alpha^{\\frac{21}{2}} x^{21} - 163474168378795826872320000 \\alpha^{\\frac{19}{2}} x^{19} + 1397704139638704319758336000 \\alpha^{\\frac{17}{2}} x^{17} - 8640352863221081249415168000 \\alpha^{\\frac{15}{2}} x^{15} + 37801543776592230466191360000 \\alpha^{\\frac{13}{2}} x^{13} - 113404631329776691398574080000 \\alpha^{\\frac{11}{2}} x^{11} + 222759097254918500961484800000 \\alpha^{\\frac{9}{2}} x^{9} - 267310916705902201153781760000 \\alpha^{\\frac{7}{2}} x^{7} + 175422789088248319507169280000 \\alpha^{\\frac{5}{2}} x^{5} - 51594937967131858678579200000 \\alpha^{\\frac{3}{2}} x^{3} + 4299578163927654889881600000 \\sqrt{\\alpha} x$"
          },
          "metadata": {},
          "execution_count": 74
        },
        {
          "output_type": "stream",
          "name": "stdout",
          "text": [
            "\n",
            "\n",
            "El Polinomio de Hermite para v = 38 es:\n"
          ]
        },
        {
          "output_type": "execute_result",
          "data": {
            "text/plain": [
              "              19  38                   18  36                      17  34     \n",
              "274877906944⋅α  ⋅x   - 96619584290816⋅α  ⋅x   + 15217584525803520⋅α  ⋅x   - 14\n",
              "\n",
              "                   16  32                         15  30                      \n",
              "22844153162629120⋅α  ⋅x   + 88216337496083005440⋅α  ⋅x   - 3837410681079610736\n",
              "\n",
              "     14  28                             13  26                              12\n",
              "640⋅α  ⋅x   + 120878436454007738204160⋅α  ⋅x   - 2806106560539465351168000⋅α  \n",
              "\n",
              "  24                               11  22                                10  2\n",
              "⋅x   + 48405338169305777307648000⋅α  ⋅x   - 621201839839424142114816000⋅α  ⋅x \n",
              "\n",
              "0                                 9  18                                  8  16\n",
              "  + 5901417478474529350090752000⋅α ⋅x   - 41041676100300135934722048000⋅α ⋅x  \n",
              "\n",
              "                                   7  14                                   6  \n",
              " + 205208380501500679673610240000⋅α ⋅x   - 718229331755252378857635840000⋅α ⋅x\n",
              "\n",
              "12                                    5  10                                   \n",
              "   + 1692969139137380607307284480000⋅α ⋅x   - 2539453708706070910960926720000⋅\n",
              "\n",
              " 4  8                                    3  6                                 \n",
              "α ⋅x  + 2222021995117812047090810880000⋅α ⋅x  - 980303821375505314893004800000\n",
              "\n",
              "  2  4                                     2                               \n",
              "⋅α ⋅x  + 163383970229250885815500800000⋅α⋅x  - 4299578163927654889881600000"
            ],
            "text/latex": "$\\displaystyle 274877906944 \\alpha^{19} x^{38} - 96619584290816 \\alpha^{18} x^{36} + 15217584525803520 \\alpha^{17} x^{34} - 1422844153162629120 \\alpha^{16} x^{32} + 88216337496083005440 \\alpha^{15} x^{30} - 3837410681079610736640 \\alpha^{14} x^{28} + 120878436454007738204160 \\alpha^{13} x^{26} - 2806106560539465351168000 \\alpha^{12} x^{24} + 48405338169305777307648000 \\alpha^{11} x^{22} - 621201839839424142114816000 \\alpha^{10} x^{20} + 5901417478474529350090752000 \\alpha^{9} x^{18} - 41041676100300135934722048000 \\alpha^{8} x^{16} + 205208380501500679673610240000 \\alpha^{7} x^{14} - 718229331755252378857635840000 \\alpha^{6} x^{12} + 1692969139137380607307284480000 \\alpha^{5} x^{10} - 2539453708706070910960926720000 \\alpha^{4} x^{8} + 2222021995117812047090810880000 \\alpha^{3} x^{6} - 980303821375505314893004800000 \\alpha^{2} x^{4} + 163383970229250885815500800000 \\alpha x^{2} - 4299578163927654889881600000$"
          },
          "metadata": {},
          "execution_count": 74
        },
        {
          "output_type": "stream",
          "name": "stdout",
          "text": [
            "\n",
            "\n",
            "El Polinomio de Hermite para v = 39 es:\n"
          ]
        },
        {
          "output_type": "execute_result",
          "data": {
            "text/plain": [
              "              39/2  39                    37/2  37                      35/2  \n",
              "549755813888⋅α    ⋅x   - 203684529045504⋅α    ⋅x   + 33913474086076416⋅α    ⋅x\n",
              "\n",
              "35                        33/2  33                          31/2  31          \n",
              "   - 3363086180202577920⋅α    ⋅x   + 221963687893370142720⋅α    ⋅x   - 1032131\n",
              "\n",
              "                  29/2  29                             27/2  27               \n",
              "1487041711636480⋅α    ⋅x   + 349204371978244577034240⋅α    ⋅x   - 875505246888\n",
              "\n",
              "               25/2  25                                23/2  23               \n",
              "3131895644160⋅α    ⋅x   + 164157233791558723043328000⋅α    ⋅x   - 230732111940\n",
              "\n",
              "                  21/2  21                                  19/2  19          \n",
              "3575384997888000⋅α    ⋅x   + 24226871753737541542477824000⋅α    ⋅x   - 1883088\n",
              "\n",
              "                         17/2  17                                    15/2  15 \n",
              "66813141800171077632000⋅α    ⋅x   + 1067083578607803534302773248000⋅α    ⋅x   \n",
              "\n",
              "                                   13/2  13                                   \n",
              "- 4309375990531514273145815040000⋅α    ⋅x   + 12004690259337789760906199040000\n",
              "\n",
              "  11/2  11                                     9/2  9                         \n",
              "⋅α    ⋅x   - 22008598808785947894994698240000⋅α   ⋅x  + 2475967365988419138186\n",
              "\n",
              "            7/2  7                                     5/2  5                 \n",
              "9035520000⋅α   ⋅x  - 15292739613457882912330874880000⋅α   ⋅x  + 42479832259605\n",
              "\n",
              "                   3/2  3                                      \n",
              "23031203020800000⋅α   ⋅x  - 335367096786357081410764800000⋅√α⋅x"
            ],
            "text/latex": "$\\displaystyle 549755813888 \\alpha^{\\frac{39}{2}} x^{39} - 203684529045504 \\alpha^{\\frac{37}{2}} x^{37} + 33913474086076416 \\alpha^{\\frac{35}{2}} x^{35} - 3363086180202577920 \\alpha^{\\frac{33}{2}} x^{33} + 221963687893370142720 \\alpha^{\\frac{31}{2}} x^{31} - 10321311487041711636480 \\alpha^{\\frac{29}{2}} x^{29} + 349204371978244577034240 \\alpha^{\\frac{27}{2}} x^{27} - 8755052468883131895644160 \\alpha^{\\frac{25}{2}} x^{25} + 164157233791558723043328000 \\alpha^{\\frac{23}{2}} x^{23} - 2307321119403575384997888000 \\alpha^{\\frac{21}{2}} x^{21} + 24226871753737541542477824000 \\alpha^{\\frac{19}{2}} x^{19} - 188308866813141800171077632000 \\alpha^{\\frac{17}{2}} x^{17} + 1067083578607803534302773248000 \\alpha^{\\frac{15}{2}} x^{15} - 4309375990531514273145815040000 \\alpha^{\\frac{13}{2}} x^{13} + 12004690259337789760906199040000 \\alpha^{\\frac{11}{2}} x^{11} - 22008598808785947894994698240000 \\alpha^{\\frac{9}{2}} x^{9} + 24759673659884191381869035520000 \\alpha^{\\frac{7}{2}} x^{7} - 15292739613457882912330874880000 \\alpha^{\\frac{5}{2}} x^{5} + 4247983225960523031203020800000 \\alpha^{\\frac{3}{2}} x^{3} - 335367096786357081410764800000 \\sqrt{\\alpha} x$"
          },
          "metadata": {},
          "execution_count": 74
        },
        {
          "output_type": "stream",
          "name": "stdout",
          "text": [
            "\n",
            "\n",
            "El Polinomio de Hermite para v = 40 es:\n"
          ]
        },
        {
          "output_type": "execute_result",
          "data": {
            "text/plain": [
              "               20  40                    19  38                      18  36   \n",
              "1099511627776⋅α  ⋅x   - 428809534832640⋅α  ⋅x   + 75363275746836480⋅α  ⋅x   - \n",
              "\n",
              "                     17  34                          16  32                   \n",
              "7913143953417830400⋅α  ⋅x   + 554909219733425356800⋅α  ⋅x   - 2752349729877789\n",
              "\n",
              "         15  30                             14  28                            \n",
              "7697280⋅α  ⋅x   + 997726777080698791526400⋅α  ⋅x   - 2693862298117886737121280\n",
              "\n",
              "   13  26                                12  24                               \n",
              "0⋅α  ⋅x   + 547190779305195743477760000⋅α  ⋅x   - 8390258616013001399992320000\n",
              "\n",
              "  11  22                                  10  20                              \n",
              "⋅α  ⋅x   + 96907487014950166169911296000⋅α  ⋅x   - 836928296947296889649233920\n",
              "\n",
              "     9  18                                    8  16                           \n",
              "000⋅α ⋅x   + 5335417893039017671513866240000⋅α ⋅x   - 246250056601800815608332\n",
              "\n",
              "          7  14                                     6  12                     \n",
              "28800000⋅α ⋅x   + 80031268395585265072707993600000⋅α ⋅x   - 176068790470287583\n",
              "\n",
              "                 5  10                                      4  8              \n",
              "159957585920000⋅α ⋅x   + 247596736598841913818690355200000⋅α ⋅x  - 20390319484\n",
              "\n",
              "                        3  6                                     2  4         \n",
              "6105105497744998400000⋅α ⋅x  + 84959664519210460624060416000000⋅α ⋅x  - 134146\n",
              "\n",
              "                              2                                 \n",
              "83871454283256430592000000⋅α⋅x  + 335367096786357081410764800000"
            ],
            "text/latex": "$\\displaystyle 1099511627776 \\alpha^{20} x^{40} - 428809534832640 \\alpha^{19} x^{38} + 75363275746836480 \\alpha^{18} x^{36} - 7913143953417830400 \\alpha^{17} x^{34} + 554909219733425356800 \\alpha^{16} x^{32} - 27523497298777897697280 \\alpha^{15} x^{30} + 997726777080698791526400 \\alpha^{14} x^{28} - 26938622981178867371212800 \\alpha^{13} x^{26} + 547190779305195743477760000 \\alpha^{12} x^{24} - 8390258616013001399992320000 \\alpha^{11} x^{22} + 96907487014950166169911296000 \\alpha^{10} x^{20} - 836928296947296889649233920000 \\alpha^{9} x^{18} + 5335417893039017671513866240000 \\alpha^{8} x^{16} - 24625005660180081560833228800000 \\alpha^{7} x^{14} + 80031268395585265072707993600000 \\alpha^{6} x^{12} - 176068790470287583159957585920000 \\alpha^{5} x^{10} + 247596736598841913818690355200000 \\alpha^{4} x^{8} - 203903194846105105497744998400000 \\alpha^{3} x^{6} + 84959664519210460624060416000000 \\alpha^{2} x^{4} - 13414683871454283256430592000000 \\alpha x^{2} + 335367096786357081410764800000$"
          },
          "metadata": {},
          "execution_count": 74
        },
        {
          "output_type": "stream",
          "name": "stdout",
          "text": [
            "\n",
            "\n",
            "El Polinomio de Hermite para v = 41 es:\n"
          ]
        },
        {
          "output_type": "execute_result",
          "data": {
            "text/plain": [
              "               41/2  41                    39/2  39                       37/2\n",
              "2199023255552⋅α    ⋅x   - 901599534776320⋅α    ⋅x   + 167021313817313280⋅α    \n",
              "\n",
              "  37                         35/2  35                           33/2  33      \n",
              "⋅x   - 18539365833721774080⋅α    ⋅x   + 1378865333883056947200⋅α    ⋅x   - 728\n",
              "\n",
              "                      31/2  31                              29/2  29          \n",
              "04089629025406812160⋅α    ⋅x   + 2821158473124734513971200⋅α    ⋅x   - 8181359\n",
              "\n",
              "                     27/2  27                                 25/2  25        \n",
              "5720617300905164800⋅α    ⋅x   + 1794785756121042038607052800⋅α    ⋅x   - 29913\n",
              "\n",
              "                          23/2  23                                   21/2  21 \n",
              "095935350700643450880000⋅α    ⋅x   + 378400663582186363139653632000⋅α    ⋅x   \n",
              "\n",
              "                                   19/2  19                                   \n",
              "- 3612006334193597102696693760000⋅α    ⋅x   + 25735545131129379356713943040000\n",
              "\n",
              "  17/2  17                                      15/2  15                      \n",
              "⋅α    ⋅x   - 134616697608984445865888317440000⋅α    ⋅x   + 5048126160336916719\n",
              "\n",
              "                13/2  13                                       11/2  11       \n",
              "97081190400000⋅α    ⋅x   - 1312512801687598347192411095040000⋅α    ⋅x   + 2255\n",
              "\n",
              "                                9/2  9                                       7\n",
              "881377900559659236956569600000⋅α   ⋅x  - 2388580282482945521545012838400000⋅α \n",
              "\n",
              "/2  7                                       5/2  5                            \n",
              "  ⋅x  + 1393338498115051554234590822400000⋅α   ⋅x  - 3666680258197504090091028\n",
              "\n",
              "          3/2  3                                        \n",
              "48000000⋅α   ⋅x  + 27500101936481280675682713600000⋅√α⋅x"
            ],
            "text/latex": "$\\displaystyle 2199023255552 \\alpha^{\\frac{41}{2}} x^{41} - 901599534776320 \\alpha^{\\frac{39}{2}} x^{39} + 167021313817313280 \\alpha^{\\frac{37}{2}} x^{37} - 18539365833721774080 \\alpha^{\\frac{35}{2}} x^{35} + 1378865333883056947200 \\alpha^{\\frac{33}{2}} x^{33} - 72804089629025406812160 \\alpha^{\\frac{31}{2}} x^{31} + 2821158473124734513971200 \\alpha^{\\frac{29}{2}} x^{29} - 81813595720617300905164800 \\alpha^{\\frac{27}{2}} x^{27} + 1794785756121042038607052800 \\alpha^{\\frac{25}{2}} x^{25} - 29913095935350700643450880000 \\alpha^{\\frac{23}{2}} x^{23} + 378400663582186363139653632000 \\alpha^{\\frac{21}{2}} x^{21} - 3612006334193597102696693760000 \\alpha^{\\frac{19}{2}} x^{19} + 25735545131129379356713943040000 \\alpha^{\\frac{17}{2}} x^{17} - 134616697608984445865888317440000 \\alpha^{\\frac{15}{2}} x^{15} + 504812616033691671997081190400000 \\alpha^{\\frac{13}{2}} x^{13} - 1312512801687598347192411095040000 \\alpha^{\\frac{11}{2}} x^{11} + 2255881377900559659236956569600000 \\alpha^{\\frac{9}{2}} x^{9} - 2388580282482945521545012838400000 \\alpha^{\\frac{7}{2}} x^{7} + 1393338498115051554234590822400000 \\alpha^{\\frac{5}{2}} x^{5} - 366668025819750409009102848000000 \\alpha^{\\frac{3}{2}} x^{3} + 27500101936481280675682713600000 \\sqrt{\\alpha} x$"
          },
          "metadata": {},
          "execution_count": 74
        },
        {
          "output_type": "stream",
          "name": "stdout",
          "text": [
            "\n",
            "\n",
            "El Polinomio de Hermite para v = 42 es:\n"
          ]
        },
        {
          "output_type": "execute_result",
          "data": {
            "text/plain": [
              "               21  42                     20  40                       19  38 \n",
              "4398046511104⋅α  ⋅x   - 1893359023030272⋅α  ⋅x   + 369205009490903040⋅α  ⋅x   \n",
              "\n",
              "                        18  36                           17  34               \n",
              "- 43258520278684139520⋅α  ⋅x   + 3406608471946375987200⋅α  ⋅x   - 191110735276\n",
              "\n",
              "              16  32                              15  30                      \n",
              "191692881920⋅α  ⋅x   + 7899243724749256639119360⋅α  ⋅x   - 2454407871618519027\n",
              "\n",
              "          14  28                                 13  26                       \n",
              "15494400⋅α  ⋅x   + 5798538596698751201653555200⋅α  ⋅x   - 10469583577372745225\n",
              "\n",
              "            12  24                                    11  22                  \n",
              "2078080000⋅α  ⋅x   + 1444802533677438841078677504000⋅α  ⋅x   - 151704266036131\n",
              "\n",
              "                   10  20                                      9  18          \n",
              "07831326113792000⋅α  ⋅x   + 120099210611937103664665067520000⋅α ⋅x   - 7067376\n",
              "\n",
              "                            8  16                                       7  14 \n",
              "62447168340795913666560000⋅α ⋅x   + 3028875696202150031982487142400000⋅α ⋅x   \n",
              "\n",
              "                                      6  12                                   \n",
              "- 9187589611813188430346877665280000⋅α ⋅x   + 18949403574364701137590435184640\n",
              "\n",
              "     5  10                                        4  8                        \n",
              "000⋅α ⋅x   - 25080092966070927976222634803200000⋅α ⋅x  + 195067389736107217592\n",
              "\n",
              "                3  6                                       2  4               \n",
              "84271513600000⋅α ⋅x  - 7700028542214758589191159808000000⋅α ⋅x  + 115500428133\n",
              "\n",
              "                          2                                   \n",
              "2213788378673971200000⋅α⋅x  - 27500101936481280675682713600000"
            ],
            "text/latex": "$\\displaystyle 4398046511104 \\alpha^{21} x^{42} - 1893359023030272 \\alpha^{20} x^{40} + 369205009490903040 \\alpha^{19} x^{38} - 43258520278684139520 \\alpha^{18} x^{36} + 3406608471946375987200 \\alpha^{17} x^{34} - 191110735276191692881920 \\alpha^{16} x^{32} + 7899243724749256639119360 \\alpha^{15} x^{30} - 245440787161851902715494400 \\alpha^{14} x^{28} + 5798538596698751201653555200 \\alpha^{13} x^{26} - 104695835773727452252078080000 \\alpha^{12} x^{24} + 1444802533677438841078677504000 \\alpha^{11} x^{22} - 15170426603613107831326113792000 \\alpha^{10} x^{20} + 120099210611937103664665067520000 \\alpha^{9} x^{18} - 706737662447168340795913666560000 \\alpha^{8} x^{16} + 3028875696202150031982487142400000 \\alpha^{7} x^{14} - 9187589611813188430346877665280000 \\alpha^{6} x^{12} + 18949403574364701137590435184640000 \\alpha^{5} x^{10} - 25080092966070927976222634803200000 \\alpha^{4} x^{8} + 19506738973610721759284271513600000 \\alpha^{3} x^{6} - 7700028542214758589191159808000000 \\alpha^{2} x^{4} + 1155004281332213788378673971200000 \\alpha x^{2} - 27500101936481280675682713600000$"
          },
          "metadata": {},
          "execution_count": 74
        },
        {
          "output_type": "stream",
          "name": "stdout",
          "text": [
            "\n",
            "\n",
            "El Polinomio de Hermite para v = 43 es:\n"
          ]
        },
        {
          "output_type": "execute_result",
          "data": {
            "text/plain": [
              "               43/2  43                     41/2  41                       39/\n",
              "8796093022208⋅α    ⋅x   - 3971435999526912⋅α    ⋅x   + 814144379903016960⋅α   \n",
              "\n",
              "2  39                          37/2  37                           35/2  35    \n",
              " ⋅x   - 100546830918022594560⋅α    ⋅x   + 8370523673925380997120⋅α    ⋅x   - 4\n",
              "\n",
              "                         33/2  33                               31/2  31      \n",
              "98046158598560169328640⋅α    ⋅x   + 21914030978336647450460160⋅α    ⋅x   - 727\n",
              "\n",
              "                          29/2  29                                  27/2  27  \n",
              "858886066181504604569600⋅α    ⋅x   + 18469419233929355679340953600⋅α    ⋅x   -\n",
              "\n",
              "                                 25/2  25                                    2\n",
              " 360153675061622435747148595200⋅α    ⋅x   + 5402305125924336536207228928000⋅α \n",
              "\n",
              "3/2  23                                     21/2  21                          \n",
              "   ⋅x   - 62126508948129870166383132672000⋅α    ⋅x   + 54360695329613636395585\n",
              "\n",
              "            19/2  19                                       17/2  17           \n",
              "2410880000⋅α    ⋅x   - 3575261115909204547555798548480000⋅α    ⋅x   + 17365553\n",
              "\n",
              "                             15/2  15                                        1\n",
              "991558993516699592949760000⋅α    ⋅x   - 60779438970456477308448575324160000⋅α \n",
              "\n",
              "3/2  13                                         11/2  11                      \n",
              "   ⋅x   + 148149882490487663439343402352640000⋅α    ⋅x   - 2396542216757888673\n",
              "\n",
              "                   9/2  9                                         7/2  7      \n",
              "28349621452800000⋅α   ⋅x  + 239654221675788867328349621452800000⋅α   ⋅x  - 132\n",
              "\n",
              "                                   5/2  5                                     \n",
              "440490926093847734087948697600000⋅α   ⋅x  + 3311012273152346193352198717440000\n",
              "\n",
              "   3/2  3                                          \n",
              "0⋅α   ⋅x  - 2365008766537390138108713369600000⋅√α⋅x"
            ],
            "text/latex": "$\\displaystyle 8796093022208 \\alpha^{\\frac{43}{2}} x^{43} - 3971435999526912 \\alpha^{\\frac{41}{2}} x^{41} + 814144379903016960 \\alpha^{\\frac{39}{2}} x^{39} - 100546830918022594560 \\alpha^{\\frac{37}{2}} x^{37} + 8370523673925380997120 \\alpha^{\\frac{35}{2}} x^{35} - 498046158598560169328640 \\alpha^{\\frac{33}{2}} x^{33} + 21914030978336647450460160 \\alpha^{\\frac{31}{2}} x^{31} - 727858886066181504604569600 \\alpha^{\\frac{29}{2}} x^{29} + 18469419233929355679340953600 \\alpha^{\\frac{27}{2}} x^{27} - 360153675061622435747148595200 \\alpha^{\\frac{25}{2}} x^{25} + 5402305125924336536207228928000 \\alpha^{\\frac{23}{2}} x^{23} - 62126508948129870166383132672000 \\alpha^{\\frac{21}{2}} x^{21} + 543606953296136363955852410880000 \\alpha^{\\frac{19}{2}} x^{19} - 3575261115909204547555798548480000 \\alpha^{\\frac{17}{2}} x^{17} + 17365553991558993516699592949760000 \\alpha^{\\frac{15}{2}} x^{15} - 60779438970456477308448575324160000 \\alpha^{\\frac{13}{2}} x^{13} + 148149882490487663439343402352640000 \\alpha^{\\frac{11}{2}} x^{11} - 239654221675788867328349621452800000 \\alpha^{\\frac{9}{2}} x^{9} + 239654221675788867328349621452800000 \\alpha^{\\frac{7}{2}} x^{7} - 132440490926093847734087948697600000 \\alpha^{\\frac{5}{2}} x^{5} + 33110122731523461933521987174400000 \\alpha^{\\frac{3}{2}} x^{3} - 2365008766537390138108713369600000 \\sqrt{\\alpha} x$"
          },
          "metadata": {},
          "execution_count": 74
        },
        {
          "output_type": "stream",
          "name": "stdout",
          "text": [
            "\n",
            "\n",
            "El Polinomio de Hermite para v = 44 es:\n"
          ]
        },
        {
          "output_type": "execute_result",
          "data": {
            "text/plain": [
              "                22  44                     21  42                        20  4\n",
              "17592186044416⋅α  ⋅x   - 8321103999008768⋅α  ⋅x   + 1791117635786637312⋅α  ⋅x \n",
              "\n",
              "0                          19  38                            18  36           \n",
              "  - 232845292652262850560⋅α  ⋅x   + 20461280091817597992960⋅α  ⋅x   - 12890606\n",
              "\n",
              "                   17  34                               16  32                \n",
              "45784508673556480⋅α  ⋅x   + 60263585190425780488765440⋅α  ⋅x   - 2135052732460\n",
              "\n",
              "                 15  30                                  14  28               \n",
              "799080173404160⋅α  ⋅x   + 58046746163777974992214425600⋅α  ⋅x   - 121898166943\n",
              "\n",
              "                     13  26                                     12  24        \n",
              "9337474836502937600⋅α  ⋅x   + 19808452128389233966093172736000⋅α  ⋅x   - 24850\n",
              "\n",
              "                              11  22                                       10 \n",
              "6035792519480665532530688000⋅α  ⋅x   + 2391870594503000001405750607872000⋅α  ⋅\n",
              "\n",
              " 20                                        9  18                              \n",
              "x   - 17479054344445000010272792903680000⋅α ⋅x   + 955105469535744643418477612\n",
              "\n",
              "          8  16                                         7  14                 \n",
              "23680000⋅α ⋅x   - 382042187814297857367391044894720000⋅α ⋅x   + 10864324715969\n",
              "\n",
              "                         6  12                                          5  10 \n",
              "09531888518283919360000⋅α ⋅x   - 2108957150746942032489476668784640000⋅α ⋅x   \n",
              "\n",
              "                                         4  8                                 \n",
              "+ 2636196438433677540611845835980800000⋅α ⋅x  - 194246053358270976676662324756\n",
              "\n",
              "         3  6                                         2  4                    \n",
              "4800000⋅α ⋅x  + 728422700093516162537483717836800000⋅α ⋅x  - 10406038572764516\n",
              "\n",
              "                       2                                     \n",
              "6076783388262400000⋅α⋅x  + 2365008766537390138108713369600000"
            ],
            "text/latex": "$\\displaystyle 17592186044416 \\alpha^{22} x^{44} - 8321103999008768 \\alpha^{21} x^{42} + 1791117635786637312 \\alpha^{20} x^{40} - 232845292652262850560 \\alpha^{19} x^{38} + 20461280091817597992960 \\alpha^{18} x^{36} - 1289060645784508673556480 \\alpha^{17} x^{34} + 60263585190425780488765440 \\alpha^{16} x^{32} - 2135052732460799080173404160 \\alpha^{15} x^{30} + 58046746163777974992214425600 \\alpha^{14} x^{28} - 1218981669439337474836502937600 \\alpha^{13} x^{26} + 19808452128389233966093172736000 \\alpha^{12} x^{24} - 248506035792519480665532530688000 \\alpha^{11} x^{22} + 2391870594503000001405750607872000 \\alpha^{10} x^{20} - 17479054344445000010272792903680000 \\alpha^{9} x^{18} + 95510546953574464341847761223680000 \\alpha^{8} x^{16} - 382042187814297857367391044894720000 \\alpha^{7} x^{14} + 1086432471596909531888518283919360000 \\alpha^{6} x^{12} - 2108957150746942032489476668784640000 \\alpha^{5} x^{10} + 2636196438433677540611845835980800000 \\alpha^{4} x^{8} - 1942460533582709766766623247564800000 \\alpha^{3} x^{6} + 728422700093516162537483717836800000 \\alpha^{2} x^{4} - 104060385727645166076783388262400000 \\alpha x^{2} + 2365008766537390138108713369600000$"
          },
          "metadata": {},
          "execution_count": 74
        },
        {
          "output_type": "stream",
          "name": "stdout",
          "text": [
            "\n",
            "\n",
            "El Polinomio de Hermite para v = 45 es:\n"
          ]
        },
        {
          "output_type": "execute_result",
          "data": {
            "text/plain": [
              "                45/2  45                      43/2  43                        \n",
              "35184372088832⋅α    ⋅x   - 17416264183971840⋅α    ⋅x   + 3931721639531642880⋅α\n",
              "\n",
              "41/2  41                          39/2  39                            37/2  37\n",
              "    ⋅x   - 537335290735991193600⋅α    ⋅x   + 49770681304421184307200⋅α    ⋅x  \n",
              "\n",
              "                              35/2  35                                33/2  33\n",
              " - 3314727374874450874859520⋅α    ⋅x   + 164355232337524855878451200⋅α    ⋅x  \n",
              "\n",
              "                                 31/2  31                                   29\n",
              " - 6198540191015223135987302400⋅α    ⋅x   + 180145074301379922389630976000⋅α  \n",
              "\n",
              "/2  29                                    27/2  27                            \n",
              "  ⋅x   - 4063272231464458249455009792000⋅α    ⋅x   + 7131042766220124227793542\n",
              "\n",
              "         25/2  25                                      23/2  23               \n",
              "1849600⋅α    ⋅x   - 972414922666380576517301207040000⋅α    ⋅x   + 102508739764\n",
              "\n",
              "                         21/2  21                                        19/2 \n",
              "41428577453216890880000⋅α    ⋅x   - 82795520578950000048660597964800000⋅α    ⋅\n",
              "\n",
              " 19                                         17/2  17                          \n",
              "x   + 505644072107158928868605794713600000⋅α    ⋅x   - 22922531268857871442043\n",
              "\n",
              "                15/2  15                                          13/2  13    \n",
              "46269368320000⋅α    ⋅x   + 7521455572593989066920511196364800000⋅α    ⋅x   - 1\n",
              "\n",
              "                                       11/2  11                               \n",
              "7255103960656798447641172744601600000⋅α    ⋅x   + 2636196438433677540611845835\n",
              "\n",
              "            9/2  9                                           7/2  7           \n",
              "9808000000⋅α   ⋅x  - 24974492574634839858428013182976000000⋅α   ⋅x  + 13111608\n",
              "\n",
              "                                5/2  5                                        \n",
              "601683290925674706921062400000⋅α   ⋅x  - 3121811571829354982303501647872000000\n",
              "\n",
              "  3/2  3                                            \n",
              "⋅α   ⋅x  + 212850788988365112429784203264000000⋅√α⋅x"
            ],
            "text/latex": "$\\displaystyle 35184372088832 \\alpha^{\\frac{45}{2}} x^{45} - 17416264183971840 \\alpha^{\\frac{43}{2}} x^{43} + 3931721639531642880 \\alpha^{\\frac{41}{2}} x^{41} - 537335290735991193600 \\alpha^{\\frac{39}{2}} x^{39} + 49770681304421184307200 \\alpha^{\\frac{37}{2}} x^{37} - 3314727374874450874859520 \\alpha^{\\frac{35}{2}} x^{35} + 164355232337524855878451200 \\alpha^{\\frac{33}{2}} x^{33} - 6198540191015223135987302400 \\alpha^{\\frac{31}{2}} x^{31} + 180145074301379922389630976000 \\alpha^{\\frac{29}{2}} x^{29} - 4063272231464458249455009792000 \\alpha^{\\frac{27}{2}} x^{27} + 71310427662201242277935421849600 \\alpha^{\\frac{25}{2}} x^{25} - 972414922666380576517301207040000 \\alpha^{\\frac{23}{2}} x^{23} + 10250873976441428577453216890880000 \\alpha^{\\frac{21}{2}} x^{21} - 82795520578950000048660597964800000 \\alpha^{\\frac{19}{2}} x^{19} + 505644072107158928868605794713600000 \\alpha^{\\frac{17}{2}} x^{17} - 2292253126885787144204346269368320000 \\alpha^{\\frac{15}{2}} x^{15} + 7521455572593989066920511196364800000 \\alpha^{\\frac{13}{2}} x^{13} - 17255103960656798447641172744601600000 \\alpha^{\\frac{11}{2}} x^{11} + 26361964384336775406118458359808000000 \\alpha^{\\frac{9}{2}} x^{9} - 24974492574634839858428013182976000000 \\alpha^{\\frac{7}{2}} x^{7} + 13111608601683290925674706921062400000 \\alpha^{\\frac{5}{2}} x^{5} - 3121811571829354982303501647872000000 \\alpha^{\\frac{3}{2}} x^{3} + 212850788988365112429784203264000000 \\sqrt{\\alpha} x$"
          },
          "metadata": {},
          "execution_count": 74
        },
        {
          "output_type": "stream",
          "name": "stdout",
          "text": [
            "\n",
            "\n",
            "El Polinomio de Hermite para v = 46 es:\n"
          ]
        },
        {
          "output_type": "execute_result",
          "data": {
            "text/plain": [
              "                23  46                      22  44                        21  \n",
              "70368744177664⋅α  ⋅x   - 36415825111941120⋅α  ⋅x   + 8612342638974074880⋅α  ⋅x\n",
              "\n",
              "42                           20  40                             19  38        \n",
              "   - 1235871168692779745280⋅α  ⋅x   + 120497438947546025164800⋅α  ⋅x   - 84709\n",
              "\n",
              "                      18  36                                17  34            \n",
              "69958012485569085440⋅α  ⋅x   + 444725922795655492376985600⋅α  ⋅x   - 178208030\n",
              "\n",
              "                      16  32                                   15  30         \n",
              "49168766515963494400⋅α  ⋅x   + 552444894524231761994868326400⋅α  ⋅x   - 133507\n",
              "\n",
              "                            14  28                                      13  26\n",
              "51617668934248209317888000⋅α  ⋅x   + 252329205573942857291156108083200⋅α  ⋅x  \n",
              "\n",
              "                                       12  24                                 \n",
              " - 3727590536887792209982987960320000⋅α  ⋅x   + 428672911742096104148043615436\n",
              "\n",
              "       11  22                                         10  20                  \n",
              "80000⋅α  ⋅x   - 380859394663170000223838750638080000⋅α  ⋅x   + 258440303521436\n",
              "\n",
              "                        9  18                                           8  16 \n",
              "7858661762950758400000⋅α ⋅x   - 13180455479593276079174991048867840000⋅α ⋅x   \n",
              "\n",
              "                                          7  14                               \n",
              "+ 49426708048474785296906216433254400000⋅α ⋅x   - 1322891303650354547652489910\n",
              "\n",
              "             6  12                                            5  10           \n",
              "41945600000⋅α ⋅x   + 242530072335898333736289816910233600000⋅α ⋅x   - 28720666\n",
              "\n",
              "                                 4  8                                         \n",
              "4608300658371922151604224000000⋅α ⋅x  + 20104466522581046086034550612295680000\n",
              "\n",
              "   3  6                                           2  4                        \n",
              "0⋅α ⋅x  - 71801666152075164592980537901056000000⋅α ⋅x  + 979113629346479517177\n",
              "\n",
              "                    2                                       \n",
              "0073350144000000⋅α⋅x  - 212850788988365112429784203264000000"
            ],
            "text/latex": "$\\displaystyle 70368744177664 \\alpha^{23} x^{46} - 36415825111941120 \\alpha^{22} x^{44} + 8612342638974074880 \\alpha^{21} x^{42} - 1235871168692779745280 \\alpha^{20} x^{40} + 120497438947546025164800 \\alpha^{19} x^{38} - 8470969958012485569085440 \\alpha^{18} x^{36} + 444725922795655492376985600 \\alpha^{17} x^{34} - 17820803049168766515963494400 \\alpha^{16} x^{32} + 552444894524231761994868326400 \\alpha^{15} x^{30} - 13350751617668934248209317888000 \\alpha^{14} x^{28} + 252329205573942857291156108083200 \\alpha^{13} x^{26} - 3727590536887792209982987960320000 \\alpha^{12} x^{24} + 42867291174209610414804361543680000 \\alpha^{11} x^{22} - 380859394663170000223838750638080000 \\alpha^{10} x^{20} + 2584403035214367858661762950758400000 \\alpha^{9} x^{18} - 13180455479593276079174991048867840000 \\alpha^{8} x^{16} + 49426708048474785296906216433254400000 \\alpha^{7} x^{14} - 132289130365035454765248991041945600000 \\alpha^{6} x^{12} + 242530072335898333736289816910233600000 \\alpha^{5} x^{10} - 287206664608300658371922151604224000000 \\alpha^{4} x^{8} + 201044665225810460860345506122956800000 \\alpha^{3} x^{6} - 71801666152075164592980537901056000000 \\alpha^{2} x^{4} + 9791136293464795171770073350144000000 \\alpha x^{2} - 212850788988365112429784203264000000$"
          },
          "metadata": {},
          "execution_count": 74
        },
        {
          "output_type": "stream",
          "name": "stdout",
          "text": [
            "\n",
            "\n",
            "El Polinomio de Hermite para v = 47 es:\n"
          ]
        },
        {
          "output_type": "execute_result",
          "data": {
            "text/plain": [
              "                 47/2  47                      45/2  45                       \n",
              "140737488355328⋅α    ⋅x   - 76068612456054784⋅α    ⋅x   + 18826981582873559040\n",
              "\n",
              "  43/2  43                           41/2  41                             39/2\n",
              "⋅α    ⋅x   - 2833460728222470635520⋅α    ⋅x   + 290429724642803240140800⋅α    \n",
              "\n",
              "  39                               37/2  37                                 35\n",
              "⋅x   - 21520842596031720094433280⋅α    ⋅x   + 1194406764079760465241047040⋅α  \n",
              "\n",
              "/2  35                                  33/2  33                              \n",
              "  ⋅x   - 50762287473389819772744499200⋅α    ⋅x   + 167515548662186405250056847\n",
              "\n",
              "      31/2  31                                     29/2  29                   \n",
              "3600⋅α    ⋅x   - 43274850071064821356264685568000⋅α    ⋅x   + 8784794564426158\n",
              "\n",
              "                   27/2  27                                        25/2  25   \n",
              "73532173117030400⋅α    ⋅x   - 14015740418698098709536034730803200⋅α    ⋅x   + \n",
              "\n",
              "                                      23/2  23                                \n",
              "175196755233726233869200434135040000⋅α    ⋅x   - 17047991951589514295733734552\n",
              "\n",
              "          21/2  21                                           19/2  19         \n",
              "37120000⋅α    ⋅x   + 12785993963692135721800300914278400000⋅α    ⋅x   - 728801\n",
              "\n",
              "                                  17/2  17                                    \n",
              "65593045173614261715211386880000⋅α    ⋅x   + 309740703770441987860612289648394\n",
              "\n",
              "        15/2  15                                            13/2  13          \n",
              "240000⋅α    ⋅x   - 956552173408717903687185012149452800000⋅α    ⋅x   + 2072529\n",
              "\n",
              "                                   11/2  11                                   \n",
              "709052222124655567526323814400000⋅α    ⋅x   - 29997140525755846541067424723107\n",
              "\n",
              "          9/2  9                                             7/2  7           \n",
              "84000000⋅α   ⋅x  + 2699742647318026188696068225079705600000⋅α   ⋅x  - 13498713\n",
              "\n",
              "                                  5/2  5                                      \n",
              "23659013094348034112539852800000⋅α   ⋅x  + 30678893719523024871546229830451200\n",
              "\n",
              "      3/2  3                                              \n",
              "0000⋅α   ⋅x  - 20007974164906320568399715106816000000⋅√α⋅x"
            ],
            "text/latex": "$\\displaystyle 140737488355328 \\alpha^{\\frac{47}{2}} x^{47} - 76068612456054784 \\alpha^{\\frac{45}{2}} x^{45} + 18826981582873559040 \\alpha^{\\frac{43}{2}} x^{43} - 2833460728222470635520 \\alpha^{\\frac{41}{2}} x^{41} + 290429724642803240140800 \\alpha^{\\frac{39}{2}} x^{39} - 21520842596031720094433280 \\alpha^{\\frac{37}{2}} x^{37} + 1194406764079760465241047040 \\alpha^{\\frac{35}{2}} x^{35} - 50762287473389819772744499200 \\alpha^{\\frac{33}{2}} x^{33} + 1675155486621864052500568473600 \\alpha^{\\frac{31}{2}} x^{31} - 43274850071064821356264685568000 \\alpha^{\\frac{29}{2}} x^{29} + 878479456442615873532173117030400 \\alpha^{\\frac{27}{2}} x^{27} - 14015740418698098709536034730803200 \\alpha^{\\frac{25}{2}} x^{25} + 175196755233726233869200434135040000 \\alpha^{\\frac{23}{2}} x^{23} - 1704799195158951429573373455237120000 \\alpha^{\\frac{21}{2}} x^{21} + 12785993963692135721800300914278400000 \\alpha^{\\frac{19}{2}} x^{19} - 72880165593045173614261715211386880000 \\alpha^{\\frac{17}{2}} x^{17} + 309740703770441987860612289648394240000 \\alpha^{\\frac{15}{2}} x^{15} - 956552173408717903687185012149452800000 \\alpha^{\\frac{13}{2}} x^{13} + 2072529709052222124655567526323814400000 \\alpha^{\\frac{11}{2}} x^{11} - 2999714052575584654106742472310784000000 \\alpha^{\\frac{9}{2}} x^{9} + 2699742647318026188696068225079705600000 \\alpha^{\\frac{7}{2}} x^{7} - 1349871323659013094348034112539852800000 \\alpha^{\\frac{5}{2}} x^{5} + 306788937195230248715462298304512000000 \\alpha^{\\frac{3}{2}} x^{3} - 20007974164906320568399715106816000000 \\sqrt{\\alpha} x$"
          },
          "metadata": {},
          "execution_count": 74
        },
        {
          "output_type": "stream",
          "name": "stdout",
          "text": [
            "\n",
            "\n",
            "El Polinomio de Hermite para v = 48 es:\n"
          ]
        },
        {
          "output_type": "execute_result",
          "data": {
            "text/plain": [
              "                 24  48                       23  46                         2\n",
              "281474976710656⋅α  ⋅x   - 158751886864809984⋅α  ⋅x   + 41077050726269583360⋅α \n",
              "\n",
              "2  44                           21  42                             20  40     \n",
              " ⋅x   - 6476481664508504309760⋅α  ⋅x   + 697031339142727776337920⋅α  ⋅x   - 54\n",
              "\n",
              "                          19  38                                 18  36       \n",
              "368444453132766554357760⋅α  ⋅x   + 3185084704212694573976125440⋅α  ⋅x   - 1433\n",
              "\n",
              "                            17  34                                    16  32  \n",
              "28811689571255828925644800⋅α  ⋅x   + 5025466459865592157501705420800⋅α  ⋅x   -\n",
              "\n",
              "                                    15  30                                    \n",
              " 138479520227407428340046993817600⋅α  ⋅x   + 301192956494611156639602211553280\n",
              "\n",
              "   14  28                                        13  26                       \n",
              "0⋅α  ⋅x   - 51750426161346826004440743621427200⋅α  ⋅x   + 70078702093490493547\n",
              "\n",
              "                  12  24                                          11  22      \n",
              "6801736540160000⋅α  ⋅x   - 7439123760693606238138356895580160000⋅α  ⋅x   + 613\n",
              "\n",
              "                                     10  20                                   \n",
              "72771025722251464641444388536320000⋅α  ⋅x   - 38869421649624092594272914779406\n",
              "\n",
              "         9  18                                             8  16              \n",
              "3360000⋅α ⋅x   + 1858444222622651927163673737890365440000⋅α ⋅x   - 65592149033\n",
              "\n",
              "                               7  14                                          \n",
              "74065625283554369024819200000⋅α ⋅x   + 165802376724177769972445402105905152000\n",
              "\n",
              "    6  12                                              5  10                  \n",
              "00⋅α ⋅x   - 28797254904725612679424727734183526400000⋅α ⋅x   + 323969117678163\n",
              "\n",
              "                            4  8                                              \n",
              "14264352818700956467200000⋅α ⋅x  - 21597941178544209509568545800637644800000⋅α\n",
              "\n",
              "3  6                                             2  4                         \n",
              " ⋅x  + 7362934492685525969171095159308288000000⋅α ⋅x  - 9603827599155033872831\n",
              "\n",
              "                     2                                         \n",
              "86325127168000000⋅α⋅x  + 20007974164906320568399715106816000000"
            ],
            "text/latex": "$\\displaystyle 281474976710656 \\alpha^{24} x^{48} - 158751886864809984 \\alpha^{23} x^{46} + 41077050726269583360 \\alpha^{22} x^{44} - 6476481664508504309760 \\alpha^{21} x^{42} + 697031339142727776337920 \\alpha^{20} x^{40} - 54368444453132766554357760 \\alpha^{19} x^{38} + 3185084704212694573976125440 \\alpha^{18} x^{36} - 143328811689571255828925644800 \\alpha^{17} x^{34} + 5025466459865592157501705420800 \\alpha^{16} x^{32} - 138479520227407428340046993817600 \\alpha^{15} x^{30} + 3011929564946111566396022115532800 \\alpha^{14} x^{28} - 51750426161346826004440743621427200 \\alpha^{13} x^{26} + 700787020934904935476801736540160000 \\alpha^{12} x^{24} - 7439123760693606238138356895580160000 \\alpha^{11} x^{22} + 61372771025722251464641444388536320000 \\alpha^{10} x^{20} - 388694216496240925942729147794063360000 \\alpha^{9} x^{18} + 1858444222622651927163673737890365440000 \\alpha^{8} x^{16} - 6559214903374065625283554369024819200000 \\alpha^{7} x^{14} + 16580237672417776997244540210590515200000 \\alpha^{6} x^{12} - 28797254904725612679424727734183526400000 \\alpha^{5} x^{10} + 32396911767816314264352818700956467200000 \\alpha^{4} x^{8} - 21597941178544209509568545800637644800000 \\alpha^{3} x^{6} + 7362934492685525969171095159308288000000 \\alpha^{2} x^{4} - 960382759915503387283186325127168000000 \\alpha x^{2} + 20007974164906320568399715106816000000$"
          },
          "metadata": {},
          "execution_count": 74
        },
        {
          "output_type": "stream",
          "name": "stdout",
          "text": [
            "\n",
            "\n",
            "El Polinomio de Hermite para v = 49 es:\n"
          ]
        },
        {
          "output_type": "execute_result",
          "data": {
            "text/plain": [
              "                 49/2  49                       47/2  47                      \n",
              "562949953421312⋅α    ⋅x   - 331014572611731456⋅α    ⋅x   + 8945668824832042598\n",
              "\n",
              "   45/2  45                            43/2  43                              4\n",
              "4⋅α    ⋅x   - 14760353560972870287360⋅α    ⋅x   + 1666074908194812733685760⋅α \n",
              "\n",
              "1/2  41                                39/2  39                               \n",
              "   ⋅x   - 136618142471974644162232320⋅α    ⋅x   + 8436170297644434277017845760\n",
              "\n",
              "  37/2  37                                   35/2  35                         \n",
              "⋅α    ⋅x   - 401320672730799516320991805440⋅α    ⋅x   + 1492411251717660701318\n",
              "\n",
              "            33/2  33                                      31/2  31            \n",
              "6882764800⋅α    ⋅x   - 437773967170513805720148561100800⋅α    ⋅x   + 101782447\n",
              "\n",
              "                            29/2  29                                         2\n",
              "36714445982993454045593600⋅α    ⋅x   - 187834880141184775867970106477772800⋅α \n",
              "\n",
              "7/2  27                                          25/2  25                     \n",
              "   ⋅x   + 2747085122064827347069062807237427200⋅α    ⋅x   - 316971360238249309\n",
              "\n",
              "                      23/2  23                                            21/2\n",
              "27719955468124160000⋅α    ⋅x   + 286406264786703840168326740479836160000⋅α    \n",
              "\n",
              "  21                                             19/2  19                     \n",
              "⋅x   - 2004843853506926881178287183358853120000⋅α    ⋅x   + 107133843421776405\n",
              "\n",
              "                         17/2  17                                             \n",
              "21296472136073871360000⋅α    ⋅x   - 42853537368710562085185888544295485440000⋅\n",
              "\n",
              " 15/2  15                                               13/2  13              \n",
              "α    ⋅x   + 124989483992072472748458841587528499200000⋅α    ⋅x   - 25655736187\n",
              "\n",
              "                                 11/2  11                                     \n",
              "8464549325783937995453235200000⋅α    ⋅x   + 3527663725828887553229529147437481\n",
              "\n",
              "          9/2  9                                               7/2  7         \n",
              "98400000⋅α   ⋅x  - 302371176499618933133959641208927027200000⋅α   ⋅x  + 144313\n",
              "\n",
              "                                      5/2  5                                  \n",
              "516056636308995753465122442444800000⋅α   ⋅x  - 3137250349057311065125075328748\n",
              "\n",
              "            3/2  3                                                \n",
              "7488000000⋅α   ⋅x  + 1960781468160819415703172080467968000000⋅√α⋅x"
            ],
            "text/latex": "$\\displaystyle 562949953421312 \\alpha^{\\frac{49}{2}} x^{49} - 331014572611731456 \\alpha^{\\frac{47}{2}} x^{47} + 89456688248320425984 \\alpha^{\\frac{45}{2}} x^{45} - 14760353560972870287360 \\alpha^{\\frac{43}{2}} x^{43} + 1666074908194812733685760 \\alpha^{\\frac{41}{2}} x^{41} - 136618142471974644162232320 \\alpha^{\\frac{39}{2}} x^{39} + 8436170297644434277017845760 \\alpha^{\\frac{37}{2}} x^{37} - 401320672730799516320991805440 \\alpha^{\\frac{35}{2}} x^{35} + 14924112517176607013186882764800 \\alpha^{\\frac{33}{2}} x^{33} - 437773967170513805720148561100800 \\alpha^{\\frac{31}{2}} x^{31} + 10178244736714445982993454045593600 \\alpha^{\\frac{29}{2}} x^{29} - 187834880141184775867970106477772800 \\alpha^{\\frac{27}{2}} x^{27} + 2747085122064827347069062807237427200 \\alpha^{\\frac{25}{2}} x^{25} - 31697136023824930927719955468124160000 \\alpha^{\\frac{23}{2}} x^{23} + 286406264786703840168326740479836160000 \\alpha^{\\frac{21}{2}} x^{21} - 2004843853506926881178287183358853120000 \\alpha^{\\frac{19}{2}} x^{19} + 10713384342177640521296472136073871360000 \\alpha^{\\frac{17}{2}} x^{17} - 42853537368710562085185888544295485440000 \\alpha^{\\frac{15}{2}} x^{15} + 124989483992072472748458841587528499200000 \\alpha^{\\frac{13}{2}} x^{13} - 256557361878464549325783937995453235200000 \\alpha^{\\frac{11}{2}} x^{11} + 352766372582888755322952914743748198400000 \\alpha^{\\frac{9}{2}} x^{9} - 302371176499618933133959641208927027200000 \\alpha^{\\frac{7}{2}} x^{7} + 144313516056636308995753465122442444800000 \\alpha^{\\frac{5}{2}} x^{5} - 31372503490573110651250753287487488000000 \\alpha^{\\frac{3}{2}} x^{3} + 1960781468160819415703172080467968000000 \\sqrt{\\alpha} x$"
          },
          "metadata": {},
          "execution_count": 74
        },
        {
          "output_type": "stream",
          "name": "stdout",
          "text": [
            "\n",
            "\n"
          ]
        }
      ],
      "source": [
        "alfa = Symbol('alpha')\n",
        "x = Symbol('x')\n",
        "xi= Symbol('xi')\n",
        "eps = x*sqrt(alfa)\n",
        "i=0\n",
        "while i <50:\n",
        "  n=i\n",
        "  i=i+1\n",
        "  print(\"El Polinomio de Hermite para v =\",n,\"es:\")\n",
        "  sp.polys.orthopolys.hermite_poly(n,x=eps)\n",
        "  print(\"\\n\")\n",
        "\n",
        ""
      ]
    },
    {
      "cell_type": "markdown",
      "metadata": {
        "id": "tDy6sD5K7Rjn"
      },
      "source": [
        "### **Obteniendo las n derivadas para obtener el polinomio de Hermite**"
      ]
    },
    {
      "cell_type": "markdown",
      "source": [
        "Estamos derivando a la función:\n",
        "\n",
        "${e}^{-x^2}$\n",
        "\n"
      ],
      "metadata": {
        "id": "1qpNn5emb6EC"
      }
    },
    {
      "cell_type": "code",
      "execution_count": null,
      "metadata": {
        "colab": {
          "base_uri": "https://localhost:8080/",
          "height": 1000
        },
        "id": "sQI5jnks7ChP",
        "outputId": "2b896627-c7c4-4c39-b2ef-1e7626d805ed"
      },
      "outputs": [
        {
          "output_type": "stream",
          "name": "stdout",
          "text": [
            "la derivada de orden  v= 0 es:\n"
          ]
        },
        {
          "output_type": "execute_result",
          "data": {
            "text/plain": [
              "   2\n",
              " -ξ \n",
              "ℯ   "
            ],
            "text/latex": "$\\displaystyle e^{- \\xi^{2}}$"
          },
          "metadata": {},
          "execution_count": 76
        },
        {
          "output_type": "stream",
          "name": "stdout",
          "text": [
            "\n",
            "\n",
            "la derivada de orden  v= 1 es:\n"
          ]
        },
        {
          "output_type": "execute_result",
          "data": {
            "text/plain": [
              "        2\n",
              "      -ξ \n",
              "-2⋅ξ⋅ℯ   "
            ],
            "text/latex": "$\\displaystyle - 2 \\xi e^{- \\xi^{2}}$"
          },
          "metadata": {},
          "execution_count": 76
        },
        {
          "output_type": "stream",
          "name": "stdout",
          "text": [
            "\n",
            "\n",
            "la derivada de orden  v= 2 es:\n"
          ]
        },
        {
          "output_type": "execute_result",
          "data": {
            "text/plain": [
              "                2\n",
              "  ⎛   2    ⎞  -ξ \n",
              "2⋅⎝2⋅ξ  - 1⎠⋅ℯ   "
            ],
            "text/latex": "$\\displaystyle 2 \\cdot \\left(2 \\xi^{2} - 1\\right) e^{- \\xi^{2}}$"
          },
          "metadata": {},
          "execution_count": 76
        },
        {
          "output_type": "stream",
          "name": "stdout",
          "text": [
            "\n",
            "\n",
            "la derivada de orden  v= 3 es:\n"
          ]
        },
        {
          "output_type": "execute_result",
          "data": {
            "text/plain": [
              "                  2\n",
              "    ⎛       2⎞  -ξ \n",
              "4⋅ξ⋅⎝3 - 2⋅ξ ⎠⋅ℯ   "
            ],
            "text/latex": "$\\displaystyle 4 \\xi \\left(3 - 2 \\xi^{2}\\right) e^{- \\xi^{2}}$"
          },
          "metadata": {},
          "execution_count": 76
        },
        {
          "output_type": "stream",
          "name": "stdout",
          "text": [
            "\n",
            "\n",
            "la derivada de orden  v= 4 es:\n"
          ]
        },
        {
          "output_type": "execute_result",
          "data": {
            "text/plain": [
              "                        2\n",
              "  ⎛   4       2    ⎞  -ξ \n",
              "4⋅⎝4⋅ξ  - 12⋅ξ  + 3⎠⋅ℯ   "
            ],
            "text/latex": "$\\displaystyle 4 \\cdot \\left(4 \\xi^{4} - 12 \\xi^{2} + 3\\right) e^{- \\xi^{2}}$"
          },
          "metadata": {},
          "execution_count": 76
        },
        {
          "output_type": "stream",
          "name": "stdout",
          "text": [
            "\n",
            "\n",
            "la derivada de orden  v= 5 es:\n"
          ]
        },
        {
          "output_type": "execute_result",
          "data": {
            "text/plain": [
              "                             2\n",
              "    ⎛     4       2     ⎞  -ξ \n",
              "8⋅ξ⋅⎝- 4⋅ξ  + 20⋅ξ  - 15⎠⋅ℯ   "
            ],
            "text/latex": "$\\displaystyle 8 \\xi \\left(- 4 \\xi^{4} + 20 \\xi^{2} - 15\\right) e^{- \\xi^{2}}$"
          },
          "metadata": {},
          "execution_count": 76
        },
        {
          "output_type": "stream",
          "name": "stdout",
          "text": [
            "\n",
            "\n",
            "la derivada de orden  v= 6 es:\n"
          ]
        },
        {
          "output_type": "execute_result",
          "data": {
            "text/plain": [
              "                                 2\n",
              "  ⎛   6       4       2     ⎞  -ξ \n",
              "8⋅⎝8⋅ξ  - 60⋅ξ  + 90⋅ξ  - 15⎠⋅ℯ   "
            ],
            "text/latex": "$\\displaystyle 8 \\cdot \\left(8 \\xi^{6} - 60 \\xi^{4} + 90 \\xi^{2} - 15\\right) e^{- \\xi^{2}}$"
          },
          "metadata": {},
          "execution_count": 76
        },
        {
          "output_type": "stream",
          "name": "stdout",
          "text": [
            "\n",
            "\n",
            "la derivada de orden  v= 7 es:\n"
          ]
        },
        {
          "output_type": "execute_result",
          "data": {
            "text/plain": [
              "                                        2\n",
              "     ⎛     6       4        2      ⎞  -ξ \n",
              "16⋅ξ⋅⎝- 8⋅ξ  + 84⋅ξ  - 210⋅ξ  + 105⎠⋅ℯ   "
            ],
            "text/latex": "$\\displaystyle 16 \\xi \\left(- 8 \\xi^{6} + 84 \\xi^{4} - 210 \\xi^{2} + 105\\right) e^{- \\xi^{2}}$"
          },
          "metadata": {},
          "execution_count": 76
        },
        {
          "output_type": "stream",
          "name": "stdout",
          "text": [
            "\n",
            "\n",
            "la derivada de orden  v= 8 es:\n"
          ]
        },
        {
          "output_type": "execute_result",
          "data": {
            "text/plain": [
              "                                               2\n",
              "   ⎛    8        6        4        2      ⎞  -ξ \n",
              "16⋅⎝16⋅ξ  - 224⋅ξ  + 840⋅ξ  - 840⋅ξ  + 105⎠⋅ℯ   "
            ],
            "text/latex": "$\\displaystyle 16 \\cdot \\left(16 \\xi^{8} - 224 \\xi^{6} + 840 \\xi^{4} - 840 \\xi^{2} + 105\\right) e^{- \\xi^{2}}$"
          },
          "metadata": {},
          "execution_count": 76
        },
        {
          "output_type": "stream",
          "name": "stdout",
          "text": [
            "\n",
            "\n",
            "la derivada de orden  v= 9 es:\n"
          ]
        },
        {
          "output_type": "execute_result",
          "data": {
            "text/plain": [
              "                                                     2\n",
              "     ⎛      8        6         4         2      ⎞  -ξ \n",
              "32⋅ξ⋅⎝- 16⋅ξ  + 288⋅ξ  - 1512⋅ξ  + 2520⋅ξ  - 945⎠⋅ℯ   "
            ],
            "text/latex": "$\\displaystyle 32 \\xi \\left(- 16 \\xi^{8} + 288 \\xi^{6} - 1512 \\xi^{4} + 2520 \\xi^{2} - 945\\right) e^{- \\xi^{2}}$"
          },
          "metadata": {},
          "execution_count": 76
        },
        {
          "output_type": "stream",
          "name": "stdout",
          "text": [
            "\n",
            "\n",
            "la derivada de orden  v= 10 es:\n"
          ]
        },
        {
          "output_type": "execute_result",
          "data": {
            "text/plain": [
              "                                                             2\n",
              "   ⎛    10        8         6          4         2      ⎞  -ξ \n",
              "32⋅⎝32⋅ξ   - 720⋅ξ  + 5040⋅ξ  - 12600⋅ξ  + 9450⋅ξ  - 945⎠⋅ℯ   "
            ],
            "text/latex": "$\\displaystyle 32 \\cdot \\left(32 \\xi^{10} - 720 \\xi^{8} + 5040 \\xi^{6} - 12600 \\xi^{4} + 9450 \\xi^{2} - 945\\right) e^{- \\xi^{2}}$"
          },
          "metadata": {},
          "execution_count": 76
        },
        {
          "output_type": "stream",
          "name": "stdout",
          "text": [
            "\n",
            "\n",
            "la derivada de orden  v= 11 es:\n"
          ]
        },
        {
          "output_type": "execute_result",
          "data": {
            "text/plain": [
              "                                                                    2\n",
              "     ⎛      10        8         6          4          2        ⎞  -ξ \n",
              "64⋅ξ⋅⎝- 32⋅ξ   + 880⋅ξ  - 7920⋅ξ  + 27720⋅ξ  - 34650⋅ξ  + 10395⎠⋅ℯ   "
            ],
            "text/latex": "$\\displaystyle 64 \\xi \\left(- 32 \\xi^{10} + 880 \\xi^{8} - 7920 \\xi^{6} + 27720 \\xi^{4} - 34650 \\xi^{2} + 10395\\right) e^{- \\xi^{2}}$"
          },
          "metadata": {},
          "execution_count": 76
        },
        {
          "output_type": "stream",
          "name": "stdout",
          "text": [
            "\n",
            "\n",
            "la derivada de orden  v= 12 es:\n"
          ]
        },
        {
          "output_type": "execute_result",
          "data": {
            "text/plain": [
              "                                                                              \n",
              "   ⎛    12         10          8           6           4           2        ⎞ \n",
              "64⋅⎝64⋅ξ   - 2112⋅ξ   + 23760⋅ξ  - 110880⋅ξ  + 207900⋅ξ  - 124740⋅ξ  + 10395⎠⋅\n",
              "\n",
              "   2\n",
              " -ξ \n",
              "ℯ   "
            ],
            "text/latex": "$\\displaystyle 64 \\cdot \\left(64 \\xi^{12} - 2112 \\xi^{10} + 23760 \\xi^{8} - 110880 \\xi^{6} + 207900 \\xi^{4} - 124740 \\xi^{2} + 10395\\right) e^{- \\xi^{2}}$"
          },
          "metadata": {},
          "execution_count": 76
        },
        {
          "output_type": "stream",
          "name": "stdout",
          "text": [
            "\n",
            "\n",
            "la derivada de orden  v= 13 es:\n"
          ]
        },
        {
          "output_type": "execute_result",
          "data": {
            "text/plain": [
              "                                                                              \n",
              "      ⎛      12         10          8           6           4           2     \n",
              "128⋅ξ⋅⎝- 64⋅ξ   + 2496⋅ξ   - 34320⋅ξ  + 205920⋅ξ  - 540540⋅ξ  + 540540⋅ξ  - 13\n",
              "\n",
              "         2\n",
              "    ⎞  -ξ \n",
              "5135⎠⋅ℯ   "
            ],
            "text/latex": "$\\displaystyle 128 \\xi \\left(- 64 \\xi^{12} + 2496 \\xi^{10} - 34320 \\xi^{8} + 205920 \\xi^{6} - 540540 \\xi^{4} + 540540 \\xi^{2} - 135135\\right) e^{- \\xi^{2}}$"
          },
          "metadata": {},
          "execution_count": 76
        },
        {
          "output_type": "stream",
          "name": "stdout",
          "text": [
            "\n",
            "\n",
            "la derivada de orden  v= 14 es:\n"
          ]
        },
        {
          "output_type": "execute_result",
          "data": {
            "text/plain": [
              "                                                                              \n",
              "    ⎛     14         12          10           8            6            4     \n",
              "128⋅⎝128⋅ξ   - 5824⋅ξ   + 96096⋅ξ   - 720720⋅ξ  + 2522520⋅ξ  - 3783780⋅ξ  + 18\n",
              "\n",
              "                      2\n",
              "       2         ⎞  -ξ \n",
              "91890⋅ξ  - 135135⎠⋅ℯ   "
            ],
            "text/latex": "$\\displaystyle 128 \\cdot \\left(128 \\xi^{14} - 5824 \\xi^{12} + 96096 \\xi^{10} - 720720 \\xi^{8} + 2522520 \\xi^{6} - 3783780 \\xi^{4} + 1891890 \\xi^{2} - 135135\\right) e^{- \\xi^{2}}$"
          },
          "metadata": {},
          "execution_count": 76
        },
        {
          "output_type": "stream",
          "name": "stdout",
          "text": [
            "\n",
            "\n",
            "la derivada de orden  v= 15 es:\n"
          ]
        },
        {
          "output_type": "execute_result",
          "data": {
            "text/plain": [
              "                                                                              \n",
              "      ⎛       14         12           10            8            6            \n",
              "256⋅ξ⋅⎝- 128⋅ξ   + 6720⋅ξ   - 131040⋅ξ   + 1201200⋅ξ  - 5405400⋅ξ  + 11351340⋅\n",
              "\n",
              "                              2\n",
              " 4            2          ⎞  -ξ \n",
              "ξ  - 9459450⋅ξ  + 2027025⎠⋅ℯ   "
            ],
            "text/latex": "$\\displaystyle 256 \\xi \\left(- 128 \\xi^{14} + 6720 \\xi^{12} - 131040 \\xi^{10} + 1201200 \\xi^{8} - 5405400 \\xi^{6} + 11351340 \\xi^{4} - 9459450 \\xi^{2} + 2027025\\right) e^{- \\xi^{2}}$"
          },
          "metadata": {},
          "execution_count": 76
        },
        {
          "output_type": "stream",
          "name": "stdout",
          "text": [
            "\n",
            "\n",
            "la derivada de orden  v= 16 es:\n"
          ]
        },
        {
          "output_type": "execute_result",
          "data": {
            "text/plain": [
              "                                                                              \n",
              "    ⎛     16          14           12            10             8             \n",
              "256⋅⎝256⋅ξ   - 15360⋅ξ   + 349440⋅ξ   - 3843840⋅ξ   + 21621600⋅ξ  - 60540480⋅ξ\n",
              "\n",
              "                                            2\n",
              "6             4             2          ⎞  -ξ \n",
              "  + 75675600⋅ξ  - 32432400⋅ξ  + 2027025⎠⋅ℯ   "
            ],
            "text/latex": "$\\displaystyle 256 \\cdot \\left(256 \\xi^{16} - 15360 \\xi^{14} + 349440 \\xi^{12} - 3843840 \\xi^{10} + 21621600 \\xi^{8} - 60540480 \\xi^{6} + 75675600 \\xi^{4} - 32432400 \\xi^{2} + 2027025\\right) e^{- \\xi^{2}}$"
          },
          "metadata": {},
          "execution_count": 76
        },
        {
          "output_type": "stream",
          "name": "stdout",
          "text": [
            "\n",
            "\n",
            "la derivada de orden  v= 17 es:\n"
          ]
        },
        {
          "output_type": "execute_result",
          "data": {
            "text/plain": [
              "                                                                              \n",
              "      ⎛       16          14           12            10             8         \n",
              "512⋅ξ⋅⎝- 256⋅ξ   + 17408⋅ξ   - 456960⋅ξ   + 5940480⋅ξ   - 40840800⋅ξ  + 147026\n",
              "\n",
              "                                                    2\n",
              "     6              4              2           ⎞  -ξ \n",
              "880⋅ξ  - 257297040⋅ξ  + 183783600⋅ξ  - 34459425⎠⋅ℯ   "
            ],
            "text/latex": "$\\displaystyle 512 \\xi \\left(- 256 \\xi^{16} + 17408 \\xi^{14} - 456960 \\xi^{12} + 5940480 \\xi^{10} - 40840800 \\xi^{8} + 147026880 \\xi^{6} - 257297040 \\xi^{4} + 183783600 \\xi^{2} - 34459425\\right) e^{- \\xi^{2}}$"
          },
          "metadata": {},
          "execution_count": 76
        },
        {
          "output_type": "stream",
          "name": "stdout",
          "text": [
            "\n",
            "\n",
            "la derivada de orden  v= 18 es:\n"
          ]
        },
        {
          "output_type": "execute_result",
          "data": {
            "text/plain": [
              "                                                                              \n",
              "    ⎛     18          16            14             12              10         \n",
              "512⋅⎝512⋅ξ   - 39168⋅ξ   + 1175040⋅ξ   - 17821440⋅ξ   + 147026880⋅ξ   - 661620\n",
              "\n",
              "                                                                     2\n",
              "     8               6               4              2           ⎞  -ξ \n",
              "960⋅ξ  + 1543782240⋅ξ  - 1654052400⋅ξ  + 620269650⋅ξ  - 34459425⎠⋅ℯ   "
            ],
            "text/latex": "$\\displaystyle 512 \\cdot \\left(512 \\xi^{18} - 39168 \\xi^{16} + 1175040 \\xi^{14} - 17821440 \\xi^{12} + 147026880 \\xi^{10} - 661620960 \\xi^{8} + 1543782240 \\xi^{6} - 1654052400 \\xi^{4} + 620269650 \\xi^{2} - 34459425\\right) e^{- \\xi^{2}}$"
          },
          "metadata": {},
          "execution_count": 76
        },
        {
          "output_type": "stream",
          "name": "stdout",
          "text": [
            "\n",
            "\n",
            "la derivada de orden  v= 19 es:\n"
          ]
        },
        {
          "output_type": "execute_result",
          "data": {
            "text/plain": [
              "                                                                              \n",
              "       ⎛       18          16            14             12              10    \n",
              "1024⋅ξ⋅⎝- 512⋅ξ   + 43776⋅ξ   - 1488384⋅ξ   + 26046720⋅ξ   - 253955520⋅ξ   + 1\n",
              "\n",
              "                                                                             2\n",
              "           8               6               4               2            ⎞  -ξ \n",
              "396755360⋅ξ  - 4190266080⋅ξ  + 6285399120⋅ξ  - 3928374450⋅ξ  + 654729075⎠⋅ℯ   "
            ],
            "text/latex": "$\\displaystyle 1024 \\xi \\left(- 512 \\xi^{18} + 43776 \\xi^{16} - 1488384 \\xi^{14} + 26046720 \\xi^{12} - 253955520 \\xi^{10} + 1396755360 \\xi^{8} - 4190266080 \\xi^{6} + 6285399120 \\xi^{4} - 3928374450 \\xi^{2} + 654729075\\right) e^{- \\xi^{2}}$"
          },
          "metadata": {},
          "execution_count": 76
        },
        {
          "output_type": "stream",
          "name": "stdout",
          "text": [
            "\n",
            "\n",
            "la derivada de orden  v= 20 es:\n"
          ]
        },
        {
          "output_type": "execute_result",
          "data": {
            "text/plain": [
              "                                                                              \n",
              "     ⎛      20          18            16             14              12       \n",
              "1024⋅⎝1024⋅ξ   - 97280⋅ξ   + 3720960⋅ξ   - 74419200⋅ξ   + 846518400⋅ξ   - 5587\n",
              "\n",
              "                                                                              \n",
              "        10                8                6                4                2\n",
              "021440⋅ξ   + 20951330400⋅ξ  - 41902660800⋅ξ  + 39283744500⋅ξ  - 13094581500⋅ξ \n",
              "\n",
              "                 2\n",
              "            ⎞  -ξ \n",
              " + 654729075⎠⋅ℯ   "
            ],
            "text/latex": "$\\displaystyle 1024 \\cdot \\left(1024 \\xi^{20} - 97280 \\xi^{18} + 3720960 \\xi^{16} - 74419200 \\xi^{14} + 846518400 \\xi^{12} - 5587021440 \\xi^{10} + 20951330400 \\xi^{8} - 41902660800 \\xi^{6} + 39283744500 \\xi^{4} - 13094581500 \\xi^{2} + 654729075\\right) e^{- \\xi^{2}}$"
          },
          "metadata": {},
          "execution_count": 76
        },
        {
          "output_type": "stream",
          "name": "stdout",
          "text": [
            "\n",
            "\n",
            "la derivada de orden  v= 21 es:\n"
          ]
        },
        {
          "output_type": "execute_result",
          "data": {
            "text/plain": [
              "                                                                              \n",
              "       ⎛        20           18            16              14               12\n",
              "2048⋅ξ⋅⎝- 1024⋅ξ   + 107520⋅ξ   - 4596480⋅ξ   + 104186880⋅ξ   - 1367452800⋅ξ  \n",
              "\n",
              "                                                                              \n",
              "                10                8                 6                 4       \n",
              " + 10666131840⋅ξ   - 48886437600⋅ξ  + 125707982400⋅ξ  - 164991726900⋅ξ  + 9166\n",
              "\n",
              "                             2\n",
              "         2              ⎞  -ξ \n",
              "2070500⋅ξ  - 13749310575⎠⋅ℯ   "
            ],
            "text/latex": "$\\displaystyle 2048 \\xi \\left(- 1024 \\xi^{20} + 107520 \\xi^{18} - 4596480 \\xi^{16} + 104186880 \\xi^{14} - 1367452800 \\xi^{12} + 10666131840 \\xi^{10} - 48886437600 \\xi^{8} + 125707982400 \\xi^{6} - 164991726900 \\xi^{4} + 91662070500 \\xi^{2} - 13749310575\\right) e^{- \\xi^{2}}$"
          },
          "metadata": {},
          "execution_count": 76
        },
        {
          "output_type": "stream",
          "name": "stdout",
          "text": [
            "\n",
            "\n",
            "la derivada de orden  v= 22 es:\n"
          ]
        },
        {
          "output_type": "execute_result",
          "data": {
            "text/plain": [
              "                                                                              \n",
              "     ⎛      22           20             18              16               14   \n",
              "2048⋅⎝2048⋅ξ   - 236544⋅ξ   + 11235840⋅ξ   - 286513920⋅ξ   + 4297708800⋅ξ   - \n",
              "\n",
              "                                                                              \n",
              "             12                 10                 8                  6       \n",
              "39109150080⋅ξ   + 215100325440⋅ξ   - 691393903200⋅ξ  + 1209939330600⋅ξ  - 1008\n",
              "\n",
              "                                                 2\n",
              "           4                 2              ⎞  -ξ \n",
              "282775500⋅ξ  + 302484832650⋅ξ  - 13749310575⎠⋅ℯ   "
            ],
            "text/latex": "$\\displaystyle 2048 \\cdot \\left(2048 \\xi^{22} - 236544 \\xi^{20} + 11235840 \\xi^{18} - 286513920 \\xi^{16} + 4297708800 \\xi^{14} - 39109150080 \\xi^{12} + 215100325440 \\xi^{10} - 691393903200 \\xi^{8} + 1209939330600 \\xi^{6} - 1008282775500 \\xi^{4} + 302484832650 \\xi^{2} - 13749310575\\right) e^{- \\xi^{2}}$"
          },
          "metadata": {},
          "execution_count": 76
        },
        {
          "output_type": "stream",
          "name": "stdout",
          "text": [
            "\n",
            "\n",
            "la derivada de orden  v= 23 es:\n"
          ]
        },
        {
          "output_type": "execute_result",
          "data": {
            "text/plain": [
              "                                                                              \n",
              "       ⎛        22           20             18              16               1\n",
              "4096⋅ξ⋅⎝- 2048⋅ξ   + 259072⋅ξ   - 13601280⋅ξ   + 387636480⋅ξ   - 6589820160⋅ξ \n",
              "\n",
              "                                                                              \n",
              "4                12                 10                  8                  6  \n",
              "  + 69193111680⋅ξ   - 449755225920⋅ξ   + 1766895530400⋅ξ  - 3975514943400⋅ξ  +\n",
              "\n",
              "                                                        2\n",
              "                4                  2               ⎞  -ξ \n",
              " 4638100767300⋅ξ  - 2319050383650⋅ξ  + 316234143225⎠⋅ℯ   "
            ],
            "text/latex": "$\\displaystyle 4096 \\xi \\left(- 2048 \\xi^{22} + 259072 \\xi^{20} - 13601280 \\xi^{18} + 387636480 \\xi^{16} - 6589820160 \\xi^{14} + 69193111680 \\xi^{12} - 449755225920 \\xi^{10} + 1766895530400 \\xi^{8} - 3975514943400 \\xi^{6} + 4638100767300 \\xi^{4} - 2319050383650 \\xi^{2} + 316234143225\\right) e^{- \\xi^{2}}$"
          },
          "metadata": {},
          "execution_count": 76
        },
        {
          "output_type": "stream",
          "name": "stdout",
          "text": [
            "\n",
            "\n",
            "la derivada de orden  v= 24 es:\n"
          ]
        },
        {
          "output_type": "execute_result",
          "data": {
            "text/plain": [
              "                                                                              \n",
              "     ⎛      24           22             20               18                16 \n",
              "4096⋅⎝4096⋅ξ   - 565248⋅ξ   + 32643072⋅ξ   - 1033697280⋅ξ   + 19769460480⋅ξ   \n",
              "\n",
              "                                                                              \n",
              "                14                  12                  10                   8\n",
              "- 237233525760⋅ξ   + 1799020903680⋅ξ   - 8481098545920⋅ξ   + 23853089660400⋅ξ \n",
              "\n",
              "                                                                              \n",
              "                   6                   4                  2               ⎞  -\n",
              " - 37104806138400⋅ξ  + 27828604603800⋅ξ  - 7589619437400⋅ξ  + 316234143225⎠⋅ℯ \n",
              "\n",
              " 2\n",
              "ξ \n",
              "  "
            ],
            "text/latex": "$\\displaystyle 4096 \\cdot \\left(4096 \\xi^{24} - 565248 \\xi^{22} + 32643072 \\xi^{20} - 1033697280 \\xi^{18} + 19769460480 \\xi^{16} - 237233525760 \\xi^{14} + 1799020903680 \\xi^{12} - 8481098545920 \\xi^{10} + 23853089660400 \\xi^{8} - 37104806138400 \\xi^{6} + 27828604603800 \\xi^{4} - 7589619437400 \\xi^{2} + 316234143225\\right) e^{- \\xi^{2}}$"
          },
          "metadata": {},
          "execution_count": 76
        },
        {
          "output_type": "stream",
          "name": "stdout",
          "text": [
            "\n",
            "\n",
            "la derivada de orden  v= 25 es:\n"
          ]
        },
        {
          "output_type": "execute_result",
          "data": {
            "text/plain": [
              "                                                                              \n",
              "       ⎛        24           22             20               18               \n",
              "8192⋅ξ⋅⎝- 4096⋅ξ   + 614400⋅ξ   - 38860800⋅ξ   + 1360128000⋅ξ   - 29072736000⋅\n",
              "\n",
              "                                                                              \n",
              " 16                 14                  12                   10               \n",
              "ξ   + 395389209600⋅ξ   - 3459655584000⋅ξ   + 19275223968000⋅ξ   - 662585823900\n",
              "\n",
              "                                                                              \n",
              "    8                    6                    4                   2           \n",
              "00⋅ξ  + 132517164780000⋅ξ  - 139143023019000⋅ξ  + 63246828645000⋅ξ  - 79058535\n",
              "\n",
              "          2\n",
              "     ⎞  -ξ \n",
              "80625⎠⋅ℯ   "
            ],
            "text/latex": "$\\displaystyle 8192 \\xi \\left(- 4096 \\xi^{24} + 614400 \\xi^{22} - 38860800 \\xi^{20} + 1360128000 \\xi^{18} - 29072736000 \\xi^{16} + 395389209600 \\xi^{14} - 3459655584000 \\xi^{12} + 19275223968000 \\xi^{10} - 66258582390000 \\xi^{8} + 132517164780000 \\xi^{6} - 139143023019000 \\xi^{4} + 63246828645000 \\xi^{2} - 7905853580625\\right) e^{- \\xi^{2}}$"
          },
          "metadata": {},
          "execution_count": 76
        },
        {
          "output_type": "stream",
          "name": "stdout",
          "text": [
            "\n",
            "\n",
            "la derivada de orden  v= 26 es:\n"
          ]
        },
        {
          "output_type": "execute_result",
          "data": {
            "text/plain": [
              "                                                                              \n",
              "     ⎛      26            24             22               20                18\n",
              "8192⋅⎝8192⋅ξ   - 1331200⋅ξ   + 91852800⋅ξ   - 3536332800⋅ξ   + 83987904000⋅ξ  \n",
              "\n",
              "                                                                              \n",
              "                  16                   14                   12                \n",
              " - 1285014931200⋅ξ   + 12850149312000⋅ξ   - 83525970528000⋅ξ   + 3445446284280\n",
              "\n",
              "                                                                              \n",
              "    10                    8                     6                    4        \n",
              "00⋅ξ   - 861361571070000⋅ξ  + 1205906199498000⋅ξ  - 822208772385000⋅ξ  + 20555\n",
              "\n",
              "                                  2\n",
              "            2                ⎞  -ξ \n",
              "2193096250⋅ξ  - 7905853580625⎠⋅ℯ   "
            ],
            "text/latex": "$\\displaystyle 8192 \\cdot \\left(8192 \\xi^{26} - 1331200 \\xi^{24} + 91852800 \\xi^{22} - 3536332800 \\xi^{20} + 83987904000 \\xi^{18} - 1285014931200 \\xi^{16} + 12850149312000 \\xi^{14} - 83525970528000 \\xi^{12} + 344544628428000 \\xi^{10} - 861361571070000 \\xi^{8} + 1205906199498000 \\xi^{6} - 822208772385000 \\xi^{4} + 205552193096250 \\xi^{2} - 7905853580625\\right) e^{- \\xi^{2}}$"
          },
          "metadata": {},
          "execution_count": 76
        },
        {
          "output_type": "stream",
          "name": "stdout",
          "text": [
            "\n",
            "\n",
            "la derivada de orden  v= 27 es:\n"
          ]
        },
        {
          "output_type": "execute_result",
          "data": {
            "text/plain": [
              "                                                                              \n",
              "        ⎛        26            24              22               20            \n",
              "16384⋅ξ⋅⎝- 8192⋅ξ   + 1437696⋅ξ   - 107827200⋅ξ   + 4546713600⋅ξ   - 119351232\n",
              "\n",
              "                                                                              \n",
              "     18                  16                   14                    12        \n",
              "000⋅ξ   + 2040906067200⋅ξ   - 23130268761600⋅ξ   + 173477015712000⋅ξ   - 84570\n",
              "\n",
              "                                                                              \n",
              "            10                     8                     6                    \n",
              "0451596000⋅ξ   + 2584084713210000⋅ξ  - 4651352483778000⋅ξ  + 4439927370879000⋅\n",
              "\n",
              "                                               2\n",
              " 4                     2                  ⎞  -ξ \n",
              "ξ  - 1849969737866250⋅ξ  + 213458046676875⎠⋅ℯ   "
            ],
            "text/latex": "$\\displaystyle 16384 \\xi \\left(- 8192 \\xi^{26} + 1437696 \\xi^{24} - 107827200 \\xi^{22} + 4546713600 \\xi^{20} - 119351232000 \\xi^{18} + 2040906067200 \\xi^{16} - 23130268761600 \\xi^{14} + 173477015712000 \\xi^{12} - 845700451596000 \\xi^{10} + 2584084713210000 \\xi^{8} - 4651352483778000 \\xi^{6} + 4439927370879000 \\xi^{4} - 1849969737866250 \\xi^{2} + 213458046676875\\right) e^{- \\xi^{2}}$"
          },
          "metadata": {},
          "execution_count": 76
        },
        {
          "output_type": "stream",
          "name": "stdout",
          "text": [
            "\n",
            "\n",
            "la derivada de orden  v= 28 es:\n"
          ]
        },
        {
          "output_type": "execute_result",
          "data": {
            "text/plain": [
              "                                                                              \n",
              "      ⎛       28            26              24                22              \n",
              "16384⋅⎝16384⋅ξ   - 3096576⋅ξ   + 251596800⋅ξ   - 11573452800⋅ξ   + 33418344960\n",
              "\n",
              "                                                                              \n",
              "   20                  18                   16                    14          \n",
              "0⋅ξ   - 6349485542400⋅ξ   + 80955940665600⋅ξ   - 693908062848000⋅ξ   + 3946602\n",
              "\n",
              "                                                                              \n",
              "           12                      10                      8                  \n",
              "107448000⋅ξ   - 14470874393976000⋅ξ   + 32559467386446000⋅ξ  - 414393221282040\n",
              "\n",
              "                                                                         2\n",
              "    6                      4                     2                  ⎞  -ξ \n",
              "00⋅ξ  + 25899576330127500⋅ξ  - 5976825306952500⋅ξ  + 213458046676875⎠⋅ℯ   "
            ],
            "text/latex": "$\\displaystyle 16384 \\cdot \\left(16384 \\xi^{28} - 3096576 \\xi^{26} + 251596800 \\xi^{24} - 11573452800 \\xi^{22} + 334183449600 \\xi^{20} - 6349485542400 \\xi^{18} + 80955940665600 \\xi^{16} - 693908062848000 \\xi^{14} + 3946602107448000 \\xi^{12} - 14470874393976000 \\xi^{10} + 32559467386446000 \\xi^{8} - 41439322128204000 \\xi^{6} + 25899576330127500 \\xi^{4} - 5976825306952500 \\xi^{2} + 213458046676875\\right) e^{- \\xi^{2}}$"
          },
          "metadata": {},
          "execution_count": 76
        },
        {
          "output_type": "stream",
          "name": "stdout",
          "text": [
            "\n",
            "\n",
            "la derivada de orden  v= 29 es:\n"
          ]
        },
        {
          "output_type": "execute_result",
          "data": {
            "text/plain": [
              "                                                                              \n",
              "        ⎛         28            26              24                22          \n",
              "32768⋅ξ⋅⎝- 16384⋅ξ   + 3325952⋅ξ   - 291852288⋅ξ   + 14592614400⋅ξ   - 4614914\n",
              "\n",
              "                                                                              \n",
              "       20                  18                    16                     14    \n",
              "30400⋅ξ   + 9691320038400⋅ξ   - 138101310547200⋅ξ   + 1341555588172800⋅ξ   - 8\n",
              "\n",
              "                                                                              \n",
              "                 12                      10                       8           \n",
              "803958547384000⋅ξ   + 38150487038664000⋅ξ   - 104913839356326000⋅ξ  + 17167719\n",
              "\n",
              "                                                                              \n",
              "            6                       4                      2                  \n",
              "1673988000⋅ξ  - 150217542714739500⋅ξ  + 57775977967207500⋅ξ  - 619028335362937\n",
              "\n",
              "      2\n",
              " ⎞  -ξ \n",
              "5⎠⋅ℯ   "
            ],
            "text/latex": "$\\displaystyle 32768 \\xi \\left(- 16384 \\xi^{28} + 3325952 \\xi^{26} - 291852288 \\xi^{24} + 14592614400 \\xi^{22} - 461491430400 \\xi^{20} + 9691320038400 \\xi^{18} - 138101310547200 \\xi^{16} + 1341555588172800 \\xi^{14} - 8803958547384000 \\xi^{12} + 38150487038664000 \\xi^{10} - 104913839356326000 \\xi^{8} + 171677191673988000 \\xi^{6} - 150217542714739500 \\xi^{4} + 57775977967207500 \\xi^{2} - 6190283353629375\\right) e^{- \\xi^{2}}$"
          },
          "metadata": {},
          "execution_count": 76
        },
        {
          "output_type": "stream",
          "name": "stdout",
          "text": [
            "\n",
            "\n",
            "la derivada de orden  v= 30 es:\n"
          ]
        },
        {
          "output_type": "execute_result",
          "data": {
            "text/plain": [
              "                                                                              \n",
              "      ⎛       30            28              26                24              \n",
              "32768⋅⎝32768⋅ξ   - 7127040⋅ξ   + 673505280⋅ξ   - 36481536000⋅ξ   + 12586129920\n",
              "\n",
              "                                                                              \n",
              "    22                   20                    18                     16      \n",
              "00⋅ξ   - 29073960115200⋅ξ   + 460337701824000⋅ξ   - 5030833455648000⋅ξ   + 377\n",
              "\n",
              "                                                                              \n",
              "                14                       12                       10          \n",
              "31250917360000⋅ξ   - 190752435193320000⋅ξ   + 629483036137956000⋅ξ   - 1287578\n",
              "\n",
              "                                                                              \n",
              "              8                        6                       4              \n",
              "937554910000⋅ξ  + 1502175427147395000⋅ξ  - 866639669508112500⋅ξ  + 18570850060\n",
              "\n",
              "                                  2\n",
              "         2                   ⎞  -ξ \n",
              "8881250⋅ξ  - 6190283353629375⎠⋅ℯ   "
            ],
            "text/latex": "$\\displaystyle 32768 \\cdot \\left(32768 \\xi^{30} - 7127040 \\xi^{28} + 673505280 \\xi^{26} - 36481536000 \\xi^{24} + 1258612992000 \\xi^{22} - 29073960115200 \\xi^{20} + 460337701824000 \\xi^{18} - 5030833455648000 \\xi^{16} + 37731250917360000 \\xi^{14} - 190752435193320000 \\xi^{12} + 629483036137956000 \\xi^{10} - 1287578937554910000 \\xi^{8} + 1502175427147395000 \\xi^{6} - 866639669508112500 \\xi^{4} + 185708500608881250 \\xi^{2} - 6190283353629375\\right) e^{- \\xi^{2}}$"
          },
          "metadata": {},
          "execution_count": 76
        },
        {
          "output_type": "stream",
          "name": "stdout",
          "text": [
            "\n",
            "\n",
            "la derivada de orden  v= 31 es:\n"
          ]
        },
        {
          "output_type": "execute_result",
          "data": {
            "text/plain": [
              "                                                                              \n",
              "        ⎛         30            28              26                24          \n",
              "65536⋅ξ⋅⎝- 32768⋅ξ   + 7618560⋅ξ   - 773283840⋅ξ   + 45237104640⋅ξ   - 1696391\n",
              "\n",
              "                                                                              \n",
              "        22                   20                    18                     16  \n",
              "424000⋅ξ   + 42918703027200⋅ξ   - 751077302976000⋅ξ   + 9173872772064000⋅ξ   -\n",
              "\n",
              "                                                                              \n",
              "                    14                       12                        10     \n",
              " 77977918562544000⋅ξ   + 454871191614840000⋅ξ   - 1773997647297876000⋅ξ   + 44\n",
              "\n",
              "                                                                              \n",
              "                   8                        6                        4        \n",
              "34994118244690000⋅ξ  - 6652491177367035000⋅ξ  + 5373165950950297500⋅ξ  - 19189\n",
              "\n",
              "                                           2\n",
              "                2                     ⎞  -ξ \n",
              "87839625106250⋅ξ  + 191898783962510625⎠⋅ℯ   "
            ],
            "text/latex": "$\\displaystyle 65536 \\xi \\left(- 32768 \\xi^{30} + 7618560 \\xi^{28} - 773283840 \\xi^{26} + 45237104640 \\xi^{24} - 1696391424000 \\xi^{22} + 42918703027200 \\xi^{20} - 751077302976000 \\xi^{18} + 9173872772064000 \\xi^{16} - 77977918562544000 \\xi^{14} + 454871191614840000 \\xi^{12} - 1773997647297876000 \\xi^{10} + 4434994118244690000 \\xi^{8} - 6652491177367035000 \\xi^{6} + 5373165950950297500 \\xi^{4} - 1918987839625106250 \\xi^{2} + 191898783962510625\\right) e^{- \\xi^{2}}$"
          },
          "metadata": {},
          "execution_count": 76
        },
        {
          "output_type": "stream",
          "name": "stdout",
          "text": [
            "\n",
            "\n",
            "la derivada de orden  v= 32 es:\n"
          ]
        },
        {
          "output_type": "execute_result",
          "data": {
            "text/plain": [
              "                                                                              \n",
              "      ⎛       32             30               28                 26           \n",
              "65536⋅⎝65536⋅ξ   - 16252928⋅ξ   + 1767505920⋅ξ   - 111352872960⋅ξ   + 45237104\n",
              "\n",
              "                                                                              \n",
              "       24                    22                     20                      18\n",
              "64000⋅ξ   - 124854408806400⋅ξ   + 2403447369523200⋅ξ   - 32618214300672000⋅ξ  \n",
              "\n",
              "                                                                              \n",
              "                       16                        14                        12 \n",
              " + 311911674250176000⋅ξ   - 2079411161667840000⋅ξ   + 9461320785588672000⋅ξ   \n",
              "\n",
              "                                                                              \n",
              "                        10                         8                         6\n",
              "- 28383962356766016000⋅ξ   + 53219929418936280000⋅ξ  - 57313770143469840000⋅ξ \n",
              "\n",
              "                                                                             2\n",
              "                         4                        2                     ⎞  -ξ \n",
              " + 30703805434001700000⋅ξ  - 6140761086800340000⋅ξ  + 191898783962510625⎠⋅ℯ   "
            ],
            "text/latex": "$\\displaystyle 65536 \\cdot \\left(65536 \\xi^{32} - 16252928 \\xi^{30} + 1767505920 \\xi^{28} - 111352872960 \\xi^{26} + 4523710464000 \\xi^{24} - 124854408806400 \\xi^{22} + 2403447369523200 \\xi^{20} - 32618214300672000 \\xi^{18} + 311911674250176000 \\xi^{16} - 2079411161667840000 \\xi^{14} + 9461320785588672000 \\xi^{12} - 28383962356766016000 \\xi^{10} + 53219929418936280000 \\xi^{8} - 57313770143469840000 \\xi^{6} + 30703805434001700000 \\xi^{4} - 6140761086800340000 \\xi^{2} + 191898783962510625\\right) e^{- \\xi^{2}}$"
          },
          "metadata": {},
          "execution_count": 76
        },
        {
          "output_type": "stream",
          "name": "stdout",
          "text": [
            "\n",
            "\n",
            "la derivada de orden  v= 33 es:\n"
          ]
        },
        {
          "output_type": "execute_result",
          "data": {
            "text/plain": [
              "                                                                              \n",
              "         ⎛         32             30               28                 26      \n",
              "131072⋅ξ⋅⎝- 65536⋅ξ   + 17301504⋅ξ   - 2011299840⋅ξ   + 136097955840⋅ξ   - 597\n",
              "\n",
              "                                                                              \n",
              "            24                    22                     20                   \n",
              "1297812480⋅ξ   + 179138934374400⋅ξ   - 3776845866393600⋅ξ   + 5665268799590400\n",
              "\n",
              "                                                                              \n",
              "   18                       16                        14                      \n",
              "0⋅ξ   - 605475602956224000⋅ξ   + 4574704555669248000⋅ξ   - 2401719891726355200\n",
              "\n",
              "                                                                              \n",
              "   12                         10                          8                   \n",
              "0⋅ξ   + 85151887070298048000⋅ξ   - 195139741202766360000⋅ξ  + 2701934878192149\n",
              "\n",
              "                                                                              \n",
              "       6                          4                         2                 \n",
              "60000⋅ξ  - 202645115864411220000⋅ξ  + 67548371954803740000⋅ξ  - 63326598707628\n",
              "\n",
              "          2\n",
              "     ⎞  -ξ \n",
              "50625⎠⋅ℯ   "
            ],
            "text/latex": "$\\displaystyle 131072 \\xi \\left(- 65536 \\xi^{32} + 17301504 \\xi^{30} - 2011299840 \\xi^{28} + 136097955840 \\xi^{26} - 5971297812480 \\xi^{24} + 179138934374400 \\xi^{22} - 3776845866393600 \\xi^{20} + 56652687995904000 \\xi^{18} - 605475602956224000 \\xi^{16} + 4574704555669248000 \\xi^{14} - 24017198917263552000 \\xi^{12} + 85151887070298048000 \\xi^{10} - 195139741202766360000 \\xi^{8} + 270193487819214960000 \\xi^{6} - 202645115864411220000 \\xi^{4} + 67548371954803740000 \\xi^{2} - 6332659870762850625\\right) e^{- \\xi^{2}}$"
          },
          "metadata": {},
          "execution_count": 76
        },
        {
          "output_type": "stream",
          "name": "stdout",
          "text": [
            "\n",
            "\n",
            "la derivada de orden  v= 34 es:\n"
          ]
        },
        {
          "output_type": "execute_result",
          "data": {
            "text/plain": [
              "                                                                              \n",
              "       ⎛        34             32               30                 28         \n",
              "131072⋅⎝131072⋅ξ   - 36765696⋅ξ   + 4558946304⋅ξ   - 330523607040⋅ξ   + 156172\n",
              "\n",
              "                                                                              \n",
              "          26                    24                      22                    \n",
              "40432640⋅ξ   - 507560314060800⋅ξ   + 11673887223398400⋅ξ   - 19261913918607360\n",
              "\n",
              "                                                                              \n",
              "   20                        18                         16                    \n",
              "0⋅ξ   + 2287352277834624000⋅ξ   - 19442494361594304000⋅ξ   + 11665496616956582\n",
              "\n",
              "                                                                              \n",
              "      14                          12                           10             \n",
              "4000⋅ξ   - 482527360065022272000⋅ξ   + 1326950240178811248000⋅ξ   - 2296644646\n",
              "\n",
              "                                                                              \n",
              "              8                           6                           4       \n",
              "463327160000⋅ξ  + 2296644646463327160000⋅ξ  - 1148322323231663580000⋅ξ  + 2153\n",
              "\n",
              "                                               2\n",
              "                   2                      ⎞  -ξ \n",
              "10435605936921250⋅ξ  - 6332659870762850625⎠⋅ℯ   "
            ],
            "text/latex": "$\\displaystyle 131072 \\cdot \\left(131072 \\xi^{34} - 36765696 \\xi^{32} + 4558946304 \\xi^{30} - 330523607040 \\xi^{28} + 15617240432640 \\xi^{26} - 507560314060800 \\xi^{24} + 11673887223398400 \\xi^{22} - 192619139186073600 \\xi^{20} + 2287352277834624000 \\xi^{18} - 19442494361594304000 \\xi^{16} + 116654966169565824000 \\xi^{14} - 482527360065022272000 \\xi^{12} + 1326950240178811248000 \\xi^{10} - 2296644646463327160000 \\xi^{8} + 2296644646463327160000 \\xi^{6} - 1148322323231663580000 \\xi^{4} + 215310435605936921250 \\xi^{2} - 6332659870762850625\\right) e^{- \\xi^{2}}$"
          },
          "metadata": {},
          "execution_count": 76
        },
        {
          "output_type": "stream",
          "name": "stdout",
          "text": [
            "\n",
            "\n",
            "la derivada de orden  v= 35 es:\n"
          ]
        },
        {
          "output_type": "execute_result",
          "data": {
            "text/plain": [
              "                                                                              \n",
              "         ⎛          34             32               30                 28     \n",
              "262144⋅ξ⋅⎝- 131072⋅ξ   + 38993920⋅ξ   - 5147197440⋅ξ   + 398907801600⋅ξ   - 20\n",
              "\n",
              "                                                                              \n",
              "              26                    24                      22                \n",
              "244570931200⋅ξ   + 710584439685120⋅ξ   - 17764610992128000⋅ξ   + 3210318986434\n",
              "\n",
              "                                                                              \n",
              "       20                        18                         16                \n",
              "56000⋅ξ   - 4213543669695360000⋅ξ   + 40028664862105920000⋅ξ   - 2721949210623\n",
              "\n",
              "                                                                              \n",
              "          14                           12                           10        \n",
              "20256000⋅ξ   + 1299112123251983040000⋅ξ   - 4222114400568944880000⋅ξ   + 89313\n",
              "\n",
              "                                                                              \n",
              "                   8                            6                           4 \n",
              "95847357383400000⋅ξ  - 11483223232316635800000⋅ξ  + 8038256262621645060000⋅ξ  \n",
              "\n",
              "                                                        2\n",
              "                          2                        ⎞  -ξ \n",
              "- 2511955082069264081250⋅ξ  + 221643095476699771875⎠⋅ℯ   "
            ],
            "text/latex": "$\\displaystyle 262144 \\xi \\left(- 131072 \\xi^{34} + 38993920 \\xi^{32} - 5147197440 \\xi^{30} + 398907801600 \\xi^{28} - 20244570931200 \\xi^{26} + 710584439685120 \\xi^{24} - 17764610992128000 \\xi^{22} + 321031898643456000 \\xi^{20} - 4213543669695360000 \\xi^{18} + 40028664862105920000 \\xi^{16} - 272194921062320256000 \\xi^{14} + 1299112123251983040000 \\xi^{12} - 4222114400568944880000 \\xi^{10} + 8931395847357383400000 \\xi^{8} - 11483223232316635800000 \\xi^{6} + 8038256262621645060000 \\xi^{4} - 2511955082069264081250 \\xi^{2} + 221643095476699771875\\right) e^{- \\xi^{2}}$"
          },
          "metadata": {},
          "execution_count": 76
        },
        {
          "output_type": "stream",
          "name": "stdout",
          "text": [
            "\n",
            "\n",
            "la derivada de orden  v= 36 es:\n"
          ]
        },
        {
          "output_type": "execute_result",
          "data": {
            "text/plain": [
              "                                                                              \n",
              "       ⎛        36             34                32                 30        \n",
              "262144⋅⎝262144⋅ξ   - 82575360⋅ξ   + 11581194240⋅ξ   - 957378723840⋅ξ   + 52057\n",
              "\n",
              "                                                                              \n",
              "           28                     26                      24                  \n",
              "468108800⋅ξ   - 1967772294512640⋅ξ   + 53293832976384000⋅ξ   - 105064985010585\n",
              "\n",
              "                                                                              \n",
              "      22                         20                          18               \n",
              "6000⋅ξ   + 15168757210903296000⋅ξ   - 160114659448423680000⋅ξ   + 122487714478\n",
              "\n",
              "                                                                              \n",
              "            16                           14                            12     \n",
              "0441152000⋅ξ   - 6681148062438769920000⋅ξ   + 25332686403413669280000⋅ξ   - 64\n",
              "\n",
              "                                                                              \n",
              "                       10                             8                       \n",
              "306050100973160480000⋅ξ   + 103349009090849722200000⋅ξ  - 96459075151459740720\n",
              "\n",
              "                                                                              \n",
              "     6                            4                           2               \n",
              "000⋅ξ  + 45215191477246753462500⋅ξ  - 7979151437161191787500⋅ξ  + 221643095476\n",
              "\n",
              "              2\n",
              "         ⎞  -ξ \n",
              "699771875⎠⋅ℯ   "
            ],
            "text/latex": "$\\displaystyle 262144 \\cdot \\left(262144 \\xi^{36} - 82575360 \\xi^{34} + 11581194240 \\xi^{32} - 957378723840 \\xi^{30} + 52057468108800 \\xi^{28} - 1967772294512640 \\xi^{26} + 53293832976384000 \\xi^{24} - 1050649850105856000 \\xi^{22} + 15168757210903296000 \\xi^{20} - 160114659448423680000 \\xi^{18} + 1224877144780441152000 \\xi^{16} - 6681148062438769920000 \\xi^{14} + 25332686403413669280000 \\xi^{12} - 64306050100973160480000 \\xi^{10} + 103349009090849722200000 \\xi^{8} - 96459075151459740720000 \\xi^{6} + 45215191477246753462500 \\xi^{4} - 7979151437161191787500 \\xi^{2} + 221643095476699771875\\right) e^{- \\xi^{2}}$"
          },
          "metadata": {},
          "execution_count": 76
        },
        {
          "output_type": "stream",
          "name": "stdout",
          "text": [
            "\n",
            "\n",
            "la derivada de orden  v= 37 es:\n"
          ]
        },
        {
          "output_type": "execute_result",
          "data": {
            "text/plain": [
              "                                                                              \n",
              "         ⎛          36             34                32                  30   \n",
              "524288⋅ξ⋅⎝- 262144⋅ξ   + 87293952⋅ξ   - 12984975360⋅ξ   + 1142677831680⋅ξ   - \n",
              "\n",
              "                                                                              \n",
              "                28                     26                      24             \n",
              "66418148966400⋅ξ   + 2696576848035840⋅ξ   - 78874872805048320⋅ξ   + 1690175845\n",
              "\n",
              "                                                                              \n",
              "           22                         20                          18          \n",
              "822464000⋅ξ   - 26725905562067712000⋅ξ   + 311802231557456640000⋅ξ   - 2665909\n",
              "\n",
              "                                                                              \n",
              "                 16                            14                            1\n",
              "079816254272000⋅ξ   + 16480165220682299136000⋅ξ   - 72100722840485058720000⋅ξ \n",
              "\n",
              "                                                                              \n",
              "2                             10                             8                \n",
              "  + 216302168521455176160000⋅ξ   - 424879259595715524600000⋅ξ  + 5098551115148\n",
              "\n",
              "                                                                              \n",
              "             6                             4                            2     \n",
              "58629520000⋅ξ  - 334592416931625975622500⋅ξ  + 98409534391654698712500⋅ξ  - 82\n",
              "\n",
              "                         2\n",
              "                    ⎞  -ξ \n",
              "00794532637891559375⎠⋅ℯ   "
            ],
            "text/latex": "$\\displaystyle 524288 \\xi \\left(- 262144 \\xi^{36} + 87293952 \\xi^{34} - 12984975360 \\xi^{32} + 1142677831680 \\xi^{30} - 66418148966400 \\xi^{28} + 2696576848035840 \\xi^{26} - 78874872805048320 \\xi^{24} + 1690175845822464000 \\xi^{22} - 26725905562067712000 \\xi^{20} + 311802231557456640000 \\xi^{18} - 2665909079816254272000 \\xi^{16} + 16480165220682299136000 \\xi^{14} - 72100722840485058720000 \\xi^{12} + 216302168521455176160000 \\xi^{10} - 424879259595715524600000 \\xi^{8} + 509855111514858629520000 \\xi^{6} - 334592416931625975622500 \\xi^{4} + 98409534391654698712500 \\xi^{2} - 8200794532637891559375\\right) e^{- \\xi^{2}}$"
          },
          "metadata": {},
          "execution_count": 76
        },
        {
          "output_type": "stream",
          "name": "stdout",
          "text": [
            "\n",
            "\n",
            "la derivada de orden  v= 38 es:\n"
          ]
        },
        {
          "output_type": "execute_result",
          "data": {
            "text/plain": [
              "                                                                              \n",
              "       ⎛        38              36                34                  32      \n",
              "524288⋅⎝524288⋅ξ   - 184287232⋅ξ   + 29025239040⋅ξ   - 2713859850240⋅ξ   + 168\n",
              "\n",
              "                                                                              \n",
              "              30                     28                       26              \n",
              "259310714880⋅ξ   - 7319280016097280⋅ξ   + 230557320507064320⋅ξ   - 53522235117\n",
              "\n",
              "                                                                              \n",
              "          24                         22                           20          \n",
              "71136000⋅ξ   + 92325855578052096000⋅ξ   - 1184848479918335232000⋅ξ   + 1125606\n",
              "\n",
              "                                                                              \n",
              "                  18                            16                            \n",
              "0559224184704000⋅ξ   - 78280784798240920896000⋅ξ   + 391403923991204604480000⋅\n",
              "\n",
              "                                                                              \n",
              " 14                              12                              10           \n",
              "ξ   - 1369913733969216115680000⋅ξ   + 3229082372927437986960000⋅ξ   - 48436235\n",
              "\n",
              "                                                                              \n",
              "                   8                              6                           \n",
              "59391156980440000⋅ξ  + 4238170614467262357885000⋅ξ  - 186978115344143927553750\n",
              "\n",
              "                                                                2\n",
              "   4                             2                         ⎞  -ξ \n",
              "0⋅ξ  + 311630192240239879256250⋅ξ  - 8200794532637891559375⎠⋅ℯ   "
            ],
            "text/latex": "$\\displaystyle 524288 \\cdot \\left(524288 \\xi^{38} - 184287232 \\xi^{36} + 29025239040 \\xi^{34} - 2713859850240 \\xi^{32} + 168259310714880 \\xi^{30} - 7319280016097280 \\xi^{28} + 230557320507064320 \\xi^{26} - 5352223511771136000 \\xi^{24} + 92325855578052096000 \\xi^{22} - 1184848479918335232000 \\xi^{20} + 11256060559224184704000 \\xi^{18} - 78280784798240920896000 \\xi^{16} + 391403923991204604480000 \\xi^{14} - 1369913733969216115680000 \\xi^{12} + 3229082372927437986960000 \\xi^{10} - 4843623559391156980440000 \\xi^{8} + 4238170614467262357885000 \\xi^{6} - 1869781153441439275537500 \\xi^{4} + 311630192240239879256250 \\xi^{2} - 8200794532637891559375\\right) e^{- \\xi^{2}}$"
          },
          "metadata": {},
          "execution_count": 76
        },
        {
          "output_type": "stream",
          "name": "stdout",
          "text": [
            "\n",
            "\n",
            "la derivada de orden  v= 39 es:\n"
          ]
        },
        {
          "output_type": "execute_result",
          "data": {
            "text/plain": [
              "                                                                              \n",
              "          ⎛          38              36                34                  32 \n",
              "1048576⋅ξ⋅⎝- 524288⋅ξ   + 194248704⋅ξ   - 32342409216⋅ξ   + 3207288913920⋅ξ   \n",
              "\n",
              "                                                                              \n",
              "                   30                     28                       26         \n",
              "- 211681068318720⋅ξ   + 9843169676820480⋅ξ   - 333027240732426240⋅ξ   + 834946\n",
              "\n",
              "                                                                              \n",
              "               24                          22                           20    \n",
              "8678362972160⋅ξ   - 156552537719305728000⋅ξ   + 2200432891276908288000⋅ξ   - 2\n",
              "\n",
              "                                                                              \n",
              "                        18                             16                     \n",
              "3104545358407537024000⋅ξ   + 179585329831258583232000⋅ξ   - 101765020237713197\n",
              "\n",
              "                                                                              \n",
              "         14                              12                               10  \n",
              "1648000⋅ξ   + 4109741201907648347040000⋅ξ   - 11448564776742734681040000⋅ξ   +\n",
              "\n",
              "                                                                              \n",
              "                             8                               6                \n",
              " 20989035424028346915240000⋅ξ  - 23612664852031890279645000⋅ξ  + 1458429299684\n",
              "\n",
              "                                                                              \n",
              "               4                              2                           ⎞  -\n",
              "3226349192500⋅ξ  - 4051192499123118430331250⋅ξ  + 319830986772877770815625⎠⋅ℯ \n",
              "\n",
              " 2\n",
              "ξ \n",
              "  "
            ],
            "text/latex": "$\\displaystyle 1048576 \\xi \\left(- 524288 \\xi^{38} + 194248704 \\xi^{36} - 32342409216 \\xi^{34} + 3207288913920 \\xi^{32} - 211681068318720 \\xi^{30} + 9843169676820480 \\xi^{28} - 333027240732426240 \\xi^{26} + 8349468678362972160 \\xi^{24} - 156552537719305728000 \\xi^{22} + 2200432891276908288000 \\xi^{20} - 23104545358407537024000 \\xi^{18} + 179585329831258583232000 \\xi^{16} - 1017650202377131971648000 \\xi^{14} + 4109741201907648347040000 \\xi^{12} - 11448564776742734681040000 \\xi^{10} + 20989035424028346915240000 \\xi^{8} - 23612664852031890279645000 \\xi^{6} + 14584292996843226349192500 \\xi^{4} - 4051192499123118430331250 \\xi^{2} + 319830986772877770815625\\right) e^{- \\xi^{2}}$"
          },
          "metadata": {},
          "execution_count": 76
        },
        {
          "output_type": "stream",
          "name": "stdout",
          "text": [
            "\n",
            "\n",
            "la derivada de orden  v= 40 es:\n"
          ]
        },
        {
          "output_type": "execute_result",
          "data": {
            "text/plain": [
              "                                                                              \n",
              "        ⎛         40              38                36                  34    \n",
              "1048576⋅⎝1048576⋅ξ   - 408944640⋅ξ   + 71872020480⋅ξ   - 7546562150400⋅ξ   + 5\n",
              "\n",
              "                                                                              \n",
              "                32                      30                       28           \n",
              "29202670796800⋅ξ   - 26248452471521280⋅ξ   + 951506402092646400⋅ξ   - 25690672\n",
              "\n",
              "                                                                              \n",
              "              26                          24                           22     \n",
              "856501452800⋅ξ   + 521841792397685760000⋅ξ   - 8001574150097848320000⋅ξ   + 92\n",
              "\n",
              "                                                                              \n",
              "                       20                             18                      \n",
              "418181433630148096000⋅ξ   - 798157021472260369920000⋅ξ   + 5088251011885659858\n",
              "\n",
              "                                                                              \n",
              "        16                               14                               12  \n",
              "240000⋅ξ   - 23484235439472276268800000⋅ξ   + 76323765178284897873600000⋅ξ   -\n",
              "\n",
              "                                                                              \n",
              "                              10                                8             \n",
              " 167912283392226775321920000⋅ξ   + 236126648520318902796450000⋅ξ  - 1944572399\n",
              "\n",
              "                                                                              \n",
              "                   6                               4                          \n",
              "57909684655900000⋅ξ  + 81023849982462368606625000⋅ξ  - 12793239470915110832625\n",
              "\n",
              "                                      2\n",
              "     2                           ⎞  -ξ \n",
              "000⋅ξ  + 319830986772877770815625⎠⋅ℯ   "
            ],
            "text/latex": "$\\displaystyle 1048576 \\cdot \\left(1048576 \\xi^{40} - 408944640 \\xi^{38} + 71872020480 \\xi^{36} - 7546562150400 \\xi^{34} + 529202670796800 \\xi^{32} - 26248452471521280 \\xi^{30} + 951506402092646400 \\xi^{28} - 25690672856501452800 \\xi^{26} + 521841792397685760000 \\xi^{24} - 8001574150097848320000 \\xi^{22} + 92418181433630148096000 \\xi^{20} - 798157021472260369920000 \\xi^{18} + 5088251011885659858240000 \\xi^{16} - 23484235439472276268800000 \\xi^{14} + 76323765178284897873600000 \\xi^{12} - 167912283392226775321920000 \\xi^{10} + 236126648520318902796450000 \\xi^{8} - 194457239957909684655900000 \\xi^{6} + 81023849982462368606625000 \\xi^{4} - 12793239470915110832625000 \\xi^{2} + 319830986772877770815625\\right) e^{- \\xi^{2}}$"
          },
          "metadata": {},
          "execution_count": 76
        },
        {
          "output_type": "stream",
          "name": "stdout",
          "text": [
            "\n",
            "\n",
            "la derivada de orden  v= 41 es:\n"
          ]
        },
        {
          "output_type": "execute_result",
          "data": {
            "text/plain": [
              "                                                                              \n",
              "          ⎛           40              38                36                  34\n",
              "2097152⋅ξ⋅⎝- 1048576⋅ξ   + 429916160⋅ξ   - 79641968640⋅ξ   + 8840258519040⋅ξ  \n",
              "\n",
              "                                                                              \n",
              "                    32                      30                        28      \n",
              " - 657494227353600⋅ξ   + 34715695204270080⋅ξ   - 1345233189165465600⋅ξ   + 390\n",
              "\n",
              "                                                                              \n",
              "                   26                          24                            2\n",
              "11762485798502400⋅ξ   - 855820539532204646400⋅ξ   + 14263675658870077440000⋅ξ \n",
              "\n",
              "                                                                              \n",
              "2                             20                              18              \n",
              "  - 180435497084706479616000⋅ξ   + 1722338835808561850880000⋅ξ   - 12271664205\n",
              "\n",
              "                                                                              \n",
              "                 16                               14                          \n",
              "136003187520000⋅ξ   + 64190243534557555134720000⋅ξ   - 24071341325459083175520\n",
              "\n",
              "                                                                              \n",
              "      12                                10                                 8  \n",
              "0000⋅ξ   + 625854874461936162563520000⋅ξ   - 1075688065481452779406050000⋅ξ  +\n",
              "\n",
              "                                                                              \n",
              "                               6                                4             \n",
              " 1138963834039185295841700000⋅ξ  - 664395569856191422574325000⋅ξ  + 1748409394\n",
              "\n",
              "                                                      2\n",
              "                   2                             ⎞  -ξ \n",
              "35839848045875000⋅ξ  - 13113070457687988603440625⎠⋅ℯ   "
            ],
            "text/latex": "$\\displaystyle 2097152 \\xi \\left(- 1048576 \\xi^{40} + 429916160 \\xi^{38} - 79641968640 \\xi^{36} + 8840258519040 \\xi^{34} - 657494227353600 \\xi^{32} + 34715695204270080 \\xi^{30} - 1345233189165465600 \\xi^{28} + 39011762485798502400 \\xi^{26} - 855820539532204646400 \\xi^{24} + 14263675658870077440000 \\xi^{22} - 180435497084706479616000 \\xi^{20} + 1722338835808561850880000 \\xi^{18} - 12271664205136003187520000 \\xi^{16} + 64190243534557555134720000 \\xi^{14} - 240713413254590831755200000 \\xi^{12} + 625854874461936162563520000 \\xi^{10} - 1075688065481452779406050000 \\xi^{8} + 1138963834039185295841700000 \\xi^{6} - 664395569856191422574325000 \\xi^{4} + 174840939435839848045875000 \\xi^{2} - 13113070457687988603440625\\right) e^{- \\xi^{2}}$"
          },
          "metadata": {},
          "execution_count": 76
        },
        {
          "output_type": "stream",
          "name": "stdout",
          "text": [
            "\n",
            "\n",
            "la derivada de orden  v= 42 es:\n"
          ]
        },
        {
          "output_type": "execute_result",
          "data": {
            "text/plain": [
              "                                                                              \n",
              "        ⎛         42              40                 38                   36  \n",
              "2097152⋅⎝2097152⋅ξ   - 902823936⋅ξ   + 176050667520⋅ξ   - 20627269877760⋅ξ   +\n",
              "\n",
              "                                                                              \n",
              "                   34                      32                        30       \n",
              " 1624397502873600⋅ξ   - 91128699911208960⋅ξ   + 3766652929663303680⋅ξ   - 1170\n",
              "\n",
              "                                                                              \n",
              "                   28                           26                            \n",
              "35287457395507200⋅ξ   + 2764958666180968857600⋅ξ   - 49922864806045271040000⋅ξ\n",
              "\n",
              "                                                                              \n",
              "24                             22                              20             \n",
              "   + 688935534323424740352000⋅ξ   - 7233823110395959773696000⋅ξ   + 5726776629\n",
              "\n",
              "                                                                              \n",
              "                  18                                16                        \n",
              "0634681541760000⋅ξ   - 336998778556427164457280000⋅ξ   + 144428047952754499053\n",
              "\n",
              "                                                                              \n",
              "         14                                 12                                \n",
              "1200000⋅ξ   - 4380984121233553137944640000⋅ξ   + 9035779750044203347010820000⋅\n",
              "\n",
              "                                                                              \n",
              " 10                                  8                                 6      \n",
              "ξ   - 11959120257411445606337850000⋅ξ  + 9301537977986679916040550000⋅ξ  - 367\n",
              "\n",
              "                                                                              \n",
              "                           4                                2                 \n",
              "1659728152636808963375000⋅ξ  + 550748959222895521344506250⋅ξ  - 13113070457687\n",
              "\n",
              "                 2\n",
              "            ⎞  -ξ \n",
              "988603440625⎠⋅ℯ   "
            ],
            "text/latex": "$\\displaystyle 2097152 \\cdot \\left(2097152 \\xi^{42} - 902823936 \\xi^{40} + 176050667520 \\xi^{38} - 20627269877760 \\xi^{36} + 1624397502873600 \\xi^{34} - 91128699911208960 \\xi^{32} + 3766652929663303680 \\xi^{30} - 117035287457395507200 \\xi^{28} + 2764958666180968857600 \\xi^{26} - 49922864806045271040000 \\xi^{24} + 688935534323424740352000 \\xi^{22} - 7233823110395959773696000 \\xi^{20} + 57267766290634681541760000 \\xi^{18} - 336998778556427164457280000 \\xi^{16} + 1444280479527544990531200000 \\xi^{14} - 4380984121233553137944640000 \\xi^{12} + 9035779750044203347010820000 \\xi^{10} - 11959120257411445606337850000 \\xi^{8} + 9301537977986679916040550000 \\xi^{6} - 3671659728152636808963375000 \\xi^{4} + 550748959222895521344506250 \\xi^{2} - 13113070457687988603440625\\right) e^{- \\xi^{2}}$"
          },
          "metadata": {},
          "execution_count": 76
        },
        {
          "output_type": "stream",
          "name": "stdout",
          "text": [
            "\n",
            "\n",
            "la derivada de orden  v= 43 es:\n"
          ]
        },
        {
          "output_type": "execute_result",
          "data": {
            "text/plain": [
              "                                                                              \n",
              "          ⎛           42              40                 38                   \n",
              "4194304⋅ξ⋅⎝- 2097152⋅ξ   + 946864128⋅ξ   - 194107146240⋅ξ   + 23972232560640⋅ξ\n",
              "\n",
              "                                                                              \n",
              "36                     34                       32                        30  \n",
              "   - 1995688360673280⋅ξ   + 118743457460060160⋅ξ   - 5224712128242647040⋅ξ   +\n",
              "\n",
              "                                                                              \n",
              "                        28                           26                       \n",
              " 173535081402345062400⋅ξ   - 4403452690584505958400⋅ξ   + 85867327466397866188\n",
              "\n",
              "                                                                              \n",
              "     24                              22                               20      \n",
              "800⋅ξ   - 1288009911995967992832000⋅ξ   + 14812113987953631917568000⋅ξ   - 129\n",
              "\n",
              "                                                                              \n",
              "                          18                                16                \n",
              "605997394594279278720000⋅ξ   + 852408675172139298333120000⋅ξ   - 4140270707978\n",
              "\n",
              "                                                                              \n",
              "                 14                                  12                       \n",
              "962306189440000⋅ξ   + 14490947477926368071663040000⋅ξ   - 35321684477445522174\n",
              "\n",
              "                                                                              \n",
              "           10                                  8                              \n",
              "678660000⋅ξ   + 57138019007632462341391950000⋅ξ  - 571380190076324623413919500\n",
              "\n",
              "                                                                              \n",
              "    6                                  4                                 2    \n",
              "00⋅ξ  + 31576273662112676557085025000⋅ξ  - 7894068415528169139271256250⋅ξ  + 5\n",
              "\n",
              "                               2\n",
              "                          ⎞  -ξ \n",
              "63862029680583509947946875⎠⋅ℯ   "
            ],
            "text/latex": "$\\displaystyle 4194304 \\xi \\left(- 2097152 \\xi^{42} + 946864128 \\xi^{40} - 194107146240 \\xi^{38} + 23972232560640 \\xi^{36} - 1995688360673280 \\xi^{34} + 118743457460060160 \\xi^{32} - 5224712128242647040 \\xi^{30} + 173535081402345062400 \\xi^{28} - 4403452690584505958400 \\xi^{26} + 85867327466397866188800 \\xi^{24} - 1288009911995967992832000 \\xi^{22} + 14812113987953631917568000 \\xi^{20} - 129605997394594279278720000 \\xi^{18} + 852408675172139298333120000 \\xi^{16} - 4140270707978962306189440000 \\xi^{14} + 14490947477926368071663040000 \\xi^{12} - 35321684477445522174678660000 \\xi^{10} + 57138019007632462341391950000 \\xi^{8} - 57138019007632462341391950000 \\xi^{6} + 31576273662112676557085025000 \\xi^{4} - 7894068415528169139271256250 \\xi^{2} + 563862029680583509947946875\\right) e^{- \\xi^{2}}$"
          },
          "metadata": {},
          "execution_count": 76
        },
        {
          "output_type": "stream",
          "name": "stdout",
          "text": [
            "\n",
            "\n",
            "la derivada de orden  v= 44 es:\n"
          ]
        },
        {
          "output_type": "execute_result",
          "data": {
            "text/plain": [
              "                                                                              \n",
              "        ⎛         44               42                 40                   38 \n",
              "4194304⋅⎝4194304⋅ξ   - 1983905792⋅ξ   + 427035721728⋅ξ   - 55514643824640⋅ξ   \n",
              "\n",
              "                                                                              \n",
              "                    36                       34                         32    \n",
              "+ 4878349326090240⋅ξ   - 307336007543685120⋅ξ   + 14367958352667279360⋅ξ   - 5\n",
              "\n",
              "                                                                              \n",
              "                      30                            28                        \n",
              "09036238780212183040⋅ξ   + 13839422741837018726400⋅ξ   - 290627877578577393254\n",
              "\n",
              "                                                                              \n",
              "     26                              24                               22      \n",
              "400⋅ξ   + 4722703010651882640384000⋅ξ   - 59248455951814527670272000⋅ξ   + 570\n",
              "\n",
              "                                                                              \n",
              "                          20                                 18               \n",
              "266388536214828826368000⋅ξ   - 4167331300841569902961920000⋅ξ   + 227714888938\n",
              "\n",
              "                                                                              \n",
              "                   16                                  14                     \n",
              "84292684041920000⋅ξ   - 91085955575537170736167680000⋅ξ   + 259025686167933829\n",
              "\n",
              "                                                                              \n",
              "              12                                   10                         \n",
              "280976840000⋅ξ   - 502814567267165668604249160000⋅ξ   + 6285182090839570857553\n",
              "\n",
              "                                                                              \n",
              "          8                                   6                               \n",
              "11450000⋅ξ  - 463118680377652589503913700000⋅ξ  + 1736695051416197210639676375\n",
              "\n",
              "                                                                           2\n",
              "    4                                  2                              ⎞  -ξ \n",
              "00⋅ξ  - 24809929305945674437709662500⋅ξ  + 563862029680583509947946875⎠⋅ℯ   "
            ],
            "text/latex": "$\\displaystyle 4194304 \\cdot \\left(4194304 \\xi^{44} - 1983905792 \\xi^{42} + 427035721728 \\xi^{40} - 55514643824640 \\xi^{38} + 4878349326090240 \\xi^{36} - 307336007543685120 \\xi^{34} + 14367958352667279360 \\xi^{32} - 509036238780212183040 \\xi^{30} + 13839422741837018726400 \\xi^{28} - 290627877578577393254400 \\xi^{26} + 4722703010651882640384000 \\xi^{24} - 59248455951814527670272000 \\xi^{22} + 570266388536214828826368000 \\xi^{20} - 4167331300841569902961920000 \\xi^{18} + 22771488893884292684041920000 \\xi^{16} - 91085955575537170736167680000 \\xi^{14} + 259025686167933829280976840000 \\xi^{12} - 502814567267165668604249160000 \\xi^{10} + 628518209083957085755311450000 \\xi^{8} - 463118680377652589503913700000 \\xi^{6} + 173669505141619721063967637500 \\xi^{4} - 24809929305945674437709662500 \\xi^{2} + 563862029680583509947946875\\right) e^{- \\xi^{2}}$"
          },
          "metadata": {},
          "execution_count": 76
        },
        {
          "output_type": "stream",
          "name": "stdout",
          "text": [
            "\n",
            "\n",
            "la derivada de orden  v= 45 es:\n"
          ]
        },
        {
          "output_type": "execute_result",
          "data": {
            "text/plain": [
              "                                                                              \n",
              "          ⎛           44               42                 40                  \n",
              "8388608⋅ξ⋅⎝- 4194304⋅ξ   + 2076180480⋅ξ   - 468697743360⋅ξ   + 64055358259200⋅\n",
              "\n",
              "                                                                              \n",
              " 38                     36                       34                         32\n",
              "ξ   - 5933127558758400⋅ξ   + 395146295413309440⋅ξ   - 19592670480909926400⋅ξ  \n",
              "\n",
              "                                                                              \n",
              "                          30                            28                    \n",
              " + 738923572422888652800⋅ξ   - 21474966323540201472000⋅ξ   + 48437979596429565\n",
              "\n",
              "                                                                              \n",
              "         26                              24                                22 \n",
              "5424000⋅ξ   - 8500865419173388752691200⋅ξ   + 115920892079637119354880000⋅ξ   \n",
              "\n",
              "                                                                              \n",
              "                                20                                 18         \n",
              "- 1221999404006174633199360000⋅ξ   + 9869995186203718191225600000⋅ξ   - 602774\n",
              "\n",
              "                                                                              \n",
              "                         16                                   14              \n",
              "70601458421810699200000⋅ξ   + 273257866726611512208503040000⋅ξ   - 89662737519\n",
              "\n",
              "                                                                              \n",
              "                     12                                    10                 \n",
              "6694024434150600000⋅ξ   + 2056968684274768644290110200000⋅ξ   - 31425910454197\n",
              "\n",
              "                                                                              \n",
              "                   8                                    6                     \n",
              "85428776557250000⋅ξ  + 2977191516713480932525159500000⋅ξ  - 156302554627457748\n",
              "\n",
              "                                                                              \n",
              "               4                                   2                          \n",
              "9575708737500⋅ξ  + 372148939589185116565644937500⋅ξ  - 25373791335626257947657\n",
              "\n",
              "           2\n",
              "      ⎞  -ξ \n",
              "609375⎠⋅ℯ   "
            ],
            "text/latex": "$\\displaystyle 8388608 \\xi \\left(- 4194304 \\xi^{44} + 2076180480 \\xi^{42} - 468697743360 \\xi^{40} + 64055358259200 \\xi^{38} - 5933127558758400 \\xi^{36} + 395146295413309440 \\xi^{34} - 19592670480909926400 \\xi^{32} + 738923572422888652800 \\xi^{30} - 21474966323540201472000 \\xi^{28} + 484379795964295655424000 \\xi^{26} - 8500865419173388752691200 \\xi^{24} + 115920892079637119354880000 \\xi^{22} - 1221999404006174633199360000 \\xi^{20} + 9869995186203718191225600000 \\xi^{18} - 60277470601458421810699200000 \\xi^{16} + 273257866726611512208503040000 \\xi^{14} - 896627375196694024434150600000 \\xi^{12} + 2056968684274768644290110200000 \\xi^{10} - 3142591045419785428776557250000 \\xi^{8} + 2977191516713480932525159500000 \\xi^{6} - 1563025546274577489575708737500 \\xi^{4} + 372148939589185116565644937500 \\xi^{2} - 25373791335626257947657609375\\right) e^{- \\xi^{2}}$"
          },
          "metadata": {},
          "execution_count": 76
        },
        {
          "output_type": "stream",
          "name": "stdout",
          "text": [
            "\n",
            "\n",
            "la derivada de orden  v= 46 es:\n"
          ]
        },
        {
          "output_type": "execute_result",
          "data": {
            "text/plain": [
              "                                                                              \n",
              "        ⎛         46               44                  42                    4\n",
              "8388608⋅⎝8388608⋅ξ   - 4341104640⋅ξ   + 1026671247360⋅ξ   - 147327323996160⋅ξ \n",
              "\n",
              "                                                                              \n",
              "0                      38                        36                         34\n",
              "  + 14364414089625600⋅ξ   - 1009818310500679680⋅ξ   + 53015461301285683200⋅ξ  \n",
              "\n",
              "                                                                              \n",
              "                           32                            30                   \n",
              " - 2124405270715804876800⋅ξ   + 65856563392189951180800⋅ξ   - 1591533615311257\n",
              "\n",
              "                                                                              \n",
              "           28                               26                                \n",
              "153536000⋅ξ   + 30079985329382760201830400⋅ξ   - 444363419638608957527040000⋅ξ\n",
              "\n",
              "                                                                              \n",
              "24                                 22                                  20     \n",
              "   + 5110179325844003011560960000⋅ξ   - 45401977856537103679637760000⋅ξ   + 30\n",
              "\n",
              "                                                                              \n",
              "                              18                                    16        \n",
              "8084849740787489254684800000⋅ξ   - 1571232733678016195198892480000⋅ξ   + 58921\n",
              "\n",
              "                                                                              \n",
              "                            14                                     12         \n",
              "22751292560731995846800000⋅ξ   - 15770093246106559606224178200000⋅ξ   + 289118\n",
              "\n",
              "                                                                              \n",
              "                            10                                     8          \n",
              "37617862025944744326700000⋅ξ   - 34237702442205030724039334250000⋅ξ  + 2396639\n",
              "\n",
              "                                                                              \n",
              "                           6                                    4             \n",
              "1709543521506827533975000⋅ξ  - 8559425610551257681009833562500⋅ξ  + 1167194401\n",
              "\n",
              "                                                             2\n",
              "                       2                                ⎞  -ξ \n",
              "438807865592250031250⋅ξ  - 25373791335626257947657609375⎠⋅ℯ   "
            ],
            "text/latex": "$\\displaystyle 8388608 \\cdot \\left(8388608 \\xi^{46} - 4341104640 \\xi^{44} + 1026671247360 \\xi^{42} - 147327323996160 \\xi^{40} + 14364414089625600 \\xi^{38} - 1009818310500679680 \\xi^{36} + 53015461301285683200 \\xi^{34} - 2124405270715804876800 \\xi^{32} + 65856563392189951180800 \\xi^{30} - 1591533615311257153536000 \\xi^{28} + 30079985329382760201830400 \\xi^{26} - 444363419638608957527040000 \\xi^{24} + 5110179325844003011560960000 \\xi^{22} - 45401977856537103679637760000 \\xi^{20} + 308084849740787489254684800000 \\xi^{18} - 1571232733678016195198892480000 \\xi^{16} + 5892122751292560731995846800000 \\xi^{14} - 15770093246106559606224178200000 \\xi^{12} + 28911837617862025944744326700000 \\xi^{10} - 34237702442205030724039334250000 \\xi^{8} + 23966391709543521506827533975000 \\xi^{6} - 8559425610551257681009833562500 \\xi^{4} + 1167194401438807865592250031250 \\xi^{2} - 25373791335626257947657609375\\right) e^{- \\xi^{2}}$"
          },
          "metadata": {},
          "execution_count": 76
        },
        {
          "output_type": "stream",
          "name": "stdout",
          "text": [
            "\n",
            "\n",
            "la derivada de orden  v= 47 es:\n"
          ]
        },
        {
          "output_type": "execute_result",
          "data": {
            "text/plain": [
              "                                                                              \n",
              "           ⎛           46               44                  42                \n",
              "16777216⋅ξ⋅⎝- 8388608⋅ξ   + 4534042624⋅ξ   - 1122175549440⋅ξ   + 1688874201907\n",
              "\n",
              "                                                                              \n",
              "    40                      38                        36                      \n",
              "20⋅ξ   - 17310960569548800⋅ξ   + 1282742178203566080⋅ξ   - 7119219089029791744\n",
              "\n",
              "                                                                              \n",
              "   34                           32                            30              \n",
              "0⋅ξ   + 3025668112837661491200⋅ξ   - 99847047723642829209600⋅ξ   + 25793820661\n",
              "\n",
              "                                                                              \n",
              "                28                               26                           \n",
              "94106421248000⋅ξ   - 52361455943740360351334400⋅ξ   + 835403228920584840150835\n",
              "\n",
              "                                                                              \n",
              "     24                                  22                                   \n",
              "200⋅ξ   - 10442540361507310501885440000⋅ξ   + 101613950440821136806808320000⋅ξ\n",
              "\n",
              "                                                                              \n",
              "20                                   18                                    16 \n",
              "   - 762104628306158526051062400000⋅ξ   + 4343996381345103598491055680000⋅ξ   \n",
              "\n",
              "                                                                              \n",
              "                                    14                                     12 \n",
              "- 18461984620716690293586986640000⋅ξ   + 57014952505154484730195105800000⋅ξ   \n",
              "\n",
              "                                                                              \n",
              "                                     10                                      8\n",
              "- 123532397094501383582089395900000⋅ξ   + 178796890531515160447760967750000⋅ξ \n",
              "\n",
              "                                                                              \n",
              "                                      6                                     4 \n",
              " - 160917201478363644402984870975000⋅ξ  + 80458600739181822201492435487500⋅ξ  \n",
              "\n",
              "                                                                            2\n",
              "                                    2                                  ⎞  -ξ \n",
              "- 18286045622541323227611917156250⋅ξ  + 1192568192774434123539907640625⎠⋅ℯ   "
            ],
            "text/latex": "$\\displaystyle 16777216 \\xi \\left(- 8388608 \\xi^{46} + 4534042624 \\xi^{44} - 1122175549440 \\xi^{42} + 168887420190720 \\xi^{40} - 17310960569548800 \\xi^{38} + 1282742178203566080 \\xi^{36} - 71192190890297917440 \\xi^{34} + 3025668112837661491200 \\xi^{32} - 99847047723642829209600 \\xi^{30} + 2579382066194106421248000 \\xi^{28} - 52361455943740360351334400 \\xi^{26} + 835403228920584840150835200 \\xi^{24} - 10442540361507310501885440000 \\xi^{22} + 101613950440821136806808320000 \\xi^{20} - 762104628306158526051062400000 \\xi^{18} + 4343996381345103598491055680000 \\xi^{16} - 18461984620716690293586986640000 \\xi^{14} + 57014952505154484730195105800000 \\xi^{12} - 123532397094501383582089395900000 \\xi^{10} + 178796890531515160447760967750000 \\xi^{8} - 160917201478363644402984870975000 \\xi^{6} + 80458600739181822201492435487500 \\xi^{4} - 18286045622541323227611917156250 \\xi^{2} + 1192568192774434123539907640625\\right) e^{- \\xi^{2}}$"
          },
          "metadata": {},
          "execution_count": 76
        },
        {
          "output_type": "stream",
          "name": "stdout",
          "text": [
            "\n",
            "\n",
            "la derivada de orden  v= 48 es:\n"
          ]
        },
        {
          "output_type": "execute_result",
          "data": {
            "text/plain": [
              "                                                                              \n",
              "         ⎛          48               46                  44                   \n",
              "16777216⋅⎝16777216⋅ξ   - 9462349824⋅ξ   + 2448383016960⋅ξ   - 386028389007360⋅\n",
              "\n",
              "                                                                              \n",
              " 42                      40                        38                         \n",
              "ξ   + 41546305366917120⋅ξ   - 3240611818619535360⋅ξ   + 189845842374127779840⋅\n",
              "\n",
              "                                                                              \n",
              " 36                           34                             32               \n",
              "ξ   - 8543062906835750092800⋅ξ   + 299541143170928487628800⋅ξ   - 825402261182\n",
              "\n",
              "                                                                              \n",
              "               30                                28                           \n",
              "1140547993600⋅ξ   + 179524991807109806918860800⋅ξ   - 308456576832215940978769\n",
              "\n",
              "                                                                              \n",
              "      26                                  24                                  \n",
              "9200⋅ξ   + 41770161446029242007541760000⋅ξ   - 443406329196310415156981760000⋅\n",
              "\n",
              "                                                                              \n",
              " 22                                    20                                     \n",
              "ξ   + 3658102215869560925045099520000⋅ξ   - 23167980700507219191952296960000⋅ξ\n",
              "\n",
              "                                                                              \n",
              "18                                      16                                    \n",
              "   + 110771907724300141761521919840000⋅ξ   - 390959674321059323864195011200000\n",
              "\n",
              "                                                                              \n",
              "  14                                      12                                  \n",
              "⋅ξ   + 988259176756011068656715167200000⋅ξ   - 1716450149102545540298505290400\n",
              "\n",
              "                                                                              \n",
              "     10                                       8                               \n",
              "000⋅ξ   + 1931006417740363732835818451700000⋅ξ  - 1287337611826909155223878967\n",
              "\n",
              "                                                                              \n",
              "        6                                      4                              \n",
              "800000⋅ξ  + 438865094940991757462686011750000⋅ξ  - 572432732531728379299155667\n",
              "\n",
              "                                               2\n",
              "       2                                  ⎞  -ξ \n",
              "50000⋅ξ  + 1192568192774434123539907640625⎠⋅ℯ   "
            ],
            "text/latex": "$\\displaystyle 16777216 \\cdot \\left(16777216 \\xi^{48} - 9462349824 \\xi^{46} + 2448383016960 \\xi^{44} - 386028389007360 \\xi^{42} + 41546305366917120 \\xi^{40} - 3240611818619535360 \\xi^{38} + 189845842374127779840 \\xi^{36} - 8543062906835750092800 \\xi^{34} + 299541143170928487628800 \\xi^{32} - 8254022611821140547993600 \\xi^{30} + 179524991807109806918860800 \\xi^{28} - 3084565768322159409787699200 \\xi^{26} + 41770161446029242007541760000 \\xi^{24} - 443406329196310415156981760000 \\xi^{22} + 3658102215869560925045099520000 \\xi^{20} - 23167980700507219191952296960000 \\xi^{18} + 110771907724300141761521919840000 \\xi^{16} - 390959674321059323864195011200000 \\xi^{14} + 988259176756011068656715167200000 \\xi^{12} - 1716450149102545540298505290400000 \\xi^{10} + 1931006417740363732835818451700000 \\xi^{8} - 1287337611826909155223878967800000 \\xi^{6} + 438865094940991757462686011750000 \\xi^{4} - 57243273253172837929915566750000 \\xi^{2} + 1192568192774434123539907640625\\right) e^{- \\xi^{2}}$"
          },
          "metadata": {},
          "execution_count": 76
        },
        {
          "output_type": "stream",
          "name": "stdout",
          "text": [
            "\n",
            "\n",
            "la derivada de orden  v= 49 es:\n"
          ]
        },
        {
          "output_type": "execute_result",
          "data": {
            "text/plain": [
              "                                                                              \n",
              "           ⎛            48               46                  44               \n",
              "33554432⋅ξ⋅⎝- 16777216⋅ξ   + 9865003008⋅ξ   - 2666017062912⋅ξ   + 439892815380\n",
              "\n",
              "                                                                              \n",
              "     42                      40                        38                     \n",
              "480⋅ξ   - 49652901536071680⋅ξ   + 4071537925957877760⋅ξ   - 251417466927898951\n",
              "\n",
              "                                                                              \n",
              "     36                            34                             32          \n",
              "680⋅ξ   + 11960288069570050129920⋅ξ   - 444773212587136239206400⋅ξ   + 1304668\n",
              "\n",
              "                                                                              \n",
              "                     30                                28                     \n",
              "0902555996350054400⋅ξ   - 303335330984426915138764800⋅ξ   + 559791565362169670\n",
              "\n",
              "                                                                              \n",
              "            26                                  24                            \n",
              "6651750400⋅ξ   - 81869516434217314334781849600⋅ξ   + 9446482665486613192474828\n",
              "\n",
              "                                                                              \n",
              "       22                                    20                               \n",
              "80000⋅ξ   - 8535571837028975491771898880000⋅ξ   + 5974900285920282844240329216\n",
              "\n",
              "                                                                              \n",
              "      18                                      16                              \n",
              "0000⋅ξ   - 319283734028865114489092592480000⋅ξ   + 127713493611546045795637036\n",
              "\n",
              "                                                                              \n",
              "         14                                       12                          \n",
              "9920000⋅ξ   - 3724976897003426335706080245600000⋅ξ   + 76460052096386119522387\n",
              "\n",
              "                                                                              \n",
              "             10                                        8                      \n",
              "96293600000⋅ξ   - 10513257163253091434328344903700000⋅ξ  + 9011363282788364086\n",
              "\n",
              "                                                                              \n",
              "                 6                                       4                    \n",
              "567152774600000⋅ξ  - 4300877930421719223134322915150000⋅ξ  + 93497346313515635\n",
              "\n",
              "                                                           2\n",
              "                  2                                   ⎞  -ξ \n",
              "2855287590250000⋅ξ  - 58435841445947272053455474390625⎠⋅ℯ   "
            ],
            "text/latex": "$\\displaystyle 33554432 \\xi \\left(- 16777216 \\xi^{48} + 9865003008 \\xi^{46} - 2666017062912 \\xi^{44} + 439892815380480 \\xi^{42} - 49652901536071680 \\xi^{40} + 4071537925957877760 \\xi^{38} - 251417466927898951680 \\xi^{36} + 11960288069570050129920 \\xi^{34} - 444773212587136239206400 \\xi^{32} + 13046680902555996350054400 \\xi^{30} - 303335330984426915138764800 \\xi^{28} + 5597915653621696706651750400 \\xi^{26} - 81869516434217314334781849600 \\xi^{24} + 944648266548661319247482880000 \\xi^{22} - 8535571837028975491771898880000 \\xi^{20} + 59749002859202828442403292160000 \\xi^{18} - 319283734028865114489092592480000 \\xi^{16} + 1277134936115460457956370369920000 \\xi^{14} - 3724976897003426335706080245600000 \\xi^{12} + 7646005209638611952238796293600000 \\xi^{10} - 10513257163253091434328344903700000 \\xi^{8} + 9011363282788364086567152774600000 \\xi^{6} - 4300877930421719223134322915150000 \\xi^{4} + 934973463135156352855287590250000 \\xi^{2} - 58435841445947272053455474390625\\right) e^{- \\xi^{2}}$"
          },
          "metadata": {},
          "execution_count": 76
        },
        {
          "output_type": "stream",
          "name": "stdout",
          "text": [
            "\n",
            "\n"
          ]
        }
      ],
      "source": [
        "i=0\n",
        "while i <50:\n",
        "  n=i\n",
        "  i=i+1\n",
        "  print(\"la derivada de orden  v=\",n,\"es:\")\n",
        "  diff(sp.exp(-xi**2), xi, n)\n",
        "  print(\"\\n\")\n",
        "\n"
      ]
    },
    {
      "cell_type": "markdown",
      "source": [
        "### **Calculo de constantes $K_{spring}$**"
      ],
      "metadata": {
        "id": "nv6DjMyUcRB5"
      }
    },
    {
      "cell_type": "code",
      "source": [
        "# Import math Library\n",
        "import math\n",
        "\n",
        "# Print the value of pi\n",
        "print (math.pi)"
      ],
      "metadata": {
        "colab": {
          "base_uri": "https://localhost:8080/"
        },
        "id": "LWlr0ct5fgt6",
        "outputId": "9020792a-99e2-403b-f1e6-ada4a86b0cec"
      },
      "execution_count": null,
      "outputs": [
        {
          "output_type": "stream",
          "name": "stdout",
          "text": [
            "3.141592653589793\n"
          ]
        }
      ]
    },
    {
      "cell_type": "code",
      "source": [
        "\n",
        "conv1= 1e+2\n",
        "conv2= 1.6605e-27\n",
        "matom1= float(input(\"Inserta el valor de la masa de un átomo en u.m.a. :  \"))\n",
        "matom2= float(input(\"Inserta el valor de la masa del otro átomo en u.m.a. :  \"))\n",
        "rmass=(matom1*matom2)/(matom1+matom2)\n",
        "rmasskg= rmass*conv2\n",
        "print(\"La masa reducida en kg: \", rmasskg)\n",
        "c=3e8\n",
        "wn= float(input(\"Inserta el valor del número de onda en cm^-1 :  \"))\n",
        "\n",
        "k=rmass*conv2*((2*math.pi*c*wn*conv1)**2)\n",
        "\n",
        "print(\"La constante de fuerza en N/m es: \", k)"
      ],
      "metadata": {
        "colab": {
          "base_uri": "https://localhost:8080/",
          "height": 432
        },
        "id": "14BdRqpxcYbL",
        "outputId": "a9e3d7a8-704b-40fe-ed50-d62e7138d9ad"
      },
      "execution_count": null,
      "outputs": [
        {
          "output_type": "stream",
          "name": "stdout",
          "text": [
            "Inserta el valor de la masa de un átomo en u.m.a. :  12\n",
            "Inserta el valor de la masa del otro átomo en u.m.a. :  16\n",
            "La masa reducida en kg:  1.1386285714285713e-26\n"
          ]
        },
        {
          "output_type": "error",
          "ename": "KeyboardInterrupt",
          "evalue": "ignored",
          "traceback": [
            "\u001b[0;31m---------------------------------------------------------------------------\u001b[0m",
            "\u001b[0;31mKeyboardInterrupt\u001b[0m                         Traceback (most recent call last)",
            "\u001b[0;32m<ipython-input-2-d149c24240d9>\u001b[0m in \u001b[0;36m<cell line: 9>\u001b[0;34m()\u001b[0m\n\u001b[1;32m      7\u001b[0m \u001b[0mprint\u001b[0m\u001b[0;34m(\u001b[0m\u001b[0;34m\"La masa reducida en kg: \"\u001b[0m\u001b[0;34m,\u001b[0m \u001b[0mrmasskg\u001b[0m\u001b[0;34m)\u001b[0m\u001b[0;34m\u001b[0m\u001b[0;34m\u001b[0m\u001b[0m\n\u001b[1;32m      8\u001b[0m \u001b[0mc\u001b[0m\u001b[0;34m=\u001b[0m\u001b[0;36m3e8\u001b[0m\u001b[0;34m\u001b[0m\u001b[0;34m\u001b[0m\u001b[0m\n\u001b[0;32m----> 9\u001b[0;31m \u001b[0mwn\u001b[0m\u001b[0;34m=\u001b[0m \u001b[0mfloat\u001b[0m\u001b[0;34m(\u001b[0m\u001b[0minput\u001b[0m\u001b[0;34m(\u001b[0m\u001b[0;34m\"Inserta el valor del número de onda en cm^-1 :  \"\u001b[0m\u001b[0;34m)\u001b[0m\u001b[0;34m)\u001b[0m\u001b[0;34m\u001b[0m\u001b[0;34m\u001b[0m\u001b[0m\n\u001b[0m\u001b[1;32m     10\u001b[0m \u001b[0;34m\u001b[0m\u001b[0m\n\u001b[1;32m     11\u001b[0m \u001b[0mk\u001b[0m\u001b[0;34m=\u001b[0m\u001b[0mrmass\u001b[0m\u001b[0;34m*\u001b[0m\u001b[0mconv2\u001b[0m\u001b[0;34m*\u001b[0m\u001b[0;34m(\u001b[0m\u001b[0;34m(\u001b[0m\u001b[0;36m2\u001b[0m\u001b[0;34m*\u001b[0m\u001b[0mmath\u001b[0m\u001b[0;34m.\u001b[0m\u001b[0mpi\u001b[0m\u001b[0;34m*\u001b[0m\u001b[0mc\u001b[0m\u001b[0;34m*\u001b[0m\u001b[0mwn\u001b[0m\u001b[0;34m*\u001b[0m\u001b[0mconv1\u001b[0m\u001b[0;34m)\u001b[0m\u001b[0;34m**\u001b[0m\u001b[0;36m2\u001b[0m\u001b[0;34m)\u001b[0m\u001b[0;34m\u001b[0m\u001b[0;34m\u001b[0m\u001b[0m\n",
            "\u001b[0;32m/usr/local/lib/python3.10/dist-packages/ipykernel/kernelbase.py\u001b[0m in \u001b[0;36mraw_input\u001b[0;34m(self, prompt)\u001b[0m\n\u001b[1;32m    849\u001b[0m                 \u001b[0;34m\"raw_input was called, but this frontend does not support input requests.\"\u001b[0m\u001b[0;34m\u001b[0m\u001b[0;34m\u001b[0m\u001b[0m\n\u001b[1;32m    850\u001b[0m             )\n\u001b[0;32m--> 851\u001b[0;31m         return self._input_request(str(prompt),\n\u001b[0m\u001b[1;32m    852\u001b[0m             \u001b[0mself\u001b[0m\u001b[0;34m.\u001b[0m\u001b[0m_parent_ident\u001b[0m\u001b[0;34m,\u001b[0m\u001b[0;34m\u001b[0m\u001b[0;34m\u001b[0m\u001b[0m\n\u001b[1;32m    853\u001b[0m             \u001b[0mself\u001b[0m\u001b[0;34m.\u001b[0m\u001b[0m_parent_header\u001b[0m\u001b[0;34m,\u001b[0m\u001b[0;34m\u001b[0m\u001b[0;34m\u001b[0m\u001b[0m\n",
            "\u001b[0;32m/usr/local/lib/python3.10/dist-packages/ipykernel/kernelbase.py\u001b[0m in \u001b[0;36m_input_request\u001b[0;34m(self, prompt, ident, parent, password)\u001b[0m\n\u001b[1;32m    893\u001b[0m             \u001b[0;32mexcept\u001b[0m \u001b[0mKeyboardInterrupt\u001b[0m\u001b[0;34m:\u001b[0m\u001b[0;34m\u001b[0m\u001b[0;34m\u001b[0m\u001b[0m\n\u001b[1;32m    894\u001b[0m                 \u001b[0;31m# re-raise KeyboardInterrupt, to truncate traceback\u001b[0m\u001b[0;34m\u001b[0m\u001b[0;34m\u001b[0m\u001b[0m\n\u001b[0;32m--> 895\u001b[0;31m                 \u001b[0;32mraise\u001b[0m \u001b[0mKeyboardInterrupt\u001b[0m\u001b[0;34m(\u001b[0m\u001b[0;34m\"Interrupted by user\"\u001b[0m\u001b[0;34m)\u001b[0m \u001b[0;32mfrom\u001b[0m \u001b[0;32mNone\u001b[0m\u001b[0;34m\u001b[0m\u001b[0;34m\u001b[0m\u001b[0m\n\u001b[0m\u001b[1;32m    896\u001b[0m             \u001b[0;32mexcept\u001b[0m \u001b[0mException\u001b[0m \u001b[0;32mas\u001b[0m \u001b[0me\u001b[0m\u001b[0;34m:\u001b[0m\u001b[0;34m\u001b[0m\u001b[0;34m\u001b[0m\u001b[0m\n\u001b[1;32m    897\u001b[0m                 \u001b[0mself\u001b[0m\u001b[0;34m.\u001b[0m\u001b[0mlog\u001b[0m\u001b[0;34m.\u001b[0m\u001b[0mwarning\u001b[0m\u001b[0;34m(\u001b[0m\u001b[0;34m\"Invalid Message:\"\u001b[0m\u001b[0;34m,\u001b[0m \u001b[0mexc_info\u001b[0m\u001b[0;34m=\u001b[0m\u001b[0;32mTrue\u001b[0m\u001b[0;34m)\u001b[0m\u001b[0;34m\u001b[0m\u001b[0;34m\u001b[0m\u001b[0m\n",
            "\u001b[0;31mKeyboardInterrupt\u001b[0m: Interrupted by user"
          ]
        }
      ]
    }
  ],
  "metadata": {
    "colab": {
      "provenance": []
    },
    "kernelspec": {
      "display_name": "Python 3",
      "name": "python3"
    },
    "language_info": {
      "name": "python"
    }
  },
  "nbformat": 4,
  "nbformat_minor": 0
}